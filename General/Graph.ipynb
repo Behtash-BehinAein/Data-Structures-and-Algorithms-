{
 "cells": [
  {
   "cell_type": "markdown",
   "metadata": {},
   "source": [
    "# Implementation : MIT CLRS way"
   ]
  },
  {
   "cell_type": "code",
   "execution_count": 21,
   "metadata": {},
   "outputs": [],
   "source": [
    "class Node(object):\n",
    "    def __init__(self, val):\n",
    "        self.val = val\n",
    "        self.neighbors = []\n",
    "        self.distance  = float('inf')\n",
    "        self.pi        = None \n",
    "        self.color     = 0\n",
    "    \n",
    "    def __repr__(self):\n",
    "        if self.pi:\n",
    "            pi = self.pi.val\n",
    "        else:\n",
    "            pi = 'None'\n",
    "        return f'Node({self.val}, Distance: {self.distance},  pi: {pi},  color: {self.color})'"
   ]
  },
  {
   "cell_type": "code",
   "execution_count": 22,
   "metadata": {},
   "outputs": [],
   "source": [
    "Graph1 = [Node(i) for i in range(6)]"
   ]
  },
  {
   "cell_type": "code",
   "execution_count": 23,
   "metadata": {},
   "outputs": [],
   "source": [
    "Graph1[0].neighbors = [Graph1[i] for i in [1,2]]\n",
    "Graph1[1].neighbors = [Graph1[i] for i in [2,3]]\n",
    "Graph1[2].neighbors = [Graph1[i] for i in [3]]\n",
    "Graph1[3].neighbors = [Graph1[i] for i in [4]]\n",
    "Graph1[4].neighbors = [Graph1[i] for i in [1]]\n",
    "Graph1[5].neighbors = []\n"
   ]
  },
  {
   "cell_type": "code",
   "execution_count": 24,
   "metadata": {},
   "outputs": [],
   "source": [
    "from collections import deque\n",
    "\n",
    "def bfs(graph, node):\n",
    "    if not graph:\n",
    "        return \n",
    "    \n",
    "    # Reset the graph\n",
    "    for node in graph:\n",
    "        node.color = 0\n",
    "        node.pi    = None\n",
    "        node.distance = float('inf')\n",
    "    \n",
    "    graph[0].distance = 0\n",
    "    node_q = deque([graph[0]])\n",
    "    \n",
    "    while node_q:\n",
    "        curr = node_q.popleft()\n",
    "        curr.color = 1\n",
    "        for node in curr.neighbors:\n",
    "            if node.color == 0:\n",
    "                node.pi = curr\n",
    "                node.distance = curr.distance + 1\n",
    "                node_q.append(node)\n",
    "        curr.color = 2\n",
    "    return graph\n",
    "                \n",
    "        \n",
    "    "
   ]
  },
  {
   "cell_type": "markdown",
   "metadata": {},
   "source": [
    "# Implementation: Another way"
   ]
  },
  {
   "cell_type": "code",
   "execution_count": 2,
   "metadata": {},
   "outputs": [],
   "source": [
    "def bfs(graph, source):\n",
    "    from collections import deque\n",
    "    vertex_store = deque([source])\n",
    "    visited = set()\n",
    "    while vertex_store : \n",
    "        curr = vertex_store.popleft()\n",
    "        for neighbor in graph[curr]:\n",
    "            if neighbor not in visited: \n",
    "                vertex_store.append(neighbor)\n",
    "        visited.add(curr)\n",
    "\n",
    "    "
   ]
  },
  {
   "cell_type": "code",
   "execution_count": 3,
   "metadata": {},
   "outputs": [],
   "source": [
    "graph = {0: [1, 2], 1: [3,4], 2: [1,3], 3: [4], 4: [], 5:[]} \n",
    "bfs(graph, 0)"
   ]
  },
  {
   "cell_type": "markdown",
   "metadata": {},
   "source": [
    "# Is there a path ?"
   ]
  },
  {
   "cell_type": "code",
   "execution_count": 4,
   "metadata": {},
   "outputs": [
    {
     "data": {
      "text/plain": [
       "(False, True, False)"
      ]
     },
     "execution_count": 4,
     "metadata": {},
     "output_type": "execute_result"
    }
   ],
   "source": [
    "def bfs(graph, source, destination):\n",
    "    from collections import deque\n",
    "    vertex_store = deque([source])\n",
    "    visited = set()\n",
    "    while vertex_store : \n",
    "        curr = vertex_store.popleft()\n",
    "        for neighbor in graph[curr]:\n",
    "            \n",
    "            if neighbor == destination:\n",
    "                return True\n",
    "            \n",
    "            if neighbor not in visited: \n",
    "                vertex_store.append(neighbor)\n",
    "        visited.add(curr)\n",
    "\n",
    "    return False\n",
    "                \n",
    "def pathExists(graph, source, destination):\n",
    "    return bfs(graph, source, destination)\n",
    "    \n",
    "\n",
    "graph = {0: [1, 2], 1: [3,4], 2: [1,3], 3: [4], 4: [], 5:[]}            \n",
    "pathExists(graph, 0, 5) , pathExists(graph, 0, 4) , pathExists(graph, 1, 0) \n"
   ]
  },
  {
   "cell_type": "code",
   "execution_count": 5,
   "metadata": {},
   "outputs": [
    {
     "name": "stdout",
     "output_type": "stream",
     "text": [
      "[] inf\n",
      "[0, 1, 4] 2\n",
      "[] inf\n"
     ]
    }
   ],
   "source": [
    "def bfs(graph, source, destination):\n",
    "    from collections import deque\n",
    "    vertex_store = deque([source])\n",
    "    visited = set()\n",
    "    \n",
    "    preds = [None for i in range(len(graph))]\n",
    "    pathExists = False\n",
    "    while vertex_store : \n",
    "        curr = vertex_store.popleft()\n",
    "        for neighbor in graph[curr]:\n",
    "            preds[neighbor] = curr\n",
    "            \n",
    "            if neighbor == destination:\n",
    "                pathExists = True\n",
    "                return pathExists, preds \n",
    "            \n",
    "            if neighbor not in visited: \n",
    "                vertex_store.append(neighbor)\n",
    "        visited.add(curr)\n",
    "\n",
    "    return pathExists, []\n",
    "\n",
    "def minPath(graph, source, destination):\n",
    "    pathExists, preds = bfs(graph, source, destination)\n",
    "    \n",
    "    if not pathExists :\n",
    "        return []\n",
    "    \n",
    "    def helper(vertex):\n",
    "        if vertex == source:\n",
    "            return [source]\n",
    "        if vertex is None: \n",
    "            return []\n",
    "        return helper(preds[vertex]) + [vertex]\n",
    "    return helper(destination)\n",
    "\n",
    "def minDistance(graph, source, destination):\n",
    "    pathExists, preds = bfs(graph, source, destination)\n",
    "    if not pathExists :\n",
    "        return float('inf')\n",
    "    \n",
    "    def helper(vertex):\n",
    "        if vertex == source:\n",
    "            return 0\n",
    "        return helper(preds[vertex]) + 1\n",
    "    return helper(destination)\n",
    "\n",
    "\n",
    "\n",
    "graph = {0: [1, 2], 1: [3,4], 2: [1,3], 3: [4], 4: [], 5:[]}            \n",
    "print(minPath(graph, 0, 5)   ,  minDistance(graph, 1, 0))\n",
    "print(minPath(graph, 0, 4)   ,  minDistance(graph, 0, 4))\n",
    "print(minPath(graph, 1, 0)   ,  minDistance(graph, 1, 0))"
   ]
  },
  {
   "cell_type": "markdown",
   "metadata": {},
   "source": [
    "# Minimum Path and Minimum Distance"
   ]
  },
  {
   "cell_type": "code",
   "execution_count": 1,
   "metadata": {},
   "outputs": [
    {
     "name": "stdout",
     "output_type": "stream",
     "text": [
      "[] inf\n",
      "[0, 1, 4] 2\n",
      "[] inf\n"
     ]
    }
   ],
   "source": [
    "import collections\n",
    "def bfs(graph, source, destination): \n",
    "    visited, queue = set(), collections.deque([source])\n",
    "    visited.add(source)\n",
    "    preds = [None for i in range(len(graph))]\n",
    "    while queue: \n",
    "        vertex = queue.popleft()\n",
    "        for neighbour in graph[vertex]:\n",
    "            if neighbour not in visited:\n",
    "                preds[neighbour] = vertex\n",
    "                if neighbour == destination: \n",
    "                    return preds\n",
    "                visited.add(neighbour) \n",
    "                queue.append(neighbour)\n",
    "    return preds\n",
    "\n",
    "def minPath(graph, source, destination):\n",
    "    preds = bfs(graph, source, destination)\n",
    "    def helper(vertex):\n",
    "        if vertex == source:\n",
    "            return [source]\n",
    "        if preds[vertex] is None: \n",
    "            return []\n",
    "        return  helper(preds[vertex]) + [vertex]\n",
    "    \n",
    "    return helper(destination)\n",
    "\n",
    "\n",
    "def minDistance(graph, source, destination):\n",
    "    preds = bfs(graph, source, destination)\n",
    "    \n",
    "    def helper(vertex):\n",
    "        if vertex == source:\n",
    "            return 0\n",
    "        if vertex is None: \n",
    "            return float('inf')\n",
    "        \n",
    "        return  helper(preds[vertex]) + 1\n",
    "    \n",
    "    return helper(destination)\n",
    "\n",
    "\n",
    "\n",
    "\n",
    "graph = {0: [1, 2], 1: [3,4], 2: [1,3], 3: [4], 4: [], 5:[]}            \n",
    "print(minPath(graph, 0, 5)  ,  minDistance(graph, 1, 0))\n",
    "print(minPath(graph, 0, 4)  ,  minDistance(graph, 0, 4))\n",
    "print(minPath(graph, 1, 0)   ,  minDistance(graph, 1, 0))"
   ]
  },
  {
   "cell_type": "code",
   "execution_count": 40,
   "metadata": {},
   "outputs": [
    {
     "data": {
      "text/plain": [
       "inf"
      ]
     },
     "execution_count": 40,
     "metadata": {},
     "output_type": "execute_result"
    }
   ],
   "source": [
    "1 + float('inf')"
   ]
  },
  {
   "cell_type": "code",
   "execution_count": null,
   "metadata": {},
   "outputs": [],
   "source": []
  }
 ],
 "metadata": {
  "kernelspec": {
   "display_name": "Python 3",
   "language": "python",
   "name": "python3"
  },
  "language_info": {
   "codemirror_mode": {
    "name": "ipython",
    "version": 3
   },
   "file_extension": ".py",
   "mimetype": "text/x-python",
   "name": "python",
   "nbconvert_exporter": "python",
   "pygments_lexer": "ipython3",
   "version": "3.6.6"
  }
 },
 "nbformat": 4,
 "nbformat_minor": 2
}
