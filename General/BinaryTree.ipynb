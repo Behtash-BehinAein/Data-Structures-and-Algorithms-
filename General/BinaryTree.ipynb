{
 "cells": [
  {
   "cell_type": "code",
   "execution_count": 28,
   "metadata": {},
   "outputs": [],
   "source": [
    "class Node():\n",
    "    def __init__(self, value):\n",
    "        self.value = value\n",
    "        self.right = None\n",
    "        self.left  = None \n",
    "        self.parent = None\n",
    "    def __repr__(self):\n",
    "        return str(self.value)\n",
    "    "
   ]
  },
  {
   "cell_type": "markdown",
   "metadata": {},
   "source": [
    "# Function to generate BT from array"
   ]
  },
  {
   "cell_type": "code",
   "execution_count": 179,
   "metadata": {},
   "outputs": [],
   "source": [
    "def buildTree(arr):\n",
    "    if not arr: return Node(None)\n",
    "    \n",
    "    nodes = []\n",
    "    for value in arr: \n",
    "        if value is None: \n",
    "            nodes.append(None)\n",
    "        else:\n",
    "            nodes.append(Node(value))\n",
    "            \n",
    "    for i in range(len(nodes)):\n",
    "        if nodes[i] is not None:\n",
    "            if 2*i+1 < len(nodes):\n",
    "                nodes[i].left = nodes[2*i+1]\n",
    "\n",
    "            if 2*i+2 < len(nodes):\n",
    "                nodes[i].right = nodes[2*i+2]\n",
    "    return nodes[0]"
   ]
  },
  {
   "cell_type": "code",
   "execution_count": 193,
   "metadata": {},
   "outputs": [],
   "source": [
    "mitTree = buildTree([15,6,18,3,7,17,20,2,4,None,13,None,None,None,None,None,None,None,None, None, None ,  9 ])"
   ]
  },
  {
   "cell_type": "code",
   "execution_count": 194,
   "metadata": {},
   "outputs": [
    {
     "data": {
      "text/plain": [
       "9"
      ]
     },
     "execution_count": 194,
     "metadata": {},
     "output_type": "execute_result"
    }
   ],
   "source": [
    "mitTree.left.right.right.left.value"
   ]
  },
  {
   "cell_type": "markdown",
   "metadata": {},
   "source": [
    "# Generate a BST : same as page 290 0f MIT book"
   ]
  },
  {
   "cell_type": "code",
   "execution_count": 29,
   "metadata": {},
   "outputs": [],
   "source": [
    "root = Node(15)\n",
    "root.left , root.right = Node(6) , Node(18)\n",
    "root.left.parent , root.right.parent = root, root\n",
    "\n",
    "root.left.left , root.left.right = Node(3) , Node(7)\n",
    "root.left.left.parent , root.left.right.parent = root.left , root.left\n",
    "\n",
    "root.right.left , root.right.right = Node(17) , Node(20)\n",
    "root.right.left.parent , root.right.right.parent = root.right, root.right\n",
    "\n",
    "root.left.left.left , root.left.left.right = Node(2) , Node(4)\n",
    "root.left.left.left.parent , root.left.left.right.parent = root.left.left , root.left.left\n",
    "\n",
    "root.left.right.right        = Node(13)\n",
    "root.left.right.right.parent = root.left.right \n",
    "\n",
    "root.left.right.right.left  = Node(9) \n",
    "root.left.right.right.left.parent  = root.left.right.right\n",
    "\n"
   ]
  },
  {
   "cell_type": "code",
   "execution_count": 148,
   "metadata": {},
   "outputs": [],
   "source": [
    "root = Node(1)\n",
    "root.left = None\n",
    "root.right = Node(2)\n",
    "root.right.left = None\n",
    "root.right.right = Node(3)"
   ]
  },
  {
   "cell_type": "code",
   "execution_count": 166,
   "metadata": {},
   "outputs": [],
   "source": [
    "root = Node(2)\n",
    "root.left = None\n",
    "root.right = Node(3)"
   ]
  },
  {
   "cell_type": "markdown",
   "metadata": {},
   "source": [
    "# Tree height "
   ]
  },
  {
   "cell_type": "code",
   "execution_count": 120,
   "metadata": {},
   "outputs": [
    {
     "data": {
      "text/plain": [
       "4"
      ]
     },
     "execution_count": 120,
     "metadata": {},
     "output_type": "execute_result"
    }
   ],
   "source": [
    "def treeHeight(node, level):\n",
    "    if node and (node.left or node.right):\n",
    "        return max(treeHeight(node.left, level+1) , treeHeight(node.right, level+1))\n",
    "    return level\n",
    "treeHeight(root, 0)\n",
    "    "
   ]
  },
  {
   "cell_type": "code",
   "execution_count": 167,
   "metadata": {},
   "outputs": [
    {
     "data": {
      "text/plain": [
       "1"
      ]
     },
     "execution_count": 167,
     "metadata": {},
     "output_type": "execute_result"
    }
   ],
   "source": [
    "def treeHeight(node):\n",
    "    if node and (node.left or node.right):\n",
    "        return 1 + max(treeHeight(node.left) , treeHeight(node.right))\n",
    "    return 0 \n",
    "\n",
    "treeHeight(root)\n"
   ]
  },
  {
   "cell_type": "code",
   "execution_count": 182,
   "metadata": {},
   "outputs": [
    {
     "data": {
      "text/plain": [
       "3"
      ]
     },
     "execution_count": 182,
     "metadata": {},
     "output_type": "execute_result"
    }
   ],
   "source": [
    "def treeHeight(node):\n",
    "    if node:\n",
    "        return 1 + max(treeHeight(node.left) , treeHeight(node.right))\n",
    "    return -1\n",
    "\n",
    "treeHeight(mitTree)\n"
   ]
  },
  {
   "cell_type": "code",
   "execution_count": 136,
   "metadata": {},
   "outputs": [
    {
     "data": {
      "text/plain": [
       "(False, 4)"
      ]
     },
     "execution_count": 136,
     "metadata": {},
     "output_type": "execute_result"
    }
   ],
   "source": [
    "def checkBalance(node):\n",
    "    if node:\n",
    "        bl ,hl  = checkBalance(node.left)\n",
    "        br , hr  = checkBalance(node.right)\n",
    "        depth = max(hl,hr)\n",
    "        if node.left or node.right:\n",
    "            depth+=1\n",
    "        return (bl and br) and (abs(hl-hr) <=1) , depth\n",
    "    \n",
    "    return True, 0\n",
    "    \n",
    "checkBalance(root)"
   ]
  },
  {
   "cell_type": "code",
   "execution_count": 155,
   "metadata": {},
   "outputs": [
    {
     "name": "stdout",
     "output_type": "stream",
     "text": [
      "height: (3, 0, 0, 0)\n",
      "height: (2, 1, 0, 0)\n",
      "height: (1, 2, 0, 1)\n"
     ]
    },
    {
     "data": {
      "text/plain": [
       "2"
      ]
     },
     "execution_count": 155,
     "metadata": {},
     "output_type": "execute_result"
    }
   ],
   "source": [
    "def checkBalance(node):\n",
    "    if node:\n",
    "        \n",
    "        hl  = checkBalance(node.left)\n",
    "        if hl<0: return -1\n",
    "        hr  = checkBalance(node.right)\n",
    "        if hr<0: return -1\n",
    "        \n",
    "        height = max(hl,hr)\n",
    "        if node.left or node.right: \n",
    "            height+=1\n",
    "        print(f'height: {node.value, height, hl, hr}')\n",
    "            \n",
    "        if abs(hl-hr)>1:\n",
    "            return -1\n",
    "        \n",
    "        else:\n",
    "            return height     \n",
    "    return 0\n",
    "    \n",
    "checkBalance(root)"
   ]
  },
  {
   "cell_type": "code",
   "execution_count": 161,
   "metadata": {},
   "outputs": [
    {
     "name": "stdout",
     "output_type": "stream",
     "text": [
      "height: (3, 0, -1, -1)\n",
      "height: (2, 1, -1, 0)\n",
      "height: (1, 2, -1, 1)\n"
     ]
    },
    {
     "data": {
      "text/plain": [
       "-inf"
      ]
     },
     "execution_count": 161,
     "metadata": {},
     "output_type": "execute_result"
    }
   ],
   "source": [
    "def checkBalance(node):\n",
    "    if node:\n",
    "        hl  = checkBalance(node.left)\n",
    "        if hl==float('-inf'): return float('-inf')\n",
    "        hr  = checkBalance(node.right)\n",
    "        if hr==float('-inf'): return float('-inf')\n",
    "        \n",
    "        height = 1 + max(hl,hr)\n",
    "        #if node.left or node.right: \n",
    "        #    height+=1\n",
    "        print(f'height: {node.value, height, hl, hr}')\n",
    "            \n",
    "        if abs(hl-hr)>1:\n",
    "            return float('-inf')\n",
    "        \n",
    "        else:\n",
    "            return height   \n",
    "        \n",
    "    return -1\n",
    "    \n",
    "checkBalance(root)"
   ]
  },
  {
   "cell_type": "code",
   "execution_count": 160,
   "metadata": {},
   "outputs": [
    {
     "data": {
      "text/plain": [
       "True"
      ]
     },
     "execution_count": 160,
     "metadata": {},
     "output_type": "execute_result"
    }
   ],
   "source": [
    "float('inf') == float('inf')"
   ]
  },
  {
   "cell_type": "code",
   "execution_count": 143,
   "metadata": {},
   "outputs": [
    {
     "data": {
      "text/plain": [
       "3"
      ]
     },
     "execution_count": 143,
     "metadata": {},
     "output_type": "execute_result"
    }
   ],
   "source": [
    "checkBalance(bst1)"
   ]
  },
  {
   "cell_type": "markdown",
   "metadata": {},
   "source": [
    "# DFS"
   ]
  },
  {
   "cell_type": "markdown",
   "metadata": {},
   "source": [
    "### - In order traversal"
   ]
  },
  {
   "cell_type": "markdown",
   "metadata": {},
   "source": [
    "- Recursive"
   ]
  },
  {
   "cell_type": "code",
   "execution_count": 181,
   "metadata": {},
   "outputs": [
    {
     "data": {
      "text/plain": [
       "[2, 3, 4, 6, 7, 13, 15, 9, 17, 18, 20]"
      ]
     },
     "execution_count": 181,
     "metadata": {},
     "output_type": "execute_result"
    }
   ],
   "source": [
    "def inOrderTraversal(arr, node):\n",
    "    if node: \n",
    "        inOrderTraversal(arr, node.left)\n",
    "        arr.append(node.value)\n",
    "        inOrderTraversal(arr, node.right)\n",
    "        \n",
    "arr = []\n",
    "inOrderTraversal(arr,mitTree)\n",
    "arr"
   ]
  },
  {
   "cell_type": "markdown",
   "metadata": {},
   "source": [
    "- Iterative"
   ]
  },
  {
   "cell_type": "code",
   "execution_count": 9,
   "metadata": {},
   "outputs": [
    {
     "data": {
      "text/plain": [
       "[2, 3, 4, 6, 7, 9, 13, 15, 17, 18, 20]"
      ]
     },
     "execution_count": 9,
     "metadata": {},
     "output_type": "execute_result"
    }
   ],
   "source": [
    "def inOrderTraversal(arr,node):\n",
    "    s = []\n",
    "    while s or node:\n",
    "        if node:\n",
    "            s.append(node)\n",
    "            node = node.left\n",
    "        else: \n",
    "            node = s.pop()\n",
    "            arr.append(node.value)   # visit \n",
    "            node = node.right\n",
    "            \n",
    "            \n",
    "arr = []\n",
    "preOrderTraversal(arr,root)\n",
    "arr     "
   ]
  },
  {
   "cell_type": "markdown",
   "metadata": {},
   "source": [
    "### - Pre order traversal"
   ]
  },
  {
   "cell_type": "markdown",
   "metadata": {},
   "source": [
    "- Recursive"
   ]
  },
  {
   "cell_type": "code",
   "execution_count": 110,
   "metadata": {},
   "outputs": [
    {
     "data": {
      "text/plain": [
       "[15, 6, 3, 2, 4, 7, 13, 9, 18, 17, 20]"
      ]
     },
     "execution_count": 110,
     "metadata": {},
     "output_type": "execute_result"
    }
   ],
   "source": [
    "def preOrderTraversal(arr,node):\n",
    "    if node: \n",
    "        arr.append(node.value)\n",
    "        preOrderTraversal(arr,node.left)\n",
    "        preOrderTraversal(arr,node.right)\n",
    "        \n",
    "\n",
    "arr = []\n",
    "preOrderTraversal(arr,root)\n",
    "arr    "
   ]
  },
  {
   "cell_type": "markdown",
   "metadata": {},
   "source": [
    "- Iterative"
   ]
  },
  {
   "cell_type": "code",
   "execution_count": 111,
   "metadata": {},
   "outputs": [
    {
     "data": {
      "text/plain": [
       "[15, 6, 3, 2, 4, 7, 13, 9, 18, 17, 20]"
      ]
     },
     "execution_count": 111,
     "metadata": {},
     "output_type": "execute_result"
    }
   ],
   "source": [
    "def preOrderTraversal(arr,node):\n",
    "    s = []\n",
    "    while s or node:\n",
    "        if node:\n",
    "            arr.append(node.value)  # visit \n",
    "            s.append(node)\n",
    "            node = node.left\n",
    "        else: \n",
    "            node = s.pop()\n",
    "            node = node.right\n",
    "\n",
    "            \n",
    "arr = []\n",
    "preOrderTraversal(arr,root)\n",
    "arr      "
   ]
  },
  {
   "cell_type": "code",
   "execution_count": 113,
   "metadata": {},
   "outputs": [
    {
     "data": {
      "text/plain": [
       "[15, 6, 3, 2, 4, 7, 13, 9, 18, 17, 20]"
      ]
     },
     "execution_count": 113,
     "metadata": {},
     "output_type": "execute_result"
    }
   ],
   "source": [
    "def preOrderTraversal(node):\n",
    "\n",
    "    res = []\n",
    "    s = []\n",
    "    while node or s :\n",
    "        if node: \n",
    "            res.append(node.value)\n",
    "            s.append(node)\n",
    "            node=node.left\n",
    "        else: \n",
    "            node = s.pop()\n",
    "            node = node.right \n",
    "    return res\n",
    "    \n",
    "preOrderTraversal(root)"
   ]
  },
  {
   "cell_type": "code",
   "execution_count": 101,
   "metadata": {},
   "outputs": [
    {
     "data": {
      "text/plain": [
       "1"
      ]
     },
     "execution_count": 101,
     "metadata": {},
     "output_type": "execute_result"
    }
   ],
   "source": [
    "zz = []\n",
    "zz.append(None)\n",
    "len(zz)"
   ]
  },
  {
   "cell_type": "markdown",
   "metadata": {},
   "source": [
    "### - Post order traversal"
   ]
  },
  {
   "cell_type": "markdown",
   "metadata": {},
   "source": [
    "- Recursive"
   ]
  },
  {
   "cell_type": "code",
   "execution_count": 13,
   "metadata": {},
   "outputs": [
    {
     "data": {
      "text/plain": [
       "[2, 4, 3, 9, 13, 7, 6, 17, 20, 18, 15]"
      ]
     },
     "execution_count": 13,
     "metadata": {},
     "output_type": "execute_result"
    }
   ],
   "source": [
    "def postOrderTraversal(arr,node):\n",
    "    if node: \n",
    "        postOrderTraversal(arr,node.left)\n",
    "        postOrderTraversal(arr,node.right)\n",
    "        arr.append(node.value)  # visit \n",
    "\n",
    "\n",
    "arr = []\n",
    "postOrderTraversal(arr,root)\n",
    "arr    "
   ]
  },
  {
   "cell_type": "markdown",
   "metadata": {},
   "source": [
    "- Iterative x"
   ]
  },
  {
   "cell_type": "code",
   "execution_count": 18,
   "metadata": {},
   "outputs": [
    {
     "ename": "AttributeError",
     "evalue": "'NoneType' object has no attribute 'value'",
     "output_type": "error",
     "traceback": [
      "\u001b[1;31m---------------------------------------------------------------------------\u001b[0m",
      "\u001b[1;31mAttributeError\u001b[0m                            Traceback (most recent call last)",
      "\u001b[1;32m<ipython-input-18-31c5f5d202d9>\u001b[0m in \u001b[0;36m<module>\u001b[1;34m\u001b[0m\n\u001b[0;32m     13\u001b[0m \u001b[1;33m\u001b[0m\u001b[0m\n\u001b[0;32m     14\u001b[0m \u001b[0marr\u001b[0m \u001b[1;33m=\u001b[0m \u001b[1;33m[\u001b[0m\u001b[1;33m]\u001b[0m\u001b[1;33m\u001b[0m\u001b[0m\n\u001b[1;32m---> 15\u001b[1;33m \u001b[0mpostOrderTraversal\u001b[0m\u001b[1;33m(\u001b[0m\u001b[0marr\u001b[0m\u001b[1;33m,\u001b[0m\u001b[0mroot\u001b[0m\u001b[1;33m)\u001b[0m\u001b[1;33m\u001b[0m\u001b[0m\n\u001b[0m\u001b[0;32m     16\u001b[0m \u001b[0marr\u001b[0m\u001b[1;33m\u001b[0m\u001b[0m\n",
      "\u001b[1;32m<ipython-input-18-31c5f5d202d9>\u001b[0m in \u001b[0;36mpostOrderTraversal\u001b[1;34m(arr, node)\u001b[0m\n\u001b[0;32m      9\u001b[0m             \u001b[0mnode\u001b[0m \u001b[1;33m=\u001b[0m \u001b[0ms\u001b[0m\u001b[1;33m.\u001b[0m\u001b[0mpop\u001b[0m\u001b[1;33m(\u001b[0m\u001b[1;33m)\u001b[0m\u001b[1;33m\u001b[0m\u001b[0m\n\u001b[0;32m     10\u001b[0m             \u001b[0mnode\u001b[0m \u001b[1;33m=\u001b[0m \u001b[0mnode\u001b[0m\u001b[1;33m.\u001b[0m\u001b[0mright\u001b[0m\u001b[1;33m\u001b[0m\u001b[0m\n\u001b[1;32m---> 11\u001b[1;33m             \u001b[0marr\u001b[0m\u001b[1;33m.\u001b[0m\u001b[0mappend\u001b[0m\u001b[1;33m(\u001b[0m\u001b[0mnode\u001b[0m\u001b[1;33m.\u001b[0m\u001b[0mvalue\u001b[0m\u001b[1;33m)\u001b[0m  \u001b[1;31m# visit\u001b[0m\u001b[1;33m\u001b[0m\u001b[0m\n\u001b[0m\u001b[0;32m     12\u001b[0m \u001b[1;33m\u001b[0m\u001b[0m\n\u001b[0;32m     13\u001b[0m \u001b[1;33m\u001b[0m\u001b[0m\n",
      "\u001b[1;31mAttributeError\u001b[0m: 'NoneType' object has no attribute 'value'"
     ]
    }
   ],
   "source": [
    "def postOrderTraversal(arr,node):\n",
    "    s = []\n",
    "    while s or node:\n",
    "        if node:\n",
    "            #arr.append(node.value)  # visit \n",
    "            s.append(node)\n",
    "            node = node.left\n",
    "        else: \n",
    "            node = s.pop()\n",
    "            node = node.right\n",
    "            arr.append(node.value)  # visit \n",
    "            \n",
    "            \n",
    "arr = []\n",
    "postOrderTraversal(arr,root)\n",
    "arr      "
   ]
  },
  {
   "cell_type": "markdown",
   "metadata": {},
   "source": [
    "# BFS"
   ]
  },
  {
   "cell_type": "markdown",
   "metadata": {},
   "source": [
    "- Method 1 : array | Iterative "
   ]
  },
  {
   "cell_type": "code",
   "execution_count": 74,
   "metadata": {},
   "outputs": [
    {
     "data": {
      "text/plain": [
       "[[15], [6, 18], [3, 7, 17, 20], [2, 4, 13], [9]]"
      ]
     },
     "execution_count": 74,
     "metadata": {},
     "output_type": "execute_result"
    }
   ],
   "source": [
    "def levelOrderTraversal(root):\n",
    "    if root:\n",
    "        treeLevels = []\n",
    "        treeLevels.append([root])\n",
    "        for level in treeLevels:\n",
    "            children = []\n",
    "            for node in level: \n",
    "                if node.left:  children.append(node.left)\n",
    "                if node.right: children.append(node.right)\n",
    "            if children:\n",
    "                treeLevels.append(children)\n",
    "\n",
    "        return [[node.value for node in level] for level in treeLevels]\n",
    "    \n",
    "levelOrderTraversal(root)\n",
    "    "
   ]
  },
  {
   "cell_type": "code",
   "execution_count": 16,
   "metadata": {},
   "outputs": [
    {
     "data": {
      "text/plain": [
       "[[15], [18, 6], [3, 7, 17, 20], [13, 4, 2], [9]]"
      ]
     },
     "execution_count": 16,
     "metadata": {},
     "output_type": "execute_result"
    }
   ],
   "source": [
    "def zigzagLevelOrder(root) :\n",
    "    if root: \n",
    "        RtoL = True \n",
    "        tree_levels = [[root]]\n",
    "        for level in tree_levels: \n",
    "            children = []\n",
    "            for node in reversed(level):\n",
    "                if RtoL: \n",
    "                    if node.right: children.append(node.right)\n",
    "                    if node.left: children.append(node.left)\n",
    "                else:\n",
    "                    if node.left: children.append(node.left)\n",
    "                    if node.right: children.append(node.right)\n",
    "            if children:\n",
    "                tree_levels.append(children)\n",
    "            RtoL = not RtoL\n",
    "\n",
    "        return [[node.value for node in level] for level in tree_levels]\n",
    "    \n",
    "zigzagLevelOrder(root)"
   ]
  },
  {
   "cell_type": "markdown",
   "metadata": {},
   "source": [
    "- Method 2 : queue (standard) | Iterative"
   ]
  },
  {
   "cell_type": "code",
   "execution_count": 196,
   "metadata": {},
   "outputs": [
    {
     "data": {
      "text/plain": [
       "[[2], [3]]"
      ]
     },
     "execution_count": 196,
     "metadata": {},
     "output_type": "execute_result"
    }
   ],
   "source": [
    "def levelOrderTraversal(root):\n",
    "    \n",
    "    from collections import deque\n",
    "    \n",
    "    if root:\n",
    "        tmp_str = deque([root])\n",
    "        level_ordered_nodes  = []\n",
    "        level  = 0 \n",
    "        while tmp_str:\n",
    "            level_ordered_nodes.append([])\n",
    "            n_nodes_level = len(tmp_str)\n",
    "            \n",
    "            for i in range(n_nodes_level):\n",
    "                node = tmp_str.popleft()\n",
    "                level_ordered_nodes[level].append(node.value)\n",
    "                \n",
    "                if node.left: tmp_str.append(node.left)\n",
    "                if node.right: tmp_str.append(node.right)\n",
    "            level+=1\n",
    "\n",
    "        return level_ordered_nodes      \n",
    "                \n",
    "levelOrderTraversal(root)      \n",
    "    \n",
    "    "
   ]
  },
  {
   "cell_type": "markdown",
   "metadata": {},
   "source": [
    "- two stacks | iterative"
   ]
  },
  {
   "cell_type": "code",
   "execution_count": 73,
   "metadata": {},
   "outputs": [
    {
     "data": {
      "text/plain": [
       "[[15], [18, 6], [3, 7, 17, 20], [13, 4, 2], [9]]"
      ]
     },
     "execution_count": 73,
     "metadata": {},
     "output_type": "execute_result"
    }
   ],
   "source": [
    "def zigzagLevelOrder(root) :\n",
    "    \n",
    "    from collections import deque\n",
    "    \n",
    "    if root:\n",
    "        currentLevel = [root]\n",
    "        nextLevel     = []\n",
    "        level_ordered_nodes  = []\n",
    "        level = 0 \n",
    "        RtoL  = False\n",
    "        while currentLevel:\n",
    "            level_ordered_nodes.append([])\n",
    "            n_nodes_level = len(currentLevel)\n",
    "            for i in range(n_nodes_level):\n",
    "                node = currentLevel.pop()\n",
    "                level_ordered_nodes[level].append(node.value)\n",
    "                \n",
    "                \n",
    "                if RtoL: \n",
    "                    if node.right: nextLevel.append(node.right)\n",
    "                    if node.left:  nextLevel.append(node.left)\n",
    "                else: \n",
    "                    if node.left:  nextLevel.append(node.left)\n",
    "                    if node.right: nextLevel.append(node.right)\n",
    "            level+=1\n",
    "            RtoL = not RtoL\n",
    "            currentLevel, nextLevel = nextLevel , []\n",
    "            \n",
    "        return level_ordered_nodes       \n",
    "                \n",
    "zigzagLevelOrder(root)   \n"
   ]
  },
  {
   "cell_type": "markdown",
   "metadata": {},
   "source": [
    "- Method 3: Using a queue (standard). Answer does not have level information | Iterative"
   ]
  },
  {
   "cell_type": "code",
   "execution_count": 7,
   "metadata": {},
   "outputs": [
    {
     "data": {
      "text/plain": [
       "[15, 6, 18, 3, 7, 17, 20, 2, 4, 13, 9]"
      ]
     },
     "execution_count": 7,
     "metadata": {},
     "output_type": "execute_result"
    }
   ],
   "source": [
    "def levelOrderTraversal(root):\n",
    "    \n",
    "    \n",
    "    from collections import deque\n",
    "\n",
    "    tmp_strg = deque([])\n",
    "    tmp_strg.append(root)\n",
    "    ans = []\n",
    "    while tmp_strg: \n",
    "        curr_node = tmp_strg.popleft()\n",
    "        ans.append(curr_node.value)\n",
    "        \n",
    "        if curr_node.left: \n",
    "            tmp_strg.append(curr_node.left)\n",
    "\n",
    "        if curr_node.right: \n",
    "            tmp_strg.append(curr_node.right)\n",
    "    return ans \n",
    "\n",
    "\n",
    "levelOrderTraversal(root)"
   ]
  },
  {
   "cell_type": "markdown",
   "metadata": {},
   "source": [
    "- Method 4: Recursive without level information"
   ]
  },
  {
   "cell_type": "code",
   "execution_count": 99,
   "metadata": {},
   "outputs": [
    {
     "data": {
      "text/plain": [
       "[15, 6, 18, 3, 7, 17, 20, 2, 4, 13, 9]"
      ]
     },
     "execution_count": 99,
     "metadata": {},
     "output_type": "execute_result"
    }
   ],
   "source": [
    "def levelOrderTraversal(root):\n",
    "    tree_levels = []\n",
    "    def helper(node, level):\n",
    "        if node:\n",
    "            if len(tree_levels) == level:\n",
    "                tree_levels.append([])\n",
    "            tree_levels[level].append(node.value)   # Works with inorder / preorder / postorder \n",
    "            helper(node.left  , level+1)\n",
    "            helper(node.right , level+1)\n",
    "\n",
    "        return [ele for level in tree_levels for ele in level]  # Flatten list of lists \n",
    "    return helper(root,0)\n",
    "\n",
    "\n",
    "levelOrderTraversal(root)"
   ]
  },
  {
   "cell_type": "markdown",
   "metadata": {},
   "source": [
    "- Method 5: Recursive with level information"
   ]
  },
  {
   "cell_type": "code",
   "execution_count": 80,
   "metadata": {},
   "outputs": [
    {
     "data": {
      "text/plain": [
       "[[15], [6, 18], [3, 7, 17, 20], [2, 4, 13], [9]]"
      ]
     },
     "execution_count": 80,
     "metadata": {},
     "output_type": "execute_result"
    }
   ],
   "source": [
    "def levelOrderTraversal(root):\n",
    "    ans = []\n",
    "    def helper(node, level):\n",
    "        if node:\n",
    "            if len(ans) == level:\n",
    "                ans.append([])\n",
    "            ans[level].append(node.value)   # Works with inorder / preorder / postorder \n",
    "            helper(node.left  , level+1)\n",
    "            helper(node.right , level+1)\n",
    "\n",
    "        return ans\n",
    "    return helper(root,0)\n",
    "\n",
    "\n",
    "levelOrderTraversal(root)"
   ]
  },
  {
   "cell_type": "code",
   "execution_count": 17,
   "metadata": {},
   "outputs": [
    {
     "name": "stdout",
     "output_type": "stream",
     "text": [
      "Collecting pytreelib\n",
      "  Downloading https://files.pythonhosted.org/packages/cc/8e/77f7b583490c6d4b569d68e6ccb918db729a5d80a0edf55aeb8303a062c1/pytreelib-0.1.1-py3-none-any.whl\n",
      "Installing collected packages: pytreelib\n",
      "Successfully installed pytreelib-0.1.1\n"
     ]
    }
   ],
   "source": [
    "#!pip install binarytree\n",
    "!pip install pytreelib"
   ]
  },
  {
   "cell_type": "code",
   "execution_count": 121,
   "metadata": {},
   "outputs": [],
   "source": [
    "from binarytree import bst\n",
    "from pytreelib import BinarySearchTree"
   ]
  },
  {
   "cell_type": "code",
   "execution_count": 140,
   "metadata": {},
   "outputs": [
    {
     "name": "stdout",
     "output_type": "stream",
     "text": [
      "\n",
      "        ______7_______\n",
      "       /              \\\n",
      "    __3__           ___11___\n",
      "   /     \\         /        \\\n",
      "  1       5       9         _13\n",
      " / \\     / \\     / \\       /   \\\n",
      "0   2   4   6   8   10    12    14\n",
      "\n"
     ]
    }
   ],
   "source": [
    "bst1 = bst(height=3, is_perfect=True)\n",
    "print(bst1)"
   ]
  },
  {
   "cell_type": "code",
   "execution_count": 125,
   "metadata": {},
   "outputs": [
    {
     "data": {
      "text/plain": [
       "3"
      ]
     },
     "execution_count": 125,
     "metadata": {},
     "output_type": "execute_result"
    }
   ],
   "source": [
    "treeHeight(bst1,0)"
   ]
  },
  {
   "cell_type": "code",
   "execution_count": 138,
   "metadata": {},
   "outputs": [
    {
     "data": {
      "text/plain": [
       "(True, 3)"
      ]
     },
     "execution_count": 138,
     "metadata": {},
     "output_type": "execute_result"
    }
   ],
   "source": [
    "checkBalance(bst1)"
   ]
  },
  {
   "cell_type": "code",
   "execution_count": null,
   "metadata": {},
   "outputs": [],
   "source": []
  },
  {
   "cell_type": "code",
   "execution_count": 38,
   "metadata": {},
   "outputs": [],
   "source": [
    "bst2 = BinarySearchTree([15,6,18,3,7,17,20,2,4,13,9])"
   ]
  },
  {
   "cell_type": "code",
   "execution_count": 39,
   "metadata": {},
   "outputs": [
    {
     "data": {
      "text/plain": [
       "[[15], [6, 18], [3, 7, 17, 20], [2, 4, 13], [9]]"
      ]
     },
     "execution_count": 39,
     "metadata": {},
     "output_type": "execute_result"
    }
   ],
   "source": [
    "root = bst2.root\n",
    "levelOrderTraversal(root)"
   ]
  },
  {
   "cell_type": "code",
   "execution_count": 50,
   "metadata": {},
   "outputs": [
    {
     "data": {
      "text/plain": [
       "(<pytreelib.node.BinaryTreeNode at 0x2717edd8748>, 17)"
      ]
     },
     "execution_count": 50,
     "metadata": {},
     "output_type": "execute_result"
    }
   ],
   "source": [
    "node  = bst2.search(17)\n",
    "node, node.value"
   ]
  },
  {
   "cell_type": "markdown",
   "metadata": {},
   "source": [
    "# Search"
   ]
  },
  {
   "cell_type": "code",
   "execution_count": 42,
   "metadata": {},
   "outputs": [
    {
     "name": "stdout",
     "output_type": "stream",
     "text": [
      "None\n"
     ]
    }
   ],
   "source": [
    "def search(element, node):\n",
    "    \n",
    "    if node: \n",
    "        if element == node.value:\n",
    "            return node\n",
    "        if element > node.value:\n",
    "            return search(element, node.right)\n",
    "        if element < node.value:\n",
    "            return search(element, node.left)\n",
    "\n",
    "    return None \n",
    "    \n",
    "    \n",
    "node = search(54,root)\n",
    "print(node)"
   ]
  },
  {
   "cell_type": "markdown",
   "metadata": {},
   "source": [
    "# Successor in BST"
   ]
  },
  {
   "cell_type": "markdown",
   "metadata": {},
   "source": [
    "- minimum function for BST"
   ]
  },
  {
   "cell_type": "code",
   "execution_count": 71,
   "metadata": {},
   "outputs": [
    {
     "data": {
      "text/plain": [
       "9"
      ]
     },
     "execution_count": 71,
     "metadata": {},
     "output_type": "execute_result"
    }
   ],
   "source": [
    "def minimum(node):\n",
    "    while node.left: \n",
    "        node = node.left\n",
    "    return node\n",
    "\n",
    "minimum(root).value\n",
    "minimum(root.left.right.right).value"
   ]
  },
  {
   "cell_type": "code",
   "execution_count": 26,
   "metadata": {},
   "outputs": [
    {
     "data": {
      "text/plain": [
       "2"
      ]
     },
     "execution_count": 26,
     "metadata": {},
     "output_type": "execute_result"
    }
   ],
   "source": [
    "def treeMin(node):\n",
    "    if node.left: \n",
    "        return treeMin(node.left) \n",
    "    return node \n",
    "\n",
    "treeMin(root).value"
   ]
  },
  {
   "cell_type": "markdown",
   "metadata": {},
   "source": [
    "    - Using parent node "
   ]
  },
  {
   "cell_type": "code",
   "execution_count": 27,
   "metadata": {},
   "outputs": [
    {
     "data": {
      "text/plain": [
       "<__main__.Node at 0x237331fceb8>"
      ]
     },
     "execution_count": 27,
     "metadata": {},
     "output_type": "execute_result"
    }
   ],
   "source": [
    "def successor(node):\n",
    "    \n",
    "    if node.right:\n",
    "        return minimum(node.right)\n",
    "    \n",
    "    while node.parent and node.parent.right == node:\n",
    "        node = node.parent\n",
    "        \n",
    "    return node.parent \n",
    "\n",
    "\n",
    "#successor(root).value\n",
    "#successor(root.left.right).value\n",
    "#successor(root.left.right.right).value\n",
    "#successor(root.left.left.left).value\n",
    "successor(root.left.left.right)\n",
    "#successor(root.right.right.right).value\n"
   ]
  },
  {
   "cell_type": "markdown",
   "metadata": {},
   "source": [
    "    - Without using parent node | Iterative"
   ]
  },
  {
   "cell_type": "code",
   "execution_count": 31,
   "metadata": {},
   "outputs": [
    {
     "data": {
      "text/plain": [
       "6"
      ]
     },
     "execution_count": 31,
     "metadata": {},
     "output_type": "execute_result"
    }
   ],
   "source": [
    "def successor(root, node):\n",
    "    \n",
    "    \n",
    "    if node.right:\n",
    "        return minimum(node.right)\n",
    "    \n",
    "    succ = None\n",
    "    while root: \n",
    "        \n",
    "        if node.value < root.value:\n",
    "            succ = root\n",
    "            root = root.left\n",
    "        elif node.value > root.value:\n",
    "            root = root.right\n",
    "        else: \n",
    "            return succ\n",
    "\n",
    "\n",
    "#successor(root,root).value\n",
    "#successor(root, root.left.right).value\n",
    "#successor(root, root.left.right.right).value\n",
    "#successor(root, root.left.left.left).value\n",
    "successor(root,root.left.left.right)\n",
    "#successor(root, root.right.right.right).value\n"
   ]
  },
  {
   "cell_type": "markdown",
   "metadata": {},
   "source": [
    "    - Without using parent node | recursive"
   ]
  },
  {
   "cell_type": "code",
   "execution_count": 34,
   "metadata": {},
   "outputs": [
    {
     "data": {
      "text/plain": [
       "6"
      ]
     },
     "execution_count": 34,
     "metadata": {},
     "output_type": "execute_result"
    }
   ],
   "source": [
    "def successor(node, root):\n",
    "    \n",
    "    if node.right: \n",
    "        return treeMin(node.right)\n",
    "    \n",
    "    \n",
    "    \n",
    "    def helper(root, succ):\n",
    "        if root.value > node.value:\n",
    "            succ = root\n",
    "            return helper(root.left, succ)\n",
    "        if root.value < node.value:\n",
    "            return helper(root.right, succ)\n",
    "        \n",
    "        return succ\n",
    "    \n",
    "    return helper(root, None)\n",
    "\n",
    "\n",
    "successor(root.left.left.right, root)"
   ]
  },
  {
   "cell_type": "markdown",
   "metadata": {},
   "source": [
    "# Predecessor in BST"
   ]
  },
  {
   "cell_type": "markdown",
   "metadata": {},
   "source": [
    "- maximum function for BST"
   ]
  },
  {
   "cell_type": "code",
   "execution_count": 101,
   "metadata": {},
   "outputs": [
    {
     "data": {
      "text/plain": [
       "13"
      ]
     },
     "execution_count": 101,
     "metadata": {},
     "output_type": "execute_result"
    }
   ],
   "source": [
    "def maximum(node):\n",
    "    while node.right: \n",
    "        node = node.right\n",
    "    return node\n",
    "\n",
    "#maximum(root).value\n",
    "maximum(root.left).value\n",
    "#maximum(root.left.right.right).value\n"
   ]
  },
  {
   "cell_type": "markdown",
   "metadata": {},
   "source": [
    "    - Using parent node "
   ]
  },
  {
   "cell_type": "code",
   "execution_count": 121,
   "metadata": {},
   "outputs": [
    {
     "data": {
      "text/plain": [
       "13"
      ]
     },
     "execution_count": 121,
     "metadata": {},
     "output_type": "execute_result"
    }
   ],
   "source": [
    "def predecessor(node):\n",
    "    \n",
    "    if node.left: \n",
    "        return maximum(node.left)\n",
    "    \n",
    "    while node.parent and node.parent.left==node:   # Go up the tree while node is the left child\n",
    "        node = node.parent\n",
    "        \n",
    "    return node.parent \n",
    "        \n",
    "        \n",
    "    \n",
    "predecessor(root).value\n",
    "#predecessor(root.left.right).value\n",
    "#predecessor(root.right.left).value\n",
    "#predecessor(root.left.right.right).value\n",
    "#predecessor(root.left.left.left).value\n",
    "#predecessor(root.left.left.right).value\n",
    "#predecessor(root.right.right).value      "
   ]
  },
  {
   "cell_type": "markdown",
   "metadata": {},
   "source": [
    "- Without using parent node "
   ]
  },
  {
   "cell_type": "code",
   "execution_count": 120,
   "metadata": {},
   "outputs": [
    {
     "data": {
      "text/plain": [
       "13"
      ]
     },
     "execution_count": 120,
     "metadata": {},
     "output_type": "execute_result"
    }
   ],
   "source": [
    "def predecessor(root, node):\n",
    "    \n",
    "    if node.left: \n",
    "        return maximum(node.left)\n",
    "    \n",
    "    while root.right or root.left:\n",
    "        if node.value > root.value:\n",
    "            candidate = root\n",
    "            root = root.right\n",
    "            \n",
    "        if node.value < root.value:\n",
    "            root = root.left\n",
    "        \n",
    "        if node.value == root.value:\n",
    "            return candidate\n",
    "            \n",
    "\n",
    "    \n",
    "predecessor(root, root).value\n",
    "#predecessor(root, root.left.right).value\n",
    "#predecessor(root, root.right.left).value\n",
    "#predecessor(root, root.left.right.right).value\n",
    "#predecessor(root, root.left.left.left).value\n",
    "#predecessor(root, root.left.left.right).value\n",
    "#predecessor(root, root.right.right).value      "
   ]
  },
  {
   "cell_type": "markdown",
   "metadata": {},
   "source": [
    "# Insertion"
   ]
  },
  {
   "cell_type": "code",
   "execution_count": 8,
   "metadata": {},
   "outputs": [
    {
     "data": {
      "text/plain": [
       "[[15], [6, 18], [3, 7, 17, 20], [2, 4, 13, 54], [5, 9], [11]]"
      ]
     },
     "execution_count": 8,
     "metadata": {},
     "output_type": "execute_result"
    }
   ],
   "source": [
    "def insert(tree_node, node):\n",
    "    \n",
    "    while tree_node: \n",
    "        if node.value >= tree_node.value:\n",
    "            if not tree_node.right:\n",
    "                tree_node.right = node\n",
    "                break \n",
    "            tree_node = tree_node.right\n",
    "        else:\n",
    "            if not tree_node.left:\n",
    "                tree_node.left = node\n",
    "                break \n",
    "            tree_node = tree_node.left\n",
    "    \n",
    "    \n",
    "    \n",
    "node = Node(5)\n",
    "#node.left = None\n",
    "#node.right = None\n",
    "insert(root,node)\n",
    "\n",
    "levelOrderTraversal(root)"
   ]
  },
  {
   "cell_type": "code",
   "execution_count": 198,
   "metadata": {},
   "outputs": [
    {
     "data": {
      "text/plain": [
       "[[15], [6, 18], [3, 7, 17, 20], [2, 4, 13], [9, 14]]"
      ]
     },
     "execution_count": 198,
     "metadata": {},
     "output_type": "execute_result"
    }
   ],
   "source": [
    "def insert(root, node):\n",
    "    \n",
    "    parent = None \n",
    "    curr = root\n",
    "    \n",
    "    while curr:\n",
    "        if node.value < curr.value:\n",
    "            parent = curr\n",
    "            curr   = curr.left\n",
    "        else:\n",
    "            parent = curr\n",
    "            curr = curr.right \n",
    "        \n",
    "    if not parent : \n",
    "        root = node\n",
    "        \n",
    "    elif node.value> parent.value:\n",
    "        parent.right = node\n",
    "    \n",
    "    else:\n",
    "        parent.left = node\n",
    "    \n",
    "node = Node(14)\n",
    "#node.left = None\n",
    "#node.right = None\n",
    "insert(root,node)\n",
    "\n",
    "levelOrderTraversal(root)"
   ]
  },
  {
   "cell_type": "code",
   "execution_count": null,
   "metadata": {},
   "outputs": [],
   "source": []
  }
 ],
 "metadata": {
  "kernelspec": {
   "display_name": "Python 3",
   "language": "python",
   "name": "python3"
  },
  "language_info": {
   "codemirror_mode": {
    "name": "ipython",
    "version": 3
   },
   "file_extension": ".py",
   "mimetype": "text/x-python",
   "name": "python",
   "nbconvert_exporter": "python",
   "pygments_lexer": "ipython3",
   "version": "3.6.6"
  }
 },
 "nbformat": 4,
 "nbformat_minor": 2
}
