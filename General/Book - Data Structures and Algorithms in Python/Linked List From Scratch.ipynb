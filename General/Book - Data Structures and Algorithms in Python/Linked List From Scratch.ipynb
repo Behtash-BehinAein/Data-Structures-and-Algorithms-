{
 "cells": [
  {
   "cell_type": "code",
   "execution_count": 1,
   "metadata": {},
   "outputs": [],
   "source": [
    "class Element(object):\n",
    "    def __init__(self, value):\n",
    "        self.value = value\n",
    "        self.next  = None"
   ]
  },
  {
   "cell_type": "code",
   "execution_count": 2,
   "metadata": {},
   "outputs": [],
   "source": [
    "class LinkedList(object):\n",
    "    \n",
    "    # (1) =============================\n",
    "    # Start the linked list by giving it a head-element attribute \n",
    "    def __init__(self, head=None):\n",
    "        self.head = head\n",
    "    # =================================\n",
    "    #\n",
    "    #\n",
    "    # (2) =============================\n",
    "    # Add a new element at the end of the list \n",
    "    def append(self, new_element):\n",
    "        current   = self.head\n",
    "        if self.head:\n",
    "            while current.next: \n",
    "                current = current.next\n",
    "            current.next = new_element \n",
    "        else: \n",
    "            self.head = new_element\n",
    "    # =================================\n",
    "    #\n",
    "    #\n",
    "    # (3) =============================\n",
    "    # Return an element at a given position \n",
    "    def get_position(self, position):\n",
    "        current = self.head \n",
    "        if position >=1:\n",
    "            for ii in range(1, position):\n",
    "                current = current.next\n",
    "            return current \n",
    "        else:\n",
    "            return None \n",
    "    # =================================\n",
    "    #\n",
    "    #\n",
    "    # (4) =============================\n",
    "    # Insert a new element at the given position \n",
    "    def insert(self, new_element, position):\n",
    "          \n",
    "        # Without using get_position \n",
    "        current  = self.head\n",
    "        if position>1:\n",
    "            for ii in range(1,position):\n",
    "                previous = current\n",
    "                current  = current.next\n",
    "            \n",
    "            previous.next = new_element\n",
    "            new_element.next = current \n",
    "        \n",
    "        elif position == 1:\n",
    "            self.head = new_element\n",
    "        else: \n",
    "            pass\n",
    "    # =================================\n",
    "    #\n",
    "    #\n",
    "    # (5) =============================\n",
    "    # Delete the 1st node with a given value\n",
    "    \n",
    "    def delete(self, value):\n",
    "        \n",
    "        # If the head element is to be deleted\n",
    "        if self.head.value == value:\n",
    "            self.head  = self.head.next\n",
    "        else: \n",
    "            previous = self.head\n",
    "            current  = self.head.next\n",
    "            while current:\n",
    "                if current.value == value:\n",
    "                    previous.next = current.next\n",
    "                previous= current \n",
    "                current = current.next     \n",
    "    \n",
    "    # =================================\n",
    "        \n",
    "    \n",
    "    "
   ]
  },
  {
   "cell_type": "code",
   "execution_count": 3,
   "metadata": {},
   "outputs": [],
   "source": [
    "e1 = Element(1)\n",
    "ll = LinkedList(e1)"
   ]
  },
  {
   "cell_type": "code",
   "execution_count": 5,
   "metadata": {},
   "outputs": [
    {
     "data": {
      "text/plain": [
       "1"
      ]
     },
     "execution_count": 5,
     "metadata": {},
     "output_type": "execute_result"
    }
   ],
   "source": [
    "ll.head.value"
   ]
  },
  {
   "cell_type": "code",
   "execution_count": 6,
   "metadata": {},
   "outputs": [
    {
     "name": "stdout",
     "output_type": "stream",
     "text": [
      "3\n",
      "3\n",
      "4\n",
      "3\n",
      "2\n",
      "4\n",
      "3\n"
     ]
    }
   ],
   "source": [
    "# Test cases\n",
    "\n",
    "\n",
    "# Set up some Elements\n",
    "e1 = Element(1)\n",
    "e2 = Element(2)\n",
    "e3 = Element(3)\n",
    "e4 = Element(4)\n",
    "\n",
    "# Start setting up a LinkedList\n",
    "ll = LinkedList(e1)\n",
    "ll.append(e2)\n",
    "ll.append(e3)\n",
    "\n",
    "# Test get_position\n",
    "# Should print 3\n",
    "print (ll.head.next.next.value)\n",
    "# Should also print 3\n",
    "print (ll.get_position(3).value)\n",
    "\n",
    "# Test insert\n",
    "ll.insert(e4,3)\n",
    "# Should print 4 now\n",
    "print (ll.get_position(3).value)\n",
    "print (ll.get_position(4).value)\n",
    "\n",
    "\n",
    "\n",
    "# Test delete\n",
    "ll.delete(1)\n",
    "# Should print 2 now\n",
    "print (ll.get_position(1).value)\n",
    "# Should print 4 now\n",
    "print (ll.get_position(2).value)\n",
    "# Should print 3 now\n",
    "print (ll.get_position(3).value)"
   ]
  },
  {
   "cell_type": "code",
   "execution_count": null,
   "metadata": {},
   "outputs": [],
   "source": []
  }
 ],
 "metadata": {
  "kernelspec": {
   "display_name": "Python 3",
   "language": "python",
   "name": "python3"
  },
  "language_info": {
   "codemirror_mode": {
    "name": "ipython",
    "version": 3
   },
   "file_extension": ".py",
   "mimetype": "text/x-python",
   "name": "python",
   "nbconvert_exporter": "python",
   "pygments_lexer": "ipython3",
   "version": "3.7.1"
  }
 },
 "nbformat": 4,
 "nbformat_minor": 2
}
