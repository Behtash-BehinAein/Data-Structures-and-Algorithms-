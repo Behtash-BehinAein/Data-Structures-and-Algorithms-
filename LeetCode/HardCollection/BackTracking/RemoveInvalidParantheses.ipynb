{
 "cells": [
  {
   "cell_type": "code",
   "execution_count": 1,
   "metadata": {},
   "outputs": [],
   "source": [
    "def removeInvalidParantheses(s):\n",
    "    \n",
    "    \n",
    "    def isValid(s):\n",
    "        cnt = 0\n",
    "        for c in s: \n",
    "            if c=='(':\n",
    "                cnt +=1\n",
    "            if c==')':\n",
    "                cnt -=1\n",
    "            if cnt<0:\n",
    "                return False\n",
    "        return cnt==0\n",
    "    \n",
    "    \n",
    "    level = {s}\n",
    "    while True:\n",
    "        valid = list(filter(isValid, level))\n",
    "        print(level)\n",
    "        if valid: \n",
    "            return valid\n",
    "        level = { s[:i] + s[i+1:] for s in level for i in range(len(s))}"
   ]
  },
  {
   "cell_type": "code",
   "execution_count": 2,
   "metadata": {},
   "outputs": [
    {
     "name": "stdout",
     "output_type": "stream",
     "text": [
      "{')()'}\n",
      "{'))', ')(', '()'}\n"
     ]
    },
    {
     "data": {
      "text/plain": [
       "['()']"
      ]
     },
     "execution_count": 2,
     "metadata": {},
     "output_type": "execute_result"
    }
   ],
   "source": [
    "s = ')()'\n",
    "removeInvalidParantheses(s)"
   ]
  },
  {
   "cell_type": "code",
   "execution_count": 3,
   "metadata": {},
   "outputs": [
    {
     "name": "stdout",
     "output_type": "stream",
     "text": [
      "{'n'}\n"
     ]
    },
    {
     "data": {
      "text/plain": [
       "['n']"
      ]
     },
     "execution_count": 3,
     "metadata": {},
     "output_type": "execute_result"
    }
   ],
   "source": [
    "s = 'n'\n",
    "removeInvalidParantheses(s)"
   ]
  },
  {
   "cell_type": "code",
   "execution_count": 4,
   "metadata": {},
   "outputs": [
    {
     "name": "stdout",
     "output_type": "stream",
     "text": [
      "{'()())()'}\n",
      "{')())()', '()()()', '()()))', '()())(', '(())()', '()))()'}\n"
     ]
    },
    {
     "data": {
      "text/plain": [
       "['()()()', '(())()']"
      ]
     },
     "execution_count": 4,
     "metadata": {},
     "output_type": "execute_result"
    }
   ],
   "source": [
    "s = '()())()'\n",
    "removeInvalidParantheses(s)"
   ]
  },
  {
   "cell_type": "code",
   "execution_count": 5,
   "metadata": {},
   "outputs": [
    {
     "name": "stdout",
     "output_type": "stream",
     "text": [
      "{''}\n"
     ]
    },
    {
     "data": {
      "text/plain": [
       "['']"
      ]
     },
     "execution_count": 5,
     "metadata": {},
     "output_type": "execute_result"
    }
   ],
   "source": [
    "s = ''\n",
    "removeInvalidParantheses(s)"
   ]
  },
  {
   "cell_type": "code",
   "execution_count": 6,
   "metadata": {},
   "outputs": [
    {
     "name": "stdout",
     "output_type": "stream",
     "text": [
      "{'()'}\n"
     ]
    },
    {
     "data": {
      "text/plain": [
       "['()']"
      ]
     },
     "execution_count": 6,
     "metadata": {},
     "output_type": "execute_result"
    }
   ],
   "source": [
    "s = '()'\n",
    "removeInvalidParantheses(s)"
   ]
  },
  {
   "cell_type": "code",
   "execution_count": 7,
   "metadata": {},
   "outputs": [
    {
     "name": "stdout",
     "output_type": "stream",
     "text": [
      "{')'}\n",
      "{''}\n"
     ]
    },
    {
     "data": {
      "text/plain": [
       "['']"
      ]
     },
     "execution_count": 7,
     "metadata": {},
     "output_type": "execute_result"
    }
   ],
   "source": [
    "s = ')'\n",
    "removeInvalidParantheses(s)"
   ]
  },
  {
   "cell_type": "code",
   "execution_count": null,
   "metadata": {},
   "outputs": [],
   "source": []
  }
 ],
 "metadata": {
  "kernelspec": {
   "display_name": "Python 3",
   "language": "python",
   "name": "python3"
  },
  "language_info": {
   "codemirror_mode": {
    "name": "ipython",
    "version": 3
   },
   "file_extension": ".py",
   "mimetype": "text/x-python",
   "name": "python",
   "nbconvert_exporter": "python",
   "pygments_lexer": "ipython3",
   "version": "3.6.6"
  }
 },
 "nbformat": 4,
 "nbformat_minor": 2
}
