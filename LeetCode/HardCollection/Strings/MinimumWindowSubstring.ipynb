{
 "cells": [
  {
   "cell_type": "code",
   "execution_count": 272,
   "metadata": {},
   "outputs": [],
   "source": [
    "def minWindow(s: str, t: str) -> str:\n",
    "\n",
    "    req_tFreq = {c: t.count(c) for c in t}\n",
    "    req_tFreq.update({i:0 for i in (set(s) - set(t))} )\n",
    "    req_len  = len(t)\n",
    "    minWin_l , minWin_r = 0,0 \n",
    "    l , r  = 0,0\n",
    "\n",
    "    while r < len(s):\n",
    "        if req_tFreq[s[r]] > 0:\n",
    "            req_len -=1\n",
    "        req_tFreq[s[r]] -= 1\n",
    "        r+=1\n",
    "\n",
    "        while req_len ==0:\n",
    "            if minWin_r==0 or minWin_r - minWin_l > r-l:\n",
    "                minWin_r , minWin_l = r,l\n",
    "\n",
    "            req_tFreq[s[l]] += 1\n",
    "            if req_tFreq[s[l]] > 0:\n",
    "                req_len += 1\n",
    "            l+=1\n",
    "\n",
    "\n",
    "    return s[minWin_l : minWin_r]"
   ]
  },
  {
   "cell_type": "code",
   "execution_count": 273,
   "metadata": {},
   "outputs": [
    {
     "data": {
      "text/plain": [
       "'BANC'"
      ]
     },
     "execution_count": 273,
     "metadata": {},
     "output_type": "execute_result"
    }
   ],
   "source": [
    "S = \"ADOBECODEBANC\"\n",
    "T = \"ABC\"\n",
    "    \n",
    "minWindow(S,T)"
   ]
  }
 ],
 "metadata": {
  "kernelspec": {
   "display_name": "Python 3",
   "language": "python",
   "name": "python3"
  },
  "language_info": {
   "codemirror_mode": {
    "name": "ipython",
    "version": 3
   },
   "file_extension": ".py",
   "mimetype": "text/x-python",
   "name": "python",
   "nbconvert_exporter": "python",
   "pygments_lexer": "ipython3",
   "version": "3.6.6"
  }
 },
 "nbformat": 4,
 "nbformat_minor": 2
}
