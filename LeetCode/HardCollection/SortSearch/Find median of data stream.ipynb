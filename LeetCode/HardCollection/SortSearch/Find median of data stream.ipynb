{
 "cells": [
  {
   "cell_type": "code",
   "execution_count": 1,
   "metadata": {},
   "outputs": [],
   "source": [
    "import bisect\n",
    "class MedianFinder:\n",
    "    def __init__(self):\n",
    "        \"\"\"\n",
    "        initialize your data structure here.\n",
    "        \"\"\"\n",
    "        self.nums = []\n",
    "            \n",
    "    def addNum(self, num: int) -> None:\n",
    "        bisect.insort(self.nums, num)\n",
    "\n",
    "    def findMedian(self) -> float:\n",
    "        \n",
    "        #print(self.nums)\n",
    "        median = self.nums[len(self.nums)//2]\n",
    "        #print('odd', median)\n",
    "        if len(self.nums)%2==0:\n",
    "            #print('yes')\n",
    "            median = ( median + self.nums[len(self.nums)//2 - 1]) / 2\n",
    "        #print('even' , median)\n",
    "        return median\n",
    "    \n",
    "# Your MedianFinder object will be instantiated and called as such:\n",
    "# obj = MedianFinder()\n",
    "# obj.addNum(num)\n",
    "# param_2 = obj.findMedian()\n"
   ]
  },
  {
   "cell_type": "code",
   "execution_count": 58,
   "metadata": {},
   "outputs": [],
   "source": [
    "import heapq\n",
    "class MedianFinder:\n",
    "    \n",
    "    def __init__(self):\n",
    "        \"\"\"\n",
    "        initialize your data structure here.\n",
    "        \"\"\"\n",
    "        self.lo = []\n",
    "        self.hi = []\n",
    "        self.median = None \n",
    "            \n",
    "    def addNum(self, num: int) -> None:\n",
    "        \n",
    "        if not self.median: \n",
    "            self.median = num\n",
    "            heapq.heappush(self.lo , -num)\n",
    "        \n",
    "        else:\n",
    "            if num >= self.median:\n",
    "                heapq.heappush(self.hi, num)\n",
    "            else:\n",
    "                heapq.heappush(self.lo, -num)\n",
    "            \n",
    "            if len(self.lo) - len(self.hi) == 2: \n",
    "                heapq.heappush(self.hi , - heapq.heappop(self.lo))\n",
    "            if len(self.hi) - len(self.lo) == 2: \n",
    "                heapq.heappush(self.lo , - heapq.heappop(self.hi))\n",
    "        \n",
    "        \n",
    "  \n",
    "    def findMedian(self) -> float:\n",
    "        if len(self.lo) > len(self.hi):\n",
    "            self.median = -self.lo[0]\n",
    "        if len(self.hi) > len(self.lo):\n",
    "            self.median = self.hi[0]\n",
    "        if len(self.hi) == len(self.lo):\n",
    "            self.median = (-self.lo[0] + self.hi[0]) /2 \n",
    "    \n",
    "        return self.median\n",
    "    \n",
    "# Your MedianFinder object will be instantiated and called as such:\n",
    "# obj = MedianFinder()\n",
    "# obj.addNum(num)\n",
    "# param_2 = obj.findMedian()\n"
   ]
  },
  {
   "cell_type": "code",
   "execution_count": 32,
   "metadata": {},
   "outputs": [],
   "source": [
    "import heapq\n",
    "class MedianFinder:\n",
    "    \n",
    "    def __init__(self):\n",
    "        \"\"\"\n",
    "        initialize your data structure here.\n",
    "        \"\"\"\n",
    "        self.lo = []\n",
    "        self.hi = []\n",
    "        self.median = None \n",
    "            \n",
    "    def addNum(self, num: int) -> None:\n",
    "        \n",
    "        if not self.median: \n",
    "            self.median = num\n",
    "            heapq.heappush(self.hi , num)\n",
    "        \n",
    "        else:\n",
    "            if num >= self.median:\n",
    "                heapq.heappush(self.hi, num)\n",
    "            else:\n",
    "                heapq.heappush(self.lo, -num)\n",
    "            \n",
    "            # If len(nums) is odd, then hi is always longer than lo \n",
    "            if len(self.lo) - len(self.hi) >= 1: \n",
    "                heapq.heappush(self.hi , - heapq.heappop(self.lo))\n",
    "            if len(self.lo) - len(self.hi) <= -2 : \n",
    "                heapq.heappush(self.lo , - heapq.heappop(self.hi))\n",
    "        \n",
    "        \n",
    "  \n",
    "    def findMedian(self) -> float:\n",
    "        self.median = self.hi[0]\n",
    "        if len(self.lo) == len(self.hi):\n",
    "            self.median = (self.median - self.lo[0]) /2.0\n",
    "    \n",
    "        return self.median\n",
    "    \n",
    "# Your MedianFinder object will be instantiated and called as such:\n",
    "# obj = MedianFinder()\n",
    "# obj.addNum(num)\n",
    "# param_2 = obj.findMedian()\n"
   ]
  },
  {
   "cell_type": "code",
   "execution_count": 33,
   "metadata": {},
   "outputs": [
    {
     "name": "stdout",
     "output_type": "stream",
     "text": [
      "1.5\n",
      "2\n"
     ]
    }
   ],
   "source": [
    "obj = MedianFinder()\n",
    "obj.addNum(1)\n",
    "obj.addNum(2)\n",
    "print(obj.findMedian())\n",
    "obj.addNum(3)\n",
    "print(obj.findMedian())\n"
   ]
  },
  {
   "cell_type": "code",
   "execution_count": 34,
   "metadata": {},
   "outputs": [
    {
     "name": "stdout",
     "output_type": "stream",
     "text": [
      "2\n",
      "2.5\n"
     ]
    }
   ],
   "source": [
    "obj = MedianFinder()\n",
    "obj.addNum(2)\n",
    "print(obj.findMedian())\n",
    "obj.addNum(3)\n",
    "print(obj.findMedian())\n"
   ]
  },
  {
   "cell_type": "code",
   "execution_count": 35,
   "metadata": {},
   "outputs": [
    {
     "name": "stdout",
     "output_type": "stream",
     "text": [
      "1\n"
     ]
    }
   ],
   "source": [
    "obj = MedianFinder()\n",
    "obj.addNum(1)\n",
    "print(obj.findMedian())\n"
   ]
  },
  {
   "cell_type": "code",
   "execution_count": 36,
   "metadata": {},
   "outputs": [
    {
     "name": "stdout",
     "output_type": "stream",
     "text": [
      "100\n",
      "99\n",
      "-15\n",
      "-65\n",
      "37\n",
      "67\n",
      "76\n"
     ]
    }
   ],
   "source": [
    "import random\n",
    "for _ in range(7):\n",
    "    print(random.randint(-100,100))"
   ]
  },
  {
   "cell_type": "code",
   "execution_count": 21,
   "metadata": {},
   "outputs": [
    {
     "name": "stdout",
     "output_type": "stream",
     "text": [
      "yes\n"
     ]
    }
   ],
   "source": [
    "median = None\n",
    "if not median:\n",
    "    print('yes')"
   ]
  },
  {
   "cell_type": "code",
   "execution_count": 64,
   "metadata": {},
   "outputs": [],
   "source": [
    "a = [1,2,3,4,5]\n",
    "a = random.sample(a, len(a))"
   ]
  },
  {
   "cell_type": "code",
   "execution_count": 65,
   "metadata": {},
   "outputs": [
    {
     "data": {
      "text/plain": [
       "[4, 2, 1, 3, 5]"
      ]
     },
     "execution_count": 65,
     "metadata": {},
     "output_type": "execute_result"
    }
   ],
   "source": [
    "a"
   ]
  },
  {
   "cell_type": "code",
   "execution_count": null,
   "metadata": {},
   "outputs": [],
   "source": []
  }
 ],
 "metadata": {
  "kernelspec": {
   "display_name": "Python 3",
   "language": "python",
   "name": "python3"
  },
  "language_info": {
   "codemirror_mode": {
    "name": "ipython",
    "version": 3
   },
   "file_extension": ".py",
   "mimetype": "text/x-python",
   "name": "python",
   "nbconvert_exporter": "python",
   "pygments_lexer": "ipython3",
   "version": "3.6.6"
  }
 },
 "nbformat": 4,
 "nbformat_minor": 2
}
