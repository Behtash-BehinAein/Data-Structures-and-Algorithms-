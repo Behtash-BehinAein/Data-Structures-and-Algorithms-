{
 "cells": [
  {
   "cell_type": "code",
   "execution_count": 95,
   "metadata": {},
   "outputs": [
    {
     "data": {
      "text/plain": [
       "\"\\nprint([-e for e in lo], hi)\\nprint('Invalids: ', removed)\\nprint('Diff: ' ,  diff_hi_lo, ' | out:', out_ ,  ' | in:' , in_)\\nprint('Median :' , curr_med)\\nprint('='*10)\\n\""
      ]
     },
     "execution_count": 95,
     "metadata": {},
     "output_type": "execute_result"
    }
   ],
   "source": [
    "def medianSlidingWindow(nums, k):\n",
    "    \"\"\"\n",
    "    :type nums: List[int]\n",
    "    :type k: int\n",
    "    :rtype: List[float]\n",
    "    \"\"\"\n",
    "    import heapq\n",
    "    # 0) Two heaps and a hash table for invalid elements: lazy removal \n",
    "    medians = []\n",
    "    removed = {}\n",
    "\n",
    "    # Sort the first winodow --------------------------------------------\n",
    "    initial = sorted(nums[:k])\n",
    "    lo = [-e for e in initial[:k//2]]\n",
    "    hi = initial[k//2:k]\n",
    "    heapq.heapify(lo)   \n",
    "    heapq.heapify(hi)  \n",
    "    # -------------------------------------------------------------------\n",
    "    # Find the initial difference in the lengths of the two heaps\n",
    "    # \"diff\" represents valid elements only \n",
    "    diff_hi_lo =  len(hi) - len(lo) \n",
    "    # -------------------------------------------------------------------\n",
    "    \n",
    "    for out_ , in_ in zip(nums, nums[k:]+[0]):\n",
    "        \n",
    "        # Find the current median ------\n",
    "        curr_med = float(hi[0])\n",
    "        if k%2==0:\n",
    "            curr_med = (curr_med - lo[0])/2.0\n",
    "        medians.append(curr_med)\n",
    "        # -------------------------------\n",
    "    \n",
    "        # Update the hash table counts using the new outed element -----\n",
    "        removed[out_] = removed.get(out_ , 0) + 1\n",
    "        # Update the diff value depending on where it was taken out from\n",
    "        if out_ in hi:\n",
    "            diff_hi_lo -= 1\n",
    "        else: \n",
    "            diff_hi_lo += 1\n",
    "        # -------------------------------------------------------------\n",
    "                        \n",
    "        # ---------------------------------------\n",
    "        # Add the incoming element to the heaps \n",
    "        if in_>= curr_med:\n",
    "            heapq.heappush(hi, in_)\n",
    "            diff_hi_lo += 1\n",
    "        else: \n",
    "            heapq.heappush(lo, -in_)\n",
    "            diff_hi_lo -= 1\n",
    "        # ---------------------------------------\n",
    "\n",
    "        # ------------------------------------------\n",
    "        # Balance the two heaps \n",
    "        # If 'k' is odd, then 'hi' is always larger than 'lo'\n",
    "        if  diff_hi_lo >= 1: \n",
    "            heapq.heappush(lo , - heapq.heappop(hi))\n",
    "            diff_hi_lo -= 2\n",
    "        if  diff_hi_lo <= -1: \n",
    "            heapq.heappush(hi , - heapq.heappop(lo))\n",
    "            diff_hi_lo += 2\n",
    "        # ------------------------------------------\n",
    "\n",
    "        # ----------------------------------------------\n",
    "        # Remove invalid elements from the heaps lazily \n",
    "        while hi and removed.get(hi[0], 0) > 0 :\n",
    "                removed[heapq.heappop(hi)] -= 1\n",
    "        while lo and removed.get(-lo[0], 0) > 0 :\n",
    "                removed[- heapq.heappop(lo)] -= 1\n",
    "        # ----------------------------------------------\n",
    "     \n",
    "    return medians\n",
    "\n",
    "\n",
    "'''\n",
    "print([-e for e in lo], hi)\n",
    "print('Invalids: ', removed)\n",
    "print('Diff: ' ,  diff_hi_lo, ' | out:', out_ ,  ' | in:' , in_)\n",
    "print('Median :' , curr_med)\n",
    "print('='*10)\n",
    "'''"
   ]
  },
  {
   "cell_type": "code",
   "execution_count": 96,
   "metadata": {},
   "outputs": [
    {
     "data": {
      "text/plain": [
       "[1.0, -1.0, -1.0, 3.0, 5.0, 6.0]"
      ]
     },
     "execution_count": 96,
     "metadata": {},
     "output_type": "execute_result"
    }
   ],
   "source": [
    "nums = [1,3,-1,-3,5,3,6,7]\n",
    "k = 3\n",
    "medianSlidingWindow(nums, k)"
   ]
  },
  {
   "cell_type": "code",
   "execution_count": 97,
   "metadata": {},
   "outputs": [
    {
     "data": {
      "text/plain": [
       "[8.0, 6.0, 8.0, 8.0, 5.0]"
      ]
     },
     "execution_count": 97,
     "metadata": {},
     "output_type": "execute_result"
    }
   ],
   "source": [
    "nums = [7,0,3,9,9,9,1,7,2,3]\n",
    "k = 6\n",
    "medianSlidingWindow(nums, k)"
   ]
  },
  {
   "cell_type": "code",
   "execution_count": 98,
   "metadata": {},
   "outputs": [
    {
     "data": {
      "text/plain": [
       "[4.0, 4.0, 3.0, 2.0, 3.0, 6.0, 6.0, 4.0]"
      ]
     },
     "execution_count": 98,
     "metadata": {},
     "output_type": "execute_result"
    }
   ],
   "source": [
    "nums = [0,4,6,0,3,2,6,9,4,1]\n",
    "k = 3\n",
    "medianSlidingWindow(nums, k)"
   ]
  },
  {
   "cell_type": "code",
   "execution_count": 99,
   "metadata": {},
   "outputs": [
    {
     "data": {
      "text/plain": [
       "[2.0, 3.0, 3.0, 3.0, 2.0, 3.0, 2.0]"
      ]
     },
     "execution_count": 99,
     "metadata": {},
     "output_type": "execute_result"
    }
   ],
   "source": [
    "nums = [1,2,3,4,2,3,1,4,2]\n",
    "k = 3\n",
    "medianSlidingWindow(nums, k)"
   ]
  },
  {
   "cell_type": "code",
   "execution_count": 100,
   "metadata": {},
   "outputs": [
    {
     "data": {
      "text/plain": [
       "[1.0, 1.0, 1.0]"
      ]
     },
     "execution_count": 100,
     "metadata": {},
     "output_type": "execute_result"
    }
   ],
   "source": [
    "nums = [1,1,1,1]\n",
    "k = 2\n",
    "medianSlidingWindow(nums, k)"
   ]
  },
  {
   "cell_type": "code",
   "execution_count": 101,
   "metadata": {},
   "outputs": [
    {
     "data": {
      "text/plain": [
       "[7.0, 9.0, 3.0, 8.0, 0.0, 2.0, 4.0, 8.0, 3.0, 9.0]"
      ]
     },
     "execution_count": 101,
     "metadata": {},
     "output_type": "execute_result"
    }
   ],
   "source": [
    "nums = [7,9,3,8,0,2,4,8,3,9]\n",
    "k = 1\n",
    "medianSlidingWindow(nums, k)"
   ]
  },
  {
   "cell_type": "code",
   "execution_count": 102,
   "metadata": {},
   "outputs": [
    {
     "data": {
      "text/plain": [
       "[-2147483648.0,\n",
       " -2147483648.0,\n",
       " 2147483647.0,\n",
       " -2147483648.0,\n",
       " -2147483648.0,\n",
       " -2147483648.0,\n",
       " 2147483647.0,\n",
       " 2147483647.0,\n",
       " 2147483647.0,\n",
       " 2147483647.0,\n",
       " -2147483648.0,\n",
       " 2147483647.0,\n",
       " -2147483648.0]"
      ]
     },
     "execution_count": 102,
     "metadata": {},
     "output_type": "execute_result"
    }
   ],
   "source": [
    "nums = [-2147483648,-2147483648,2147483647,-2147483648,-2147483648,-2147483648,2147483647,2147483647,2147483647,2147483647,-2147483648,2147483647,-2147483648]\n",
    "k = 1\n",
    "medianSlidingWindow(nums, k)"
   ]
  },
  {
   "cell_type": "code",
   "execution_count": null,
   "metadata": {},
   "outputs": [],
   "source": [
    "def medianSlidingWindow(nums, k):\n",
    "    \"\"\"\n",
    "    :type nums: List[int]\n",
    "    :type k: int\n",
    "    :rtype: List[float]\n",
    "    \"\"\"\n",
    "    import heapq\n",
    "    # 0) Two heaps and a hash table for invalid elements: lazy removal \n",
    "    medians = []\n",
    "    removed = {}\n",
    "\n",
    "    # Sort the first winodow --------------------------------------------\n",
    "    initial = sorted(nums[:k])\n",
    "    lo = [-e for e in initial[:k//2]]\n",
    "    hi = initial[k//2:k]\n",
    "    heapq.heapify(lo)   # Below median\n",
    "    heapq.heapify(hi)   # Above median\n",
    "    # -------------------------------------------------------------------\n",
    "    # Find the initial difference in the lengths of the two heaps composed of only valid elements \n",
    "    diff_hi_lo =  len(hi) - len(lo) \n",
    "    # -----------------------------------------------------------\n",
    "    #print([-e for e in lo], hi, ' | ', diff_hi_lo)\n",
    "    \n",
    "    \n",
    "    for out_ , in_ in zip(nums, nums[k:]+[0]):\n",
    "        \n",
    "        print([-e for e in lo] , hi, diff_hi_lo )\n",
    "        # Find the current median -----\n",
    "        if diff_hi_lo > 0:\n",
    "            curr_med = hi[0]\n",
    "        if diff_hi_lo < 0:\n",
    "            curr_med = -lo[0]\n",
    "        if diff_hi_lo == 0:\n",
    "            curr_med = (-lo[0] + hi[0]) / 2\n",
    "        # -----------------------------\n",
    "        medians.append(float(curr_med))\n",
    "        # -----------------------------\n",
    "        \n",
    "    \n",
    "    \n",
    "        # Update the diff and the hash table based on outgoing element\n",
    "        removed[out_] = removed.get(out_ , 0) + 1\n",
    "        if out_ in hi:\n",
    "            diff_hi_lo -= 1\n",
    "        else: \n",
    "            diff_hi_lo += 1\n",
    "        # -------------------------------------------------------------\n",
    "\n",
    "                        \n",
    "        # ---------------------------------------\n",
    "        # Add to the heaps \n",
    "        if in_>= curr_med:\n",
    "            heapq.heappush(hi, in_)\n",
    "            diff_hi_lo += 1\n",
    "        else: \n",
    "            heapq.heappush(lo, -in_)\n",
    "            diff_hi_lo -= 1\n",
    "        \n",
    "        # ---------------------------------------\n",
    "\n",
    "        # --------------------------------------------------------\n",
    "        # Balance the two heaps \n",
    "        if  diff_hi_lo >= 2: \n",
    "            heapq.heappush(lo , - heapq.heappop(hi))\n",
    "            diff_hi_lo -= 2\n",
    "            \n",
    "        if  diff_hi_lo <= -2: \n",
    "            heapq.heappush(hi , - heapq.heappop(lo))\n",
    "            diff_hi_lo += 2\n",
    "        # --------------------------------------------------------\n",
    "        #print([-e for e in lo], hi, ' | ', diff_hi_lo)\n",
    "        # --------------------------------------------------------\n",
    "\n",
    "\n",
    "        # --------------------------------------------------------\n",
    "        # Remove from the heaps lazily \n",
    "        while hi and removed.get(hi[0], 0) > 0 :\n",
    "                removed[heapq.heappop(hi)] -= 1\n",
    "\n",
    "        while lo and removed.get(-lo[0], 0) > 0 :\n",
    "                removed[- heapq.heappop(lo)] -= 1\n",
    "        # --------------------------------------------------------\n",
    "        \n",
    "        \n",
    "        \n",
    "        \n",
    "        '''\n",
    "        print([-e for e in lo], hi)\n",
    "        print('Invalids: ', removed)\n",
    "        print('Diff: ' ,  diff_hi_lo, ' | out:', out_ ,  ' | in:' , in_)\n",
    "        print('Median :' , curr_med)\n",
    "        print('='*10)\n",
    "        '''\n",
    "        \n",
    "    return medians"
   ]
  },
  {
   "cell_type": "code",
   "execution_count": 158,
   "metadata": {},
   "outputs": [],
   "source": [
    "def medianSlidingWindow(nums, k):\n",
    "    \"\"\"\n",
    "    :type nums: List[int]\n",
    "    :type k: int\n",
    "    :rtype: List[float]\n",
    "    \"\"\"\n",
    "    import heapq\n",
    "    import math\n",
    "    medians = []\n",
    "    \n",
    "    num_pops_hi = math.ceil ((k + 1)/2 )\n",
    "    num_pops_lo = math.floor ((k + 1)/2 )\n",
    "\n",
    "    print(num_pops_hi , num_pops_lo)\n",
    "\n",
    "    for i in range(len(nums)-k+1):\n",
    "\n",
    "        win = [-e for e in nums[i:i+k]]\n",
    "\n",
    "        # Form the max heap\n",
    "        heapq.heapify(win)\n",
    "\n",
    "\n",
    "\n",
    "\n",
    "        for i in range(1, num_pops_hi+1):\n",
    "            ans = heapq.heappop(win)\n",
    "            if i == num_pops_lo:\n",
    "                median_lo = -ans\n",
    "            if i == num_pops_hi:\n",
    "                median_hi = -ans\n",
    "\n",
    "        medians.append((median_lo + median_hi)/2)\n",
    "\n",
    "    return medians\n"
   ]
  },
  {
   "cell_type": "code",
   "execution_count": 53,
   "metadata": {},
   "outputs": [],
   "source": [
    "def medianSlidingWindow(nums, k):\n",
    "    \n",
    "    \n",
    "    # Quick Select --------------------------------------\n",
    "    def partition(l, r, mid):\n",
    "        win[r] , win[mid] = win[mid] , win[r]\n",
    "        i = l\n",
    "        for j in range(l,r):\n",
    "            if win[j] < win[r]:\n",
    "                win[i] , win[j] = win[j] , win[i]\n",
    "                i += 1\n",
    "        win[i] , win[r] = win[r] , win[i]\n",
    "        return i\n",
    "\n",
    "    def quickSelect(l, r, kth):\n",
    "\n",
    "        if l==r: \n",
    "            return win[l]\n",
    "\n",
    "        if l<r:\n",
    "            pivot_idx = partition(l, r, l +(r-l)//2)\n",
    "\n",
    "            if pivot_idx  == kth:\n",
    "                return win[pivot_idx]\n",
    "\n",
    "            if  pivot_idx  > kth :\n",
    "                return quickSelect(l, pivot_idx - 1, kth)\n",
    "            else: \n",
    "                return quickSelect(pivot_idx + 1, r, kth)\n",
    "    # ---------------------------------------------------\n",
    "        \n",
    "    \n",
    "    medians = []\n",
    "    for i in range(len(nums)-k+1):\n",
    "\n",
    "        win = nums[i:i+k]  \n",
    "        \n",
    "        if k%2 != 0:\n",
    "            med = quickSelect(0 , k-1, k//2)\n",
    "        else: \n",
    "            med = (quickSelect(0 , k-1, k//2) + quickSelect(0 , k-1, k//2-1))/2\n",
    "\n",
    "        print(win)\n",
    "        medians.append(float(med))\n",
    "\n",
    "    return medians\n",
    "\n"
   ]
  },
  {
   "cell_type": "code",
   "execution_count": 160,
   "metadata": {},
   "outputs": [
    {
     "name": "stdout",
     "output_type": "stream",
     "text": [
      "[-1, 1, 3]\n",
      "[-3, -1, 3]\n",
      "[-3, -1, 5]\n",
      "[-3, 3, 5]\n",
      "[3, 5, 6]\n",
      "[3, 6, 7]\n"
     ]
    },
    {
     "data": {
      "text/plain": [
       "[1, -1, -1, 3, 5, 6]"
      ]
     },
     "execution_count": 160,
     "metadata": {},
     "output_type": "execute_result"
    }
   ],
   "source": [
    "nums = [1,3,-1,-3,5,3,6,7]\n",
    "k = 3\n",
    "medianSlidingWindow(nums, k)"
   ]
  },
  {
   "cell_type": "code",
   "execution_count": 59,
   "metadata": {},
   "outputs": [
    {
     "name": "stdout",
     "output_type": "stream",
     "text": [
      "[1, 2, 3, 4]\n"
     ]
    },
    {
     "data": {
      "text/plain": [
       "[2.5]"
      ]
     },
     "execution_count": 59,
     "metadata": {},
     "output_type": "execute_result"
    }
   ],
   "source": [
    "nums = [1,4,2,3]\n",
    "k = 4\n",
    "medianSlidingWindow(nums, k)"
   ]
  },
  {
   "cell_type": "code",
   "execution_count": 60,
   "metadata": {},
   "outputs": [
    {
     "name": "stdout",
     "output_type": "stream",
     "text": [
      "[0, 3, 7, 9, 9, 9]\n",
      "[0, 1, 3, 9, 9, 9]\n",
      "[1, 3, 7, 9, 9, 9]\n",
      "[2, 1, 7, 9, 9, 9]\n",
      "[1, 2, 3, 7, 9, 9]\n"
     ]
    },
    {
     "data": {
      "text/plain": [
       "[8.0, 6.0, 8.0, 8.0, 5.0]"
      ]
     },
     "execution_count": 60,
     "metadata": {},
     "output_type": "execute_result"
    }
   ],
   "source": [
    "nums = [7,0,3,9,9,9,1,7,2,3]\n",
    "k = 6\n",
    "medianSlidingWindow(nums, k)"
   ]
  },
  {
   "cell_type": "code",
   "execution_count": 13,
   "metadata": {},
   "outputs": [
    {
     "data": {
      "text/plain": [
       "[1, 2, 3, 4, 5, 6, 7]"
      ]
     },
     "execution_count": 13,
     "metadata": {},
     "output_type": "execute_result"
    }
   ],
   "source": [
    "import heapq\n",
    "zz = [1,2,3,4,5,6,7]\n",
    "heapq.heapify(zz)\n",
    "zz"
   ]
  },
  {
   "cell_type": "code",
   "execution_count": null,
   "metadata": {},
   "outputs": [],
   "source": []
  },
  {
   "cell_type": "code",
   "execution_count": null,
   "metadata": {},
   "outputs": [],
   "source": []
  },
  {
   "cell_type": "code",
   "execution_count": null,
   "metadata": {},
   "outputs": [],
   "source": []
  }
 ],
 "metadata": {
  "kernelspec": {
   "display_name": "Python 3",
   "language": "python",
   "name": "python3"
  },
  "language_info": {
   "codemirror_mode": {
    "name": "ipython",
    "version": 3
   },
   "file_extension": ".py",
   "mimetype": "text/x-python",
   "name": "python",
   "nbconvert_exporter": "python",
   "pygments_lexer": "ipython3",
   "version": "3.6.6"
  }
 },
 "nbformat": 4,
 "nbformat_minor": 2
}
