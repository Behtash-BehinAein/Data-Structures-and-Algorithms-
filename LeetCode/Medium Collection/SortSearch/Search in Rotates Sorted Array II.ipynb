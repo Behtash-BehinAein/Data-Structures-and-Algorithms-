{
 "cells": [
  {
   "cell_type": "code",
   "execution_count": 3,
   "metadata": {},
   "outputs": [],
   "source": [
    "def search(nums, target):\n",
    "\n",
    "    l = 0 \n",
    "    r = len(nums) - 1\n",
    "\n",
    "    while l<=r:\n",
    "        mid = l + (r-l)//2 \n",
    "\n",
    "        if nums[mid] == target:\n",
    "            return True\n",
    "\n",
    "        if nums[mid] > nums[l]:    # This section is sorted, so search is meaningful \n",
    "            if nums[l]<= target < nums[mid]:\n",
    "                r = mid - 1\n",
    "            else: \n",
    "                l = mid + 1\n",
    "        elif nums[mid] < nums[l]:  # This section is not sorted, so search the other section \n",
    "            if nums[mid]< target <= nums[r]:\n",
    "                l = mid + 1\n",
    "            else: \n",
    "                r = mid - 1\n",
    "        else:\n",
    "                l +=1\n",
    "\n",
    "\n",
    "    return False"
   ]
  },
  {
   "cell_type": "code",
   "execution_count": 4,
   "metadata": {},
   "outputs": [
    {
     "data": {
      "text/plain": [
       "True"
      ]
     },
     "execution_count": 4,
     "metadata": {},
     "output_type": "execute_result"
    }
   ],
   "source": [
    "nums = [2,5,6,0,0,1,2]\n",
    "target = 0\n",
    "search(nums, target)"
   ]
  },
  {
   "cell_type": "code",
   "execution_count": 5,
   "metadata": {},
   "outputs": [
    {
     "data": {
      "text/plain": [
       "False"
      ]
     },
     "execution_count": 5,
     "metadata": {},
     "output_type": "execute_result"
    }
   ],
   "source": [
    "nums = [2,5,6,0,0,1,2]\n",
    "target = 3\n",
    "search(nums, target)"
   ]
  },
  {
   "cell_type": "code",
   "execution_count": null,
   "metadata": {},
   "outputs": [],
   "source": []
  }
 ],
 "metadata": {
  "kernelspec": {
   "display_name": "Python 3",
   "language": "python",
   "name": "python3"
  },
  "language_info": {
   "codemirror_mode": {
    "name": "ipython",
    "version": 3
   },
   "file_extension": ".py",
   "mimetype": "text/x-python",
   "name": "python",
   "nbconvert_exporter": "python",
   "pygments_lexer": "ipython3",
   "version": "3.6.6"
  }
 },
 "nbformat": 4,
 "nbformat_minor": 2
}
