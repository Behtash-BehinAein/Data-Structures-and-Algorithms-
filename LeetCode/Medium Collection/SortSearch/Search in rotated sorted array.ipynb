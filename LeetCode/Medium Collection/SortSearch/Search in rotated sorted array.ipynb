{
 "cells": [
  {
   "cell_type": "code",
   "execution_count": 32,
   "metadata": {},
   "outputs": [],
   "source": [
    "def search(nums, target):\n",
    "    \n",
    "    if len(nums)==0: \n",
    "        return -1\n",
    "    \n",
    "    def findpivot(nums):\n",
    "        \n",
    "        l = 0\n",
    "        r = len(nums) - 1\n",
    "        if nums[l] <= nums[r]:\n",
    "            return r\n",
    "        \n",
    "        while l<=r:\n",
    "            mid = l + (r-l) //2\n",
    "            if nums[mid] > nums[mid+1]:\n",
    "                return mid\n",
    "            \n",
    "            if nums[0] <= nums[mid]:   # If true, then this subarray is sorted, pivot must be in the next subarray\n",
    "                l = mid + 1\n",
    "            else:\n",
    "                r = mid - 1\n",
    "\n",
    "        return -1\n",
    "        \n",
    "        \n",
    "    # --------------------------------    \n",
    "    \n",
    "    pivot_index = findpivot(nums)\n",
    "    #print(pivot_index)\n",
    "    \n",
    "    if  nums[0] <= target <= nums[pivot_index] : \n",
    "        l = 0\n",
    "        r = pivot_index \n",
    "    else: \n",
    "        l = pivot_index + 1\n",
    "        r =  len(nums) - 1\n",
    "\n",
    "    # --------------------------------\n",
    "    \n",
    "    while l<=r: \n",
    "        mid  = l + (r-l) //2\n",
    "        \n",
    "        if target == nums[mid]:\n",
    "            return mid\n",
    "        \n",
    "        if target > nums[mid]:\n",
    "            l = mid + 1\n",
    "        \n",
    "        if target < nums[mid]:\n",
    "            r = mid - 1 \n",
    "            \n",
    "    return -1 \n",
    "    "
   ]
  },
  {
   "cell_type": "code",
   "execution_count": 33,
   "metadata": {},
   "outputs": [
    {
     "name": "stdout",
     "output_type": "stream",
     "text": [
      "yes\n"
     ]
    },
    {
     "data": {
      "text/plain": [
       "0"
      ]
     },
     "execution_count": 33,
     "metadata": {},
     "output_type": "execute_result"
    }
   ],
   "source": [
    "nums = [1]\n",
    "target = 1\n",
    "search(nums, target)"
   ]
  },
  {
   "cell_type": "code",
   "execution_count": 21,
   "metadata": {},
   "outputs": [
    {
     "data": {
      "text/plain": [
       "4"
      ]
     },
     "execution_count": 21,
     "metadata": {},
     "output_type": "execute_result"
    }
   ],
   "source": [
    "nums = [4,5,6,7,0,1,2,3]\n",
    "target = 0\n",
    "search(nums, target)"
   ]
  },
  {
   "cell_type": "code",
   "execution_count": 22,
   "metadata": {},
   "outputs": [
    {
     "data": {
      "text/plain": [
       "4"
      ]
     },
     "execution_count": 22,
     "metadata": {},
     "output_type": "execute_result"
    }
   ],
   "source": [
    "nums =  [4,5,6,7,8,1,2,3]\n",
    "target = 8 \n",
    "search(nums, target)"
   ]
  },
  {
   "cell_type": "code",
   "execution_count": 23,
   "metadata": {},
   "outputs": [
    {
     "data": {
      "text/plain": [
       "3"
      ]
     },
     "execution_count": 23,
     "metadata": {},
     "output_type": "execute_result"
    }
   ],
   "source": [
    "nums =  [1,2,3,4,5,6,7,8]\n",
    "target = 4\n",
    "search(nums,target)"
   ]
  },
  {
   "cell_type": "code",
   "execution_count": 24,
   "metadata": {},
   "outputs": [
    {
     "data": {
      "text/plain": [
       "-1"
      ]
     },
     "execution_count": 24,
     "metadata": {},
     "output_type": "execute_result"
    }
   ],
   "source": [
    "nums =  [1]\n",
    "target = 0\n",
    "search(nums,target)"
   ]
  },
  {
   "cell_type": "code",
   "execution_count": 16,
   "metadata": {},
   "outputs": [
    {
     "data": {
      "text/plain": [
       "-1"
      ]
     },
     "execution_count": 16,
     "metadata": {},
     "output_type": "execute_result"
    }
   ],
   "source": [
    "nums =  []\n",
    "target = 0\n",
    "search(nums,target)"
   ]
  },
  {
   "cell_type": "code",
   "execution_count": 17,
   "metadata": {},
   "outputs": [
    {
     "name": "stdout",
     "output_type": "stream",
     "text": [
      "0\n"
     ]
    },
    {
     "data": {
      "text/plain": [
       "1"
      ]
     },
     "execution_count": 17,
     "metadata": {},
     "output_type": "execute_result"
    }
   ],
   "source": [
    "nums =  [5,1,3]\n",
    "target = 1\n",
    "search(nums,target)"
   ]
  },
  {
   "cell_type": "code",
   "execution_count": 18,
   "metadata": {},
   "outputs": [
    {
     "name": "stdout",
     "output_type": "stream",
     "text": [
      "1\n"
     ]
    },
    {
     "data": {
      "text/plain": [
       "2"
      ]
     },
     "execution_count": 18,
     "metadata": {},
     "output_type": "execute_result"
    }
   ],
   "source": [
    "nums =  [4,5,1,2,3]\n",
    "target = 1\n",
    "search(nums,target)"
   ]
  },
  {
   "cell_type": "code",
   "execution_count": 19,
   "metadata": {},
   "outputs": [
    {
     "name": "stdout",
     "output_type": "stream",
     "text": [
      "3\n"
     ]
    },
    {
     "data": {
      "text/plain": [
       "4"
      ]
     },
     "execution_count": 19,
     "metadata": {},
     "output_type": "execute_result"
    }
   ],
   "source": [
    "nums = [4,5,6,7,0,1,2]\n",
    "target = 0\n",
    "search(nums,target)"
   ]
  },
  {
   "cell_type": "code",
   "execution_count": 34,
   "metadata": {},
   "outputs": [],
   "source": [
    "def findpivot(nums):\n",
    "    \n",
    "    if not nums or len(nums)== 1 :\n",
    "        return -1\n",
    "    \n",
    "    \n",
    "    l = 0 \n",
    "    r = len(nums) - 1\n",
    "    \n",
    "    if nums[l] < nums[r]:\n",
    "        return r\n",
    "    \n",
    "    while l<=r: \n",
    "        mid = l + (r-l)//2\n",
    "        #print(l, mid, r)\n",
    "        \n",
    "        if nums[mid] > nums[mid+1]:\n",
    "            return mid\n",
    "        \n",
    "        \n",
    "        if nums[l] <= nums[mid]:   # If true, then this subarray is sorted\n",
    "            l = mid + 1\n",
    "        else:\n",
    "            r = mid - 1\n",
    "                \n",
    "    return -1\n",
    "        \n",
    "        # Check if the mid element is more than the last. If so, there will be a drop\n",
    "    \n",
    "    \n",
    "    \n"
   ]
  },
  {
   "cell_type": "code",
   "execution_count": 35,
   "metadata": {},
   "outputs": [
    {
     "data": {
      "text/plain": [
       "4"
      ]
     },
     "execution_count": 35,
     "metadata": {},
     "output_type": "execute_result"
    }
   ],
   "source": [
    "nums = [4,5,6,7,8,1,2,3]\n",
    "findpivot(nums)"
   ]
  },
  {
   "cell_type": "code",
   "execution_count": 36,
   "metadata": {},
   "outputs": [
    {
     "data": {
      "text/plain": [
       "1"
      ]
     },
     "execution_count": 36,
     "metadata": {},
     "output_type": "execute_result"
    }
   ],
   "source": [
    "nums =  [4,5,1,2,3]\n",
    "findpivot(nums)"
   ]
  },
  {
   "cell_type": "code",
   "execution_count": 37,
   "metadata": {},
   "outputs": [
    {
     "data": {
      "text/plain": [
       "3"
      ]
     },
     "execution_count": 37,
     "metadata": {},
     "output_type": "execute_result"
    }
   ],
   "source": [
    "nums = [4,5,6,7,0,1,2]\n",
    "findpivot(nums)"
   ]
  },
  {
   "cell_type": "code",
   "execution_count": 38,
   "metadata": {},
   "outputs": [
    {
     "data": {
      "text/plain": [
       "0"
      ]
     },
     "execution_count": 38,
     "metadata": {},
     "output_type": "execute_result"
    }
   ],
   "source": [
    "nums =  [5,1,3]\n",
    "findpivot(nums)"
   ]
  },
  {
   "cell_type": "code",
   "execution_count": 39,
   "metadata": {},
   "outputs": [
    {
     "data": {
      "text/plain": [
       "7"
      ]
     },
     "execution_count": 39,
     "metadata": {},
     "output_type": "execute_result"
    }
   ],
   "source": [
    "nums =  [1,2,3,4,5,6,7,8]\n",
    "findpivot(nums)"
   ]
  },
  {
   "cell_type": "code",
   "execution_count": 40,
   "metadata": {},
   "outputs": [
    {
     "data": {
      "text/plain": [
       "3"
      ]
     },
     "execution_count": 40,
     "metadata": {},
     "output_type": "execute_result"
    }
   ],
   "source": [
    "nums = [4,5,6,7,0,1,2,3]\n",
    "findpivot(nums)"
   ]
  },
  {
   "cell_type": "code",
   "execution_count": 35,
   "metadata": {},
   "outputs": [],
   "source": [
    "def find(nums, target):\n",
    "\n",
    "    l = 0 \n",
    "    r = len(nums) - 1\n",
    "\n",
    "    while l<=r:\n",
    "        mid = l + (r-l)//2 \n",
    "        \n",
    "        print(l,mid,r)\n",
    "\n",
    "        if nums[mid] == target:\n",
    "            return mid\n",
    "\n",
    "        if nums[mid] > nums[l]:    # This section is sorted, so search is meaningful \n",
    "            if nums[l]<= target < nums[mid]:\n",
    "                r = mid - 1\n",
    "            else: \n",
    "                l = mid + 1\n",
    "        elif nums[mid] < nums[l]:                      # This section is sorted, so search is meaningful \n",
    "            if nums[mid]< target <= nums[r]:\n",
    "                l = mid + 1\n",
    "            else: \n",
    "                r = mid - 1\n",
    "        else: \n",
    "            l +=1\n",
    "\n",
    "    return -1 "
   ]
  },
  {
   "cell_type": "code",
   "execution_count": 36,
   "metadata": {},
   "outputs": [
    {
     "name": "stdout",
     "output_type": "stream",
     "text": [
      "0 3 6\n",
      "4 5 6\n",
      "4 4 4\n"
     ]
    },
    {
     "data": {
      "text/plain": [
       "4"
      ]
     },
     "execution_count": 36,
     "metadata": {},
     "output_type": "execute_result"
    }
   ],
   "source": [
    "nums = [4,5,6,7,0,1,2]\n",
    "target = 0\n",
    "find(nums,target)"
   ]
  },
  {
   "cell_type": "code",
   "execution_count": 32,
   "metadata": {},
   "outputs": [
    {
     "name": "stdout",
     "output_type": "stream",
     "text": [
      "0 0 1\n",
      "1\n",
      "1 1 1\n"
     ]
    },
    {
     "data": {
      "text/plain": [
       "1"
      ]
     },
     "execution_count": 32,
     "metadata": {},
     "output_type": "execute_result"
    }
   ],
   "source": [
    "nums = [3,1]\n",
    "target = 1\n",
    "find(nums,target)"
   ]
  },
  {
   "cell_type": "code",
   "execution_count": null,
   "metadata": {},
   "outputs": [],
   "source": []
  }
 ],
 "metadata": {
  "kernelspec": {
   "display_name": "Python 3",
   "language": "python",
   "name": "python3"
  },
  "language_info": {
   "codemirror_mode": {
    "name": "ipython",
    "version": 3
   },
   "file_extension": ".py",
   "mimetype": "text/x-python",
   "name": "python",
   "nbconvert_exporter": "python",
   "pygments_lexer": "ipython3",
   "version": "3.6.6"
  }
 },
 "nbformat": 4,
 "nbformat_minor": 2
}
