{
 "cells": [
  {
   "cell_type": "code",
   "execution_count": 15,
   "metadata": {},
   "outputs": [],
   "source": [
    "def findKthLargest(nums, k):\n",
    "\n",
    "    def partition(l , r, pivot_idx):\n",
    "\n",
    "        nums[r] , nums[pivot_idx] = nums[pivot_idx] , nums[r]  # criteria for bucketing \n",
    "        i = l          # used for swaps\n",
    "        \n",
    "        for j in range(l,r):\n",
    "            \n",
    "            if nums[j] <  nums[r]:\n",
    "                nums[j], nums[i] = nums[i], nums[j]\n",
    "                i+=1\n",
    "                \n",
    "        nums[r] , nums[i] = nums[i] , nums[r]\n",
    "        return i\n",
    "    \n",
    "    def sortSearch(l, r, k_smallest):\n",
    "        \n",
    "        if l==r: return nums[l]\n",
    "        \n",
    "        if l<r:\n",
    "            partition_idx = partition(l , r, l+(r-l)//2)\n",
    "            if nums[partition_idx] == k_smallest:\n",
    "                return nums[k_smallest]\n",
    "\n",
    "            if nums[partition_idx] > k_smallest:\n",
    "                return sortSearch(l , partition_idx -1  , k_smallest)\n",
    "            else: \n",
    "                return sortSearch(partition_idx + 1 , r , k_smallest)\n",
    "        \n",
    "        \n",
    "        \n",
    "    return sortSearch(0 , len(nums)-1, len(nums) - k)\n",
    "        \n",
    "\n"
   ]
  },
  {
   "cell_type": "code",
   "execution_count": 10,
   "metadata": {},
   "outputs": [],
   "source": [
    "def findKthLargest(nums, k):\n",
    "\n",
    "        nums = [-e for e in nums]\n",
    "        \n",
    "        # Form the max heap\n",
    "        heapq.heapify(nums)\n",
    "        \n",
    "        # Extract the kth element \n",
    "        for i in range(k):\n",
    "            ans = heapq.heappop(nums)\n",
    "        return -ans "
   ]
  },
  {
   "cell_type": "code",
   "execution_count": 27,
   "metadata": {},
   "outputs": [],
   "source": [
    "def findKthLargest(nums, k):\n",
    "    \n",
    "    \n",
    "   \n",
    "    \n",
    "    def partition(l, r, mid):\n",
    "        nums[r] , nums[mid] = nums[mid] , nums[r]\n",
    "        i = l\n",
    "        for j in range(l,r):\n",
    "            if nums[j] < nums[r]:\n",
    "                nums[i] , nums[j] = nums[j] , nums[i]\n",
    "                i += 1\n",
    "        nums[i] , nums[r] = nums[r] , nums[i] # Final resting place for the pivot \n",
    "        return i\n",
    "    \n",
    "    \n",
    "    def quickSelect(l, r, k):\n",
    "        \n",
    "        #if l==r: \n",
    "        #    return nums[l]\n",
    "        \n",
    "        if l<r:\n",
    "            pivot_idx = partition(l, r, l+(r-l)//2)\n",
    "            \n",
    "            if pivot_idx  == (len(nums)-k):\n",
    "                return nums[pivot_idx]\n",
    "            \n",
    "            if  pivot_idx  > (len(nums)-k) :\n",
    "                return quickSelect(l, pivot_idx - 1, k)\n",
    "            else: \n",
    "                return quickSelect(pivot_idx + 1, r, k)\n",
    "\n",
    "    return quickSelect(0, len(nums)-1, k)\n",
    " "
   ]
  },
  {
   "cell_type": "code",
   "execution_count": 28,
   "metadata": {},
   "outputs": [
    {
     "data": {
      "text/plain": [
       "6"
      ]
     },
     "execution_count": 28,
     "metadata": {},
     "output_type": "execute_result"
    }
   ],
   "source": [
    "nums = [3,2,1,5,6,6,4] \n",
    "k = 2\n",
    "findKthLargest(nums,k)\n",
    "\n"
   ]
  },
  {
   "cell_type": "code",
   "execution_count": 31,
   "metadata": {},
   "outputs": [
    {
     "data": {
      "text/plain": [
       "1"
      ]
     },
     "execution_count": 31,
     "metadata": {},
     "output_type": "execute_result"
    }
   ],
   "source": [
    "round(1.4)"
   ]
  },
  {
   "cell_type": "code",
   "execution_count": 22,
   "metadata": {},
   "outputs": [
    {
     "data": {
      "text/plain": [
       "7"
      ]
     },
     "execution_count": 22,
     "metadata": {},
     "output_type": "execute_result"
    }
   ],
   "source": [
    "nums = [3,2,1,5,6,6,4] \n",
    "len(nums)"
   ]
  },
  {
   "cell_type": "code",
   "execution_count": 8,
   "metadata": {},
   "outputs": [
    {
     "data": {
      "text/plain": [
       "4"
      ]
     },
     "execution_count": 8,
     "metadata": {},
     "output_type": "execute_result"
    }
   ],
   "source": [
    "nums = [3,2,3,1,2,4,5,5,6] \n",
    "k = 4\n",
    "findKthLargest(nums,k)"
   ]
  }
 ],
 "metadata": {
  "kernelspec": {
   "display_name": "Python 3",
   "language": "python",
   "name": "python3"
  },
  "language_info": {
   "codemirror_mode": {
    "name": "ipython",
    "version": 3
   },
   "file_extension": ".py",
   "mimetype": "text/x-python",
   "name": "python",
   "nbconvert_exporter": "python",
   "pygments_lexer": "ipython3",
   "version": "3.6.6"
  }
 },
 "nbformat": 4,
 "nbformat_minor": 2
}
