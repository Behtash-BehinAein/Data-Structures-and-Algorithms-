{
 "cells": [
  {
   "cell_type": "code",
   "execution_count": 7,
   "metadata": {},
   "outputs": [],
   "source": [
    "def sortArray(nums):\n",
    "    \n",
    "    \n",
    "    def partition(l,r, pivot_idx):\n",
    "        nums[r] , nums[pivot_idx] = nums[pivot_idx] , nums[r]\n",
    "        i = l # used for swaps\n",
    "        for j in range(l,r):\n",
    "            if nums[j] < nums[r]:\n",
    "                nums[j] , nums[i] = nums[i] , nums[j]\n",
    "                i+=1\n",
    "                \n",
    "        nums[i] , nums[r] = nums[r] , nums[i]\n",
    "        return i\n",
    "    \n",
    "    \n",
    "    \n",
    "    def quickSort(l,r):\n",
    "        #if l==r:\n",
    "        #    return nums[l]\n",
    "        if l<r:\n",
    "            partition_idx = partition(l,r, l + (r-l)//2)\n",
    "            quickSort(l, partition_idx - 1)\n",
    "            quickSort(partition_idx + 1, r)\n",
    "\n",
    "    \n",
    "    quickSort(0,len(nums)-1)\n",
    "\n",
    "\n",
    "\n"
   ]
  },
  {
   "cell_type": "code",
   "execution_count": 8,
   "metadata": {},
   "outputs": [
    {
     "data": {
      "text/plain": [
       "[3,\n",
       " 3,\n",
       " 7,\n",
       " 8,\n",
       " 12,\n",
       " 13,\n",
       " 15,\n",
       " 17,\n",
       " 18,\n",
       " 22,\n",
       " 23,\n",
       " 24,\n",
       " 28,\n",
       " 32,\n",
       " 34,\n",
       " 35,\n",
       " 43,\n",
       " 57,\n",
       " 61,\n",
       " 95,\n",
       " 100,\n",
       " 103,\n",
       " 200]"
      ]
     },
     "execution_count": 8,
     "metadata": {},
     "output_type": "execute_result"
    }
   ],
   "source": [
    "arr1 = [200, 13, 34, 57, 23, 17, 18, 95, 61, 43, 22, 12, 3, 3, 7, 8, 15, 32, 28, 24, 103, 100, 35]\n",
    "sortArray(arr1)\n",
    "arr1\n"
   ]
  },
  {
   "cell_type": "code",
   "execution_count": 13,
   "metadata": {},
   "outputs": [],
   "source": [
    "def sortArray(nums):\n",
    "    \n",
    "    \n",
    "    # Partition puts the pivot element at its final correct position\n",
    "    #  Left ------  PIVOT ----------- Right\n",
    "    def partition(l , r, mid):\n",
    "        nums[mid] , nums[r] = nums[r] , nums[mid] \n",
    "        \n",
    "        i = l\n",
    "        for j in range(l,r):\n",
    "            if nums[j] < nums[r]:\n",
    "                nums[j] , nums[i] = nums[i] , nums[j] \n",
    "                i+=1\n",
    "        # put the pivot in its final resting place \n",
    "        nums[i] , nums[r] =  nums[r] , nums[i]\n",
    "        return i \n",
    "        \n",
    "    def quickSort(l , r):\n",
    "        \n",
    "        if l==r:\n",
    "            return nums[l]\n",
    "        if l<r:\n",
    "            pivot_idx = partition(l, r, l+ (r-l)//2)\n",
    "            quickSort(l, pivot_idx -1)\n",
    "            quickSort(pivot_idx +1 , r)\n",
    "            \n",
    "    return quickSort(0, len(nums)-1)\n",
    "\n",
    "    \n",
    "    "
   ]
  },
  {
   "cell_type": "code",
   "execution_count": 70,
   "metadata": {},
   "outputs": [
    {
     "data": {
      "text/plain": [
       "[0, 1, 2, 4, 5, 6, 7]"
      ]
     },
     "execution_count": 70,
     "metadata": {},
     "output_type": "execute_result"
    }
   ],
   "source": [
    "arr = [4,5,6,7,0,1,2]\n",
    "sortArray(arr)\n",
    "arr"
   ]
  },
  {
   "cell_type": "code",
   "execution_count": 71,
   "metadata": {},
   "outputs": [],
   "source": [
    "heapq.heapify(arr)"
   ]
  },
  {
   "cell_type": "code",
   "execution_count": 93,
   "metadata": {},
   "outputs": [],
   "source": [
    "matrix = [\n",
    "   [ 1,  5,  9],\n",
    "   [10, 11, 13],\n",
    "   [12, 13, 15]\n",
    "]"
   ]
  },
  {
   "cell_type": "code",
   "execution_count": 95,
   "metadata": {},
   "outputs": [
    {
     "data": {
      "text/plain": [
       "[(1, 0, 0), (5, 0, 1), (9, 0, 2)]"
      ]
     },
     "execution_count": 95,
     "metadata": {},
     "output_type": "execute_result"
    }
   ],
   "source": [
    "[(e, 0 , j) for j,e in enumerate(matrix[0])]"
   ]
  },
  {
   "cell_type": "code",
   "execution_count": 80,
   "metadata": {},
   "outputs": [
    {
     "data": {
      "text/plain": [
       "[1, 5, 9, 10, 11, 13, 12, 13, 15]"
      ]
     },
     "execution_count": 80,
     "metadata": {},
     "output_type": "execute_result"
    }
   ],
   "source": [
    "a = []\n",
    "for r in matrix:\n",
    "    a.extend(r)\n",
    "a"
   ]
  },
  {
   "cell_type": "code",
   "execution_count": 81,
   "metadata": {},
   "outputs": [
    {
     "data": {
      "text/plain": [
       "[(1, 0), (10, 1), (12, 2)]"
      ]
     },
     "execution_count": 81,
     "metadata": {},
     "output_type": "execute_result"
    }
   ],
   "source": [
    "lst = []\n",
    "for i in range(len(matrix)):\n",
    "    heapq.heappush(lst, (matrix[i].pop(0), i))\n",
    "lst"
   ]
  },
  {
   "cell_type": "code",
   "execution_count": 91,
   "metadata": {},
   "outputs": [
    {
     "name": "stdout",
     "output_type": "stream",
     "text": [
      "0 1\n",
      "1 2\n",
      "2 3\n",
      "3 4\n"
     ]
    }
   ],
   "source": [
    "arr = [1,2,3,4]\n",
    "\n",
    "for i,j in enumerate(arr):\n",
    "    print(i,j)"
   ]
  },
  {
   "cell_type": "code",
   "execution_count": null,
   "metadata": {},
   "outputs": [],
   "source": []
  }
 ],
 "metadata": {
  "kernelspec": {
   "display_name": "Python 3",
   "language": "python",
   "name": "python3"
  },
  "language_info": {
   "codemirror_mode": {
    "name": "ipython",
    "version": 3
   },
   "file_extension": ".py",
   "mimetype": "text/x-python",
   "name": "python",
   "nbconvert_exporter": "python",
   "pygments_lexer": "ipython3",
   "version": "3.6.6"
  }
 },
 "nbformat": 4,
 "nbformat_minor": 2
}
