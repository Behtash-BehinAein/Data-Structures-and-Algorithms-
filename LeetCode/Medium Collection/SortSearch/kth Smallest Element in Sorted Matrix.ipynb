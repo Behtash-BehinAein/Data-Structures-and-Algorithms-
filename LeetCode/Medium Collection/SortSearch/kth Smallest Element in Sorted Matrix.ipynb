{
 "cells": [
  {
   "cell_type": "code",
   "execution_count": 64,
   "metadata": {},
   "outputs": [],
   "source": [
    "def kthSmallest(matrix, k) :\n",
    "\n",
    "        #  Sorting is done more quickly since the matrix is sorted \n",
    "        # (1a)\n",
    "        a=[]\n",
    "        for r in matrix:\n",
    "            a.extend(r)\n",
    "        return sorted(a)[k-1]\n",
    "        # -----------------------------------------------------------\n",
    "        # (1b)\n",
    "        a=[]\n",
    "        for r in matrix:\n",
    "            a.extend(r)\n",
    "        return heapq.nsmallest(k , a)\n",
    "\n",
    "        # -----------------------------------------------------------\n",
    "        # (2) Expand from the first corner element\n",
    "        '''\n",
    "        kth_smallest = [(matrix[0][0] , 0 , 0)] \n",
    "        heapq.heapify(kth_smallest) \n",
    "        visited = set((0,0))\n",
    "    \n",
    "        for _ in range(k) :\n",
    "            ans , r , c =  heapq.heappop(kth_smallest)\n",
    "\n",
    "            if r < len(matrix)-1 and (r+1 , c) not in visited:\n",
    "                heapq.heappush(kth_smallest, (matrix[r+1][c] , r+1, c))\n",
    "                visited.add((r+1, c))\n",
    "            if c < len(matrix[0]) -1 and (r , c+1) not in visited: \n",
    "                heapq.heappush(kth_smallest, (matrix[r][c+1] , r, c+1))\n",
    "                visited.add((r, c+1))\n",
    "\n",
    "        return ans\n",
    "        '''\n",
    "        # (3) -------------------------------------------------------------------------------\n",
    "        # Expand from a row or a column \n",
    "        '''\n",
    "        curr_row = [(e, 0 , c) for c,e in enumerate(matrix[0])]\n",
    "        heapq.heapify(curr_row)\n",
    "        \n",
    "        for _ in range(k):\n",
    "            ans , r , c  = heapq.heappop(curr_row)\n",
    "            if (r+1) <= len(matrix)-1 :\n",
    "                heapq.heappush(curr_row, (matrix[r+1][c] , r+1, c))\n",
    "        return ans\n",
    "        '''\n",
    "        # ----------------------------------------------------------------------------------"
   ]
  },
  {
   "cell_type": "code",
   "execution_count": 65,
   "metadata": {},
   "outputs": [],
   "source": [
    "import heapq"
   ]
  },
  {
   "cell_type": "code",
   "execution_count": 66,
   "metadata": {},
   "outputs": [
    {
     "data": {
      "text/plain": [
       "5"
      ]
     },
     "execution_count": 66,
     "metadata": {},
     "output_type": "execute_result"
    }
   ],
   "source": [
    "matrix = [\n",
    "          [1,4,7,11,15],\n",
    "          [2,5,8,12,19],\n",
    "          [3,6,9,16,22],\n",
    "          [10,13,14,17,24],\n",
    "          [18,21,23,26,30]\n",
    "         ]\n",
    "k = 5\n",
    "\n",
    "kthSmallest(matrix, k)"
   ]
  },
  {
   "cell_type": "code",
   "execution_count": 67,
   "metadata": {},
   "outputs": [
    {
     "data": {
      "text/plain": [
       "13"
      ]
     },
     "execution_count": 67,
     "metadata": {},
     "output_type": "execute_result"
    }
   ],
   "source": [
    "matrix = [\n",
    "   [ 1,  5,  9],\n",
    "   [10, 11, 13],\n",
    "   [12, 13, 15]\n",
    "]\n",
    "k = 8 \n",
    "\n",
    "kthSmallest(matrix, k)"
   ]
  },
  {
   "cell_type": "code",
   "execution_count": 48,
   "metadata": {},
   "outputs": [],
   "source": [
    "map = {'I':1 , 'V':5, 'X':10, 'L':50, 'C':100,  'D' : 500, 'M' : 1000}"
   ]
  },
  {
   "cell_type": "code",
   "execution_count": 69,
   "metadata": {},
   "outputs": [
    {
     "data": {
      "text/plain": [
       "[1, 2]"
      ]
     },
     "execution_count": 69,
     "metadata": {},
     "output_type": "execute_result"
    }
   ],
   "source": [
    "lst = [1]\n",
    "heapq.heappush(lst,2)\n",
    "lst"
   ]
  },
  {
   "cell_type": "code",
   "execution_count": 76,
   "metadata": {},
   "outputs": [
    {
     "data": {
      "text/plain": [
       "318.1526396202093"
      ]
     },
     "execution_count": 76,
     "metadata": {},
     "output_type": "execute_result"
    }
   ],
   "source": [
    "import scipy\n",
    "import math\n",
    "math.log(scipy.math.factorial(90))"
   ]
  },
  {
   "cell_type": "code",
   "execution_count": 78,
   "metadata": {},
   "outputs": [
    {
     "data": {
      "text/plain": [
       "4050.0"
      ]
     },
     "execution_count": 78,
     "metadata": {},
     "output_type": "execute_result"
    }
   ],
   "source": [
    "90*90/2"
   ]
  },
  {
   "cell_type": "code",
   "execution_count": null,
   "metadata": {},
   "outputs": [],
   "source": []
  }
 ],
 "metadata": {
  "kernelspec": {
   "display_name": "Python 3",
   "language": "python",
   "name": "python3"
  },
  "language_info": {
   "codemirror_mode": {
    "name": "ipython",
    "version": 3
   },
   "file_extension": ".py",
   "mimetype": "text/x-python",
   "name": "python",
   "nbconvert_exporter": "python",
   "pygments_lexer": "ipython3",
   "version": "3.6.6"
  }
 },
 "nbformat": 4,
 "nbformat_minor": 2
}
