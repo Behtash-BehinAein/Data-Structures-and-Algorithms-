{
 "cells": [
  {
   "cell_type": "code",
   "execution_count": 268,
   "metadata": {},
   "outputs": [],
   "source": [
    "import heapq\n",
    "def minMeetingRooms(intervals):\n",
    "    \n",
    "    \n",
    "    # Chronological ordering   =======================================\n",
    "    '''\n",
    "    if not intervals: \n",
    "        return 0\n",
    "\n",
    "    starts , ends = sorted([i[0] for i  in intervals]) , sorted([i[1] for i  in intervals]) \n",
    "\n",
    "    reusableRoomCnt = 0\n",
    "    for start in starts: \n",
    "        if start >= ends[reusableRoomCnt]:\n",
    "            reusableRoomCnt +=1\n",
    "\n",
    "    return len(ends) - reusableRoomCnt\n",
    "    '''\n",
    "    # ================================================================\n",
    "    \n",
    "    \n",
    "    \n",
    "    \n",
    "    \n",
    "    # Using min-heap   ===============================================\n",
    "    if not intervals:\n",
    "        return 0\n",
    "\n",
    "\n",
    "    # Initialize the min-heap to later store meeting end times \n",
    "    req_rooms = []\n",
    "\n",
    "\n",
    "    # Sort the meetings based on their start time \n",
    "    intervals.sort(key = lambda x: x[0])\n",
    "\n",
    "\n",
    "    # Add the fist meeting's end time to the min_heap\n",
    "    heapq.heappush(req_rooms, intervals[0][1])\n",
    "\n",
    "\n",
    "    for i in range(1,len(intervals)):\n",
    "\n",
    "\n",
    "        # Allocate an already used room if it has become available\n",
    "        if intervals[i][0] >= req_rooms[0]:\n",
    "            heapq.heappop(req_rooms)\n",
    "\n",
    "        # Add the new occupied room to the heap\n",
    "        heapq.heappush(req_rooms, intervals[i][1])\n",
    "\n",
    "    return len(req_rooms)\n",
    "    #==================================================================\n",
    "    \n",
    "\n"
   ]
  },
  {
   "cell_type": "code",
   "execution_count": 2,
   "metadata": {},
   "outputs": [
    {
     "data": {
      "text/plain": [
       "[0, 1, 2]"
      ]
     },
     "execution_count": 2,
     "metadata": {},
     "output_type": "execute_result"
    }
   ],
   "source": [
    "intervals = [[0, 30],[5, 10],[15, 20]] \n",
    "\n",
    "\n",
    "sorted(range(len(intervals)) , key = [e[0] for e in intervals].__getitem__)"
   ]
  },
  {
   "cell_type": "code",
   "execution_count": 1,
   "metadata": {},
   "outputs": [
    {
     "ename": "NameError",
     "evalue": "name 'minMeetingRooms' is not defined",
     "output_type": "error",
     "traceback": [
      "\u001b[1;31m---------------------------------------------------------------------------\u001b[0m",
      "\u001b[1;31mNameError\u001b[0m                                 Traceback (most recent call last)",
      "\u001b[1;32m<ipython-input-1-1b6940de854a>\u001b[0m in \u001b[0;36m<module>\u001b[1;34m\u001b[0m\n\u001b[0;32m      1\u001b[0m \u001b[0mintervals\u001b[0m \u001b[1;33m=\u001b[0m \u001b[1;33m[\u001b[0m\u001b[1;33m[\u001b[0m\u001b[1;36m0\u001b[0m\u001b[1;33m,\u001b[0m \u001b[1;36m30\u001b[0m\u001b[1;33m]\u001b[0m\u001b[1;33m,\u001b[0m\u001b[1;33m[\u001b[0m\u001b[1;36m5\u001b[0m\u001b[1;33m,\u001b[0m \u001b[1;36m10\u001b[0m\u001b[1;33m]\u001b[0m\u001b[1;33m,\u001b[0m\u001b[1;33m[\u001b[0m\u001b[1;36m15\u001b[0m\u001b[1;33m,\u001b[0m \u001b[1;36m20\u001b[0m\u001b[1;33m]\u001b[0m\u001b[1;33m]\u001b[0m\u001b[1;33m\u001b[0m\u001b[0m\n\u001b[1;32m----> 2\u001b[1;33m \u001b[0mminMeetingRooms\u001b[0m\u001b[1;33m(\u001b[0m\u001b[0mintervals\u001b[0m\u001b[1;33m)\u001b[0m\u001b[1;33m\u001b[0m\u001b[0m\n\u001b[0m",
      "\u001b[1;31mNameError\u001b[0m: name 'minMeetingRooms' is not defined"
     ]
    }
   ],
   "source": [
    "intervals = [[0, 30],[5, 10],[15, 20]] \n",
    "minMeetingRooms(intervals)\n"
   ]
  },
  {
   "cell_type": "code",
   "execution_count": 270,
   "metadata": {},
   "outputs": [
    {
     "data": {
      "text/plain": [
       "1"
      ]
     },
     "execution_count": 270,
     "metadata": {},
     "output_type": "execute_result"
    }
   ],
   "source": [
    "intervals = [[7,10],[2,4]]\n",
    "minMeetingRooms(intervals)"
   ]
  },
  {
   "cell_type": "code",
   "execution_count": 271,
   "metadata": {},
   "outputs": [
    {
     "data": {
      "text/plain": [
       "2"
      ]
     },
     "execution_count": 271,
     "metadata": {},
     "output_type": "execute_result"
    }
   ],
   "source": [
    "intervals = [[5,8],[6,8]]\n",
    "minMeetingRooms(intervals)"
   ]
  },
  {
   "cell_type": "code",
   "execution_count": 261,
   "metadata": {},
   "outputs": [],
   "source": [
    "ends  = [1,3,4,2,5,3,7,2,10,6,3]\n",
    "ends_argsort  = sorted(range(len(ends)), key = ends.__getitem__)\n"
   ]
  },
  {
   "cell_type": "code",
   "execution_count": 3,
   "metadata": {},
   "outputs": [
    {
     "data": {
      "text/plain": [
       "[[0, 30], [5, 10], [15, 20]]"
      ]
     },
     "execution_count": 3,
     "metadata": {},
     "output_type": "execute_result"
    }
   ],
   "source": [
    "intervals = [[0, 30],[5, 10],[15, 20]] \n",
    "\n",
    "intervals.sort(key = lambda x: x[0])\n",
    "intervals"
   ]
  },
  {
   "cell_type": "code",
   "execution_count": 7,
   "metadata": {},
   "outputs": [
    {
     "data": {
      "text/plain": [
       "[[0, 30], [5, 10], [15, 20]]"
      ]
     },
     "execution_count": 7,
     "metadata": {},
     "output_type": "execute_result"
    }
   ],
   "source": [
    "intervals.sort(key = lambda i: i[0])\n",
    "intervals"
   ]
  },
  {
   "cell_type": "code",
   "execution_count": null,
   "metadata": {},
   "outputs": [],
   "source": []
  }
 ],
 "metadata": {
  "kernelspec": {
   "display_name": "Python 3",
   "language": "python",
   "name": "python3"
  },
  "language_info": {
   "codemirror_mode": {
    "name": "ipython",
    "version": 3
   },
   "file_extension": ".py",
   "mimetype": "text/x-python",
   "name": "python",
   "nbconvert_exporter": "python",
   "pygments_lexer": "ipython3",
   "version": "3.6.6"
  }
 },
 "nbformat": 4,
 "nbformat_minor": 2
}
