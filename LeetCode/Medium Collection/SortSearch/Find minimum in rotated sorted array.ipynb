{
 "cells": [
  {
   "cell_type": "code",
   "execution_count": 11,
   "metadata": {},
   "outputs": [],
   "source": [
    "def search(nums):\n",
    "    \n",
    "    if len(nums) == 0:\n",
    "        return nums\n",
    "    if len(nums) == 1: \n",
    "        return nums[0]\n",
    "    if nums[0] < nums[-1]:\n",
    "        return nums[0] \n",
    "\n",
    "\n",
    "\n",
    "    l = 0\n",
    "    r = len(nums)-1\n",
    "    while l<=r:\n",
    "        mid = l + (r-l)//2\n",
    "        if nums[mid] <  nums[mid-1]:\n",
    "            return nums[mid]\n",
    "        if nums[mid] > nums[mid+1]:\n",
    "            return nums[mid+1]            \n",
    "\n",
    "        if nums[mid] >= nums[l] : # This segment is sorted. Search the other segment\n",
    "            l = mid + 1\n",
    "        else:                     # This segment is sorted. Search the other segment\n",
    "            r = mid - 1\n",
    "\n",
    "            "
   ]
  },
  {
   "cell_type": "code",
   "execution_count": 12,
   "metadata": {},
   "outputs": [
    {
     "data": {
      "text/plain": [
       "1"
      ]
     },
     "execution_count": 12,
     "metadata": {},
     "output_type": "execute_result"
    }
   ],
   "source": [
    "nums = [3,4,5,1,2] \n",
    "search(nums)"
   ]
  },
  {
   "cell_type": "code",
   "execution_count": 13,
   "metadata": {},
   "outputs": [
    {
     "data": {
      "text/plain": [
       "0"
      ]
     },
     "execution_count": 13,
     "metadata": {},
     "output_type": "execute_result"
    }
   ],
   "source": [
    "nums = [4,5,6,7,0,1,2]\n",
    "search(nums)"
   ]
  },
  {
   "cell_type": "code",
   "execution_count": 4,
   "metadata": {},
   "outputs": [
    {
     "data": {
      "text/plain": [
       "-1"
      ]
     },
     "execution_count": 4,
     "metadata": {},
     "output_type": "execute_result"
    }
   ],
   "source": [
    "~0"
   ]
  },
  {
   "cell_type": "code",
   "execution_count": null,
   "metadata": {},
   "outputs": [],
   "source": []
  }
 ],
 "metadata": {
  "kernelspec": {
   "display_name": "Python 3",
   "language": "python",
   "name": "python3"
  },
  "language_info": {
   "codemirror_mode": {
    "name": "ipython",
    "version": 3
   },
   "file_extension": ".py",
   "mimetype": "text/x-python",
   "name": "python",
   "nbconvert_exporter": "python",
   "pygments_lexer": "ipython3",
   "version": "3.6.6"
  }
 },
 "nbformat": 4,
 "nbformat_minor": 2
}
