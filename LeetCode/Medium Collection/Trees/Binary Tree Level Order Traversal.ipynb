{
 "cells": [
  {
   "cell_type": "code",
   "execution_count": 4,
   "metadata": {},
   "outputs": [],
   "source": [
    "class Node():\n",
    "    def __init__(self, value):\n",
    "        self.value = value\n",
    "        self.right = None\n",
    "        self.left  = None \n",
    "        self.parent = None\n",
    "    def __repr__(self):\n",
    "        return str(self.value)"
   ]
  },
  {
   "cell_type": "code",
   "execution_count": 5,
   "metadata": {},
   "outputs": [],
   "source": [
    "root = Node(15)\n",
    "root.left , root.right = Node(6) , Node(18)\n",
    "root.left.parent , root.right.parent = root, root\n",
    "\n",
    "root.left.left , root.left.right = Node(3) , Node(7)\n",
    "root.left.left.parent , root.left.right.parent = root.left , root.left\n",
    "\n",
    "root.right.left , root.right.right = Node(17) , Node(20)\n",
    "root.right.left.parent , root.right.right.parent = root.right, root.right\n",
    "\n",
    "root.left.left.left , root.left.left.right = Node(2) , Node(4)\n",
    "root.left.left.left.parent , root.left.left.right.parent = root.left.left , root.left.left\n",
    "\n",
    "root.left.right.right        = Node(13)\n",
    "root.left.right.right.parent = root.left.right \n",
    "\n",
    "root.left.right.right.left  = Node(9) \n",
    "root.left.right.right.left.parent  = root.left.right.right\n",
    "\n"
   ]
  },
  {
   "cell_type": "markdown",
   "metadata": {},
   "source": [
    "# Q based"
   ]
  },
  {
   "cell_type": "code",
   "execution_count": 9,
   "metadata": {},
   "outputs": [
    {
     "data": {
      "text/plain": [
       "[[15], [6, 18], [3, 7, 17, 20], [2, 4, 13], [9]]"
      ]
     },
     "execution_count": 9,
     "metadata": {},
     "output_type": "execute_result"
    }
   ],
   "source": [
    "def levelOrder(self, root):\n",
    "    \"\"\"\n",
    "    :type root: TreeNode\n",
    "    :rtype: List[List[int]]\n",
    "    \"\"\"\n",
    "    # Q based --------------------------------------------------\n",
    "    from collections import deque\n",
    "\n",
    "    if not root:\n",
    "        return []\n",
    "\n",
    "    tmp_str = deque([root])\n",
    "    tree_lbyl = []\n",
    "    level = 0\n",
    "    while tmp_str:\n",
    "\n",
    "        # Prepare for the level\n",
    "        n_node_per_level = len(tmp_str) \n",
    "        tree_lbyl.append([])\n",
    "\n",
    "        # Process the level\n",
    "        for i in range(n_node_per_level):\n",
    "            node = tmp_str.popleft()\n",
    "            tree_lbyl[level].append(node.val)\n",
    "            if node.left : tmp_str.append(node.left)\n",
    "            if node.right: tmp_str.append(node.right)\n",
    "\n",
    "        # Increase the level number \n",
    "        level+=1\n",
    "\n",
    "    return tree_lbyl\n",
    "        \n",
    "levelOrderTraversal(root)"
   ]
  },
  {
   "cell_type": "markdown",
   "metadata": {},
   "source": [
    "# Array based "
   ]
  },
  {
   "cell_type": "code",
   "execution_count": 8,
   "metadata": {},
   "outputs": [
    {
     "data": {
      "text/plain": [
       "[[15], [6, 18], [3, 7, 17, 20], [2, 4, 13], [9]]"
      ]
     },
     "execution_count": 8,
     "metadata": {},
     "output_type": "execute_result"
    }
   ],
   "source": [
    "def levelOrderTraversal(root):\n",
    "        # Array based --------------------------------------------- \n",
    "        if not root:\n",
    "            return []\n",
    "        \n",
    "        tree_lbyl = [[root]]\n",
    "        for level in tree_lbyl:\n",
    "            level_children = []\n",
    "            for node in level: \n",
    "                if node.left: \n",
    "                    level_children.append(node.left)        \n",
    "                if node.right: \n",
    "                    level_children.append(node.right)\n",
    "            if level_children:\n",
    "                tree_lbyl.append(level_children)\n",
    "\n",
    "        return [[node.value for node in level] for level in tree_lbyl]\n",
    "    \n",
    "levelOrderTraversal(root)"
   ]
  },
  {
   "cell_type": "code",
   "execution_count": null,
   "metadata": {},
   "outputs": [],
   "source": []
  }
 ],
 "metadata": {
  "kernelspec": {
   "display_name": "Python 3",
   "language": "python",
   "name": "python3"
  },
  "language_info": {
   "codemirror_mode": {
    "name": "ipython",
    "version": 3
   },
   "file_extension": ".py",
   "mimetype": "text/x-python",
   "name": "python",
   "nbconvert_exporter": "python",
   "pygments_lexer": "ipython3",
   "version": "3.6.6"
  }
 },
 "nbformat": 4,
 "nbformat_minor": 2
}
