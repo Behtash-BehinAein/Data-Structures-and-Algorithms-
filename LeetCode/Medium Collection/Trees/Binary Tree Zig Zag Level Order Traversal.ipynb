{
 "cells": [
  {
   "cell_type": "code",
   "execution_count": 1,
   "metadata": {},
   "outputs": [],
   "source": [
    "class Node():\n",
    "    def __init__(self, value):\n",
    "        self.value = value\n",
    "        self.right = None\n",
    "        self.left  = None \n",
    "        self.parent = None\n",
    "    def __repr__(self):\n",
    "        return str(self.value)"
   ]
  },
  {
   "cell_type": "code",
   "execution_count": 2,
   "metadata": {},
   "outputs": [],
   "source": [
    "root = Node(15)\n",
    "root.left , root.right = Node(6) , Node(18)\n",
    "root.left.parent , root.right.parent = root, root\n",
    "\n",
    "root.left.left , root.left.right = Node(3) , Node(7)\n",
    "root.left.left.parent , root.left.right.parent = root.left , root.left\n",
    "\n",
    "root.right.left , root.right.right = Node(17) , Node(20)\n",
    "root.right.left.parent , root.right.right.parent = root.right, root.right\n",
    "\n",
    "root.left.left.left , root.left.left.right = Node(2) , Node(4)\n",
    "root.left.left.left.parent , root.left.left.right.parent = root.left.left , root.left.left\n",
    "\n",
    "root.left.right.right        = Node(13)\n",
    "root.left.right.right.parent = root.left.right \n",
    "\n",
    "root.left.right.right.left  = Node(9) \n",
    "root.left.right.right.left.parent  = root.left.right.right\n",
    "\n"
   ]
  },
  {
   "cell_type": "markdown",
   "metadata": {},
   "source": [
    "# Array Based"
   ]
  },
  {
   "cell_type": "code",
   "execution_count": 7,
   "metadata": {},
   "outputs": [
    {
     "data": {
      "text/plain": [
       "[[15], [18, 6], [3, 7, 17, 20], [13, 4, 2], [9]]"
      ]
     },
     "execution_count": 7,
     "metadata": {},
     "output_type": "execute_result"
    }
   ],
   "source": [
    "def ZigZagLevelOrderTraversal(root):\n",
    "    \n",
    "    if not root:\n",
    "        return []\n",
    "    \n",
    "    zigzag_lbyl = [[root]]\n",
    "    RtoL = 1\n",
    "    for level in zigzag_lbyl:\n",
    "        level_children = []\n",
    "        for node in reversed(level):   # 1\n",
    "            \n",
    "            if not RtoL:                                           #2\n",
    "                if node.left:  level_children.append(node.left) \n",
    "                if node.right: level_children.append(node.right)\n",
    "            else: \n",
    "                if node.right: level_children.append(node.right)\n",
    "                if node.left:  level_children.append(node.left) \n",
    "            \n",
    "        if level_children:\n",
    "            zigzag_lbyl.append(level_children)\n",
    "        RtoL = not RtoL\n",
    "    \n",
    "    return [[node.value for node in level] for level in zigzag_lbyl]    \n",
    "    \n",
    "\n",
    "ZigZagLevelOrderTraversal(root)"
   ]
  },
  {
   "cell_type": "markdown",
   "metadata": {},
   "source": [
    "# Q Based"
   ]
  },
  {
   "cell_type": "code",
   "execution_count": 9,
   "metadata": {},
   "outputs": [],
   "source": [
    "def ZigZagLevelOrderTraversal(root):\n",
    "    pass\n",
    "    \n",
    "    \n",
    "ZigZagLevelOrderTraversal(root)"
   ]
  },
  {
   "cell_type": "code",
   "execution_count": null,
   "metadata": {},
   "outputs": [],
   "source": []
  }
 ],
 "metadata": {
  "kernelspec": {
   "display_name": "Python 3",
   "language": "python",
   "name": "python3"
  },
  "language_info": {
   "codemirror_mode": {
    "name": "ipython",
    "version": 3
   },
   "file_extension": ".py",
   "mimetype": "text/x-python",
   "name": "python",
   "nbconvert_exporter": "python",
   "pygments_lexer": "ipython3",
   "version": "3.6.6"
  }
 },
 "nbformat": 4,
 "nbformat_minor": 2
}
