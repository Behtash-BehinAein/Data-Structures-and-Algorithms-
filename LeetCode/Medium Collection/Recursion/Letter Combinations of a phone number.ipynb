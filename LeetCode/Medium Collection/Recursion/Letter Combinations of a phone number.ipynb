{
 "cells": [
  {
   "cell_type": "code",
   "execution_count": 36,
   "metadata": {},
   "outputs": [],
   "source": [
    "def letterCombinations(str_):\n",
    "    \n",
    "    \n",
    "    mapping = {'2':'abc' , '3' : 'def' , '4': 'ghi' , '5': 'jkl' , '6':'mno' , '7' : 'pqrs' , '8':'tuv' , '9': 'wxyz'}\n",
    "    \n",
    "    def helper(str_):\n",
    "        #print([a+b for a in mapping[str_[0]] for b in helper(str_[1:])] if str_ else [''])\n",
    "        return [a+b for a in mapping[str_[0]] for b in helper(str_[1:])] if str_ else ['']   # Recursion \n",
    "    \n",
    "    \n",
    "    return helper(str_) if str_ else []\n",
    "    \n",
    "\n",
    "    \n"
   ]
  },
  {
   "cell_type": "code",
   "execution_count": 37,
   "metadata": {},
   "outputs": [
    {
     "data": {
      "text/plain": [
       "['ad', 'ae', 'af', 'bd', 'be', 'bf', 'cd', 'ce', 'cf']"
      ]
     },
     "execution_count": 37,
     "metadata": {},
     "output_type": "execute_result"
    }
   ],
   "source": [
    "letterCombinations('23')"
   ]
  },
  {
   "cell_type": "code",
   "execution_count": 46,
   "metadata": {},
   "outputs": [
    {
     "data": {
      "text/plain": [
       "['ad', 'ae', 'af', 'bd', 'be', 'bf', 'cd', 'ce', 'cf']"
      ]
     },
     "execution_count": 46,
     "metadata": {},
     "output_type": "execute_result"
    }
   ],
   "source": [
    "\n",
    "def letterCombinations(str_):\n",
    "\n",
    "    mapping = [ '', '', 'abc' , 'def' , 'ghi' , 'jkl' , 'mno' ,  'pqrs' , 'tuv' , 'wxyz' ] \n",
    "    \n",
    "    ans = []\n",
    "    for c in str_ :\n",
    "        ans = [a+b for a in ans or [''] for b in mapping[int(c)] ]\n",
    "        \n",
    "    return ans    \n",
    "\n",
    "letterCombinations('23')"
   ]
  },
  {
   "cell_type": "code",
   "execution_count": 30,
   "metadata": {},
   "outputs": [],
   "source": [
    "def letterCombinations(digits): \n",
    "    \n",
    "    \n",
    "        # Recursive solution  ==================================\n",
    "        '''\n",
    "        mapping = {'2':'abc' , '3' : 'def' , '4': 'ghi' , '5': 'jkl' , '6':'mno' , '7' : 'pqrs' , '8':'tuv' , '9': 'wxyz'}\n",
    "        def recurse(digits):\n",
    "            return [a+b for a in mapping[digits[0]] for b in recurse(digits[1:])] if digits else ['']\n",
    "        return  recurse(digits) if digits else []\n",
    "        '''\n",
    "        # ======================================================\n",
    "\n",
    "        \n",
    "        # Iterative solution ===================================\n",
    "        mapping = ['', '',  'abc', 'def', 'ghi', 'jkl', 'mno', 'pqrs', 'tuv', 'wxyz']     \n",
    "        res = []\n",
    "        for d in digits:\n",
    "            print([a+b for a in res or [''] for b in mapping[int(d)] ])\n",
    "            res = [a+b for a in res or [''] for b in mapping[int(d)] ]\n",
    "        return res\n",
    "        # ======================================================="
   ]
  },
  {
   "cell_type": "code",
   "execution_count": 31,
   "metadata": {},
   "outputs": [
    {
     "name": "stdout",
     "output_type": "stream",
     "text": [
      "['a', 'b', 'c']\n",
      "['ad', 'ae', 'af', 'bd', 'be', 'bf', 'cd', 'ce', 'cf']\n"
     ]
    },
    {
     "data": {
      "text/plain": [
       "['ad', 'ae', 'af', 'bd', 'be', 'bf', 'cd', 'ce', 'cf']"
      ]
     },
     "execution_count": 31,
     "metadata": {},
     "output_type": "execute_result"
    }
   ],
   "source": [
    "letterCombinations('23')"
   ]
  },
  {
   "cell_type": "code",
   "execution_count": null,
   "metadata": {},
   "outputs": [],
   "source": []
  }
 ],
 "metadata": {
  "kernelspec": {
   "display_name": "Python 3",
   "language": "python",
   "name": "python3"
  },
  "language_info": {
   "codemirror_mode": {
    "name": "ipython",
    "version": 3
   },
   "file_extension": ".py",
   "mimetype": "text/x-python",
   "name": "python",
   "nbconvert_exporter": "python",
   "pygments_lexer": "ipython3",
   "version": "3.6.6"
  }
 },
 "nbformat": 4,
 "nbformat_minor": 2
}
