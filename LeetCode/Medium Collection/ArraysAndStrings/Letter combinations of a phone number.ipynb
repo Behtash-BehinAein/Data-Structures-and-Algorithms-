{
 "cells": [
  {
   "cell_type": "code",
   "execution_count": 12,
   "metadata": {},
   "outputs": [],
   "source": [
    "def letterCombinations(digits): \n",
    "    \n",
    "    \n",
    "        # Recursive solution  ==================================\n",
    "        '''\n",
    "        mapping = {'2':'abc' , '3' : 'def' , '4': 'ghi' , '5': 'jkl' , '6':'mno' , '7' : 'pqrs' , '8':'tuv' , '9': 'wxyz'}\n",
    "        def recurse(digits):\n",
    "            return [a+b for a in mapping[digits[0]] for b in recurse(digits[1:])] if digits else ['']\n",
    "        return  recurse(digits) if digits else []\n",
    "        '''\n",
    "        # ======================================================\n",
    "\n",
    "        \n",
    "        # Iterative solution ===================================\n",
    "        mapping = ['', '',  'abc', 'def', 'ghi', 'jkl', 'mno', 'pqrs', 'tuv', 'wxyz']     \n",
    "        res = []\n",
    "        for d in digits:\n",
    "            res = [a+b for a in res or [''] for b in mapping[int(d)] ]\n",
    "        return res\n",
    "        # ======================================================="
   ]
  },
  {
   "cell_type": "code",
   "execution_count": 26,
   "metadata": {},
   "outputs": [
    {
     "data": {
      "text/plain": [
       "['ad', 'ae', 'af', 'bd', 'be', 'bf', 'cd', 'ce', 'cf']"
      ]
     },
     "execution_count": 26,
     "metadata": {},
     "output_type": "execute_result"
    }
   ],
   "source": [
    "letterCombinations('23')"
   ]
  },
  {
   "cell_type": "code",
   "execution_count": 252,
   "metadata": {},
   "outputs": [
    {
     "data": {
      "text/plain": [
       "True"
      ]
     },
     "execution_count": 252,
     "metadata": {},
     "output_type": "execute_result"
    }
   ],
   "source": [
    "s , t = \"ab\",  \"acb\"\n",
    "isOneEditDistance(s,t)"
   ]
  },
  {
   "cell_type": "code",
   "execution_count": 253,
   "metadata": {},
   "outputs": [
    {
     "data": {
      "text/plain": [
       "False"
      ]
     },
     "execution_count": 253,
     "metadata": {},
     "output_type": "execute_result"
    }
   ],
   "source": [
    "s ,t = \"cab\", \"ad\"\n",
    "isOneEditDistance(s,t)"
   ]
  },
  {
   "cell_type": "code",
   "execution_count": 254,
   "metadata": {},
   "outputs": [
    {
     "data": {
      "text/plain": [
       "True"
      ]
     },
     "execution_count": 254,
     "metadata": {},
     "output_type": "execute_result"
    }
   ],
   "source": [
    "s , t =  \"1203\", \"1213\"\n",
    "isOneEditDistance(s,t)"
   ]
  },
  {
   "cell_type": "code",
   "execution_count": 1,
   "metadata": {},
   "outputs": [
    {
     "data": {
      "text/plain": [
       "'C:\\\\Users\\\\Behtash Behin-Aein\\\\Desktop\\\\iStorage\\\\LeetCode\\\\Medium Collection\\\\ArraysAndStrings'"
      ]
     },
     "execution_count": 1,
     "metadata": {},
     "output_type": "execute_result"
    }
   ],
   "source": [
    "import os\n",
    "os.getcwd()"
   ]
  },
  {
   "cell_type": "code",
   "execution_count": null,
   "metadata": {},
   "outputs": [],
   "source": []
  }
 ],
 "metadata": {
  "kernelspec": {
   "display_name": "Python 3",
   "language": "python",
   "name": "python3"
  },
  "language_info": {
   "codemirror_mode": {
    "name": "ipython",
    "version": 3
   },
   "file_extension": ".py",
   "mimetype": "text/x-python",
   "name": "python",
   "nbconvert_exporter": "python",
   "pygments_lexer": "ipython3",
   "version": "3.6.6"
  }
 },
 "nbformat": 4,
 "nbformat_minor": 2
}
