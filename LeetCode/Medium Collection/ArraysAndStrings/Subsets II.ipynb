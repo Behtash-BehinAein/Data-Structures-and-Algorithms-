{
 "cells": [
  {
   "cell_type": "markdown",
   "metadata": {},
   "source": [
    "# Iteration"
   ]
  },
  {
   "cell_type": "code",
   "execution_count": 6,
   "metadata": {},
   "outputs": [
    {
     "data": {
      "text/plain": [
       "[[], [1], [2], [1, 2], [2, 2], [1, 2, 2]]"
      ]
     },
     "execution_count": 6,
     "metadata": {},
     "output_type": "execute_result"
    }
   ],
   "source": [
    "def subsets(nums):\n",
    "    \n",
    "    if not nums:\n",
    "        return [[]]\n",
    "    \n",
    "    nums.sort()\n",
    "    seen = {}\n",
    "    res  = []\n",
    "    for sub_idx in range(2**len(nums)):\n",
    "        subset = []\n",
    "        for num_idx in range(len(nums)):\n",
    "            if sub_idx & (1 << num_idx):\n",
    "                subset.append(nums[num_idx])\n",
    "            \n",
    "        if tuple(subset) not in seen:\n",
    "            seen[tuple(subset)] = True\n",
    "            res.append(subset)\n",
    "        \n",
    "    \n",
    "    return res\n",
    "    \n",
    "    \n",
    "    \n",
    "nums = [1,2,2]\n",
    "subsets(nums)"
   ]
  },
  {
   "cell_type": "code",
   "execution_count": null,
   "metadata": {},
   "outputs": [],
   "source": []
  }
 ],
 "metadata": {
  "kernelspec": {
   "display_name": "Python 3",
   "language": "python",
   "name": "python3"
  },
  "language_info": {
   "codemirror_mode": {
    "name": "ipython",
    "version": 3
   },
   "file_extension": ".py",
   "mimetype": "text/x-python",
   "name": "python",
   "nbconvert_exporter": "python",
   "pygments_lexer": "ipython3",
   "version": "3.6.6"
  }
 },
 "nbformat": 4,
 "nbformat_minor": 2
}
