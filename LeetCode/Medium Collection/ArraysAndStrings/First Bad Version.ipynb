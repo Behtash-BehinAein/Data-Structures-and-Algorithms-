{
 "cells": [
  {
   "cell_type": "code",
   "execution_count": 1,
   "metadata": {},
   "outputs": [],
   "source": [
    "def firstBadVersion(self, n):\n",
    "    \"\"\"\n",
    "    :type n: int\n",
    "    :rtype: int\n",
    "    \"\"\"\n",
    "    l = 1\n",
    "    if isBadVersion(1): \n",
    "        return 1\n",
    "\n",
    "\n",
    "    while l<=n:            \n",
    "        mid = l + (n-l)//2            \n",
    "        if isBadVersion(mid):     # Bad\n",
    "            if not isBadVersion(mid-1): # good\n",
    "                return mid\n",
    "            n = mid - 1\n",
    "\n",
    "        if not isBadVersion(mid): # Good \n",
    "            if isBadVersion(mid+1): # bad\n",
    "                return mid + 1\n",
    "            l = mid + 1"
   ]
  },
  {
   "cell_type": "code",
   "execution_count": null,
   "metadata": {},
   "outputs": [],
   "source": []
  }
 ],
 "metadata": {
  "kernelspec": {
   "display_name": "Python 3",
   "language": "python",
   "name": "python3"
  },
  "language_info": {
   "codemirror_mode": {
    "name": "ipython",
    "version": 3
   },
   "file_extension": ".py",
   "mimetype": "text/x-python",
   "name": "python",
   "nbconvert_exporter": "python",
   "pygments_lexer": "ipython3",
   "version": "3.6.6"
  }
 },
 "nbformat": 4,
 "nbformat_minor": 2
}
