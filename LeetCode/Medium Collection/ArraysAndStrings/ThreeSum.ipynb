{
 "cells": [
  {
   "cell_type": "code",
   "execution_count": 15,
   "metadata": {},
   "outputs": [],
   "source": [
    "def ThreeSum(nums):\n",
    "    \n",
    "    nums.sort()\n",
    "    def twoSum(nums, target):\n",
    "        \n",
    "        complements = {}\n",
    "        pairs = []\n",
    "        for i in range(len(nums)):\n",
    "            if nums[i] in complements:\n",
    "                pairs.append( [nums[i], nums[complements[nums[i]]]])\n",
    "            else:\n",
    "                complements[target - nums[i]] = i \n",
    "        return pairs\n",
    "    \n",
    "    triples = set()\n",
    "    for i in range(len(nums)):\n",
    "        if i>0 and nums[i] == nums[i-1]:\n",
    "            continue \n",
    "        else: \n",
    "            for p in twoSum(nums[:i] + nums[i+1:] , - nums[i]):\n",
    "                triples.add(tuple(sorted([nums[i]] + p)))\n",
    "    \n",
    "    return [list(item) for item in triples]\n",
    "        \n"
   ]
  },
  {
   "cell_type": "code",
   "execution_count": 16,
   "metadata": {},
   "outputs": [
    {
     "data": {
      "text/plain": [
       "[[-1, -1, 2], [-1, 0, 1]]"
      ]
     },
     "execution_count": 16,
     "metadata": {},
     "output_type": "execute_result"
    }
   ],
   "source": [
    "nums = [-1, 0, 1, 2, -1, -4]\n",
    "\n",
    "ThreeSum(nums)"
   ]
  },
  {
   "cell_type": "code",
   "execution_count": 8,
   "metadata": {},
   "outputs": [
    {
     "data": {
      "text/plain": [
       "[[-1, -1, 2], [-1, 0, 1]]"
      ]
     },
     "execution_count": 8,
     "metadata": {},
     "output_type": "execute_result"
    }
   ],
   "source": [
    "nums = [-1, 0, 1, 2, -1, -4]\n",
    "\n",
    "ThreeSum(nums)"
   ]
  },
  {
   "cell_type": "code",
   "execution_count": 58,
   "metadata": {},
   "outputs": [
    {
     "data": {
      "text/plain": [
       "(1, 2, 3, 4)"
      ]
     },
     "execution_count": 58,
     "metadata": {},
     "output_type": "execute_result"
    }
   ],
   "source": [
    "tuple(sorted([2,4,3,1]))"
   ]
  },
  {
   "cell_type": "code",
   "execution_count": null,
   "metadata": {},
   "outputs": [],
   "source": []
  }
 ],
 "metadata": {
  "kernelspec": {
   "display_name": "Python 3",
   "language": "python",
   "name": "python3"
  },
  "language_info": {
   "codemirror_mode": {
    "name": "ipython",
    "version": 3
   },
   "file_extension": ".py",
   "mimetype": "text/x-python",
   "name": "python",
   "nbconvert_exporter": "python",
   "pygments_lexer": "ipython3",
   "version": "3.6.6"
  }
 },
 "nbformat": 4,
 "nbformat_minor": 2
}
