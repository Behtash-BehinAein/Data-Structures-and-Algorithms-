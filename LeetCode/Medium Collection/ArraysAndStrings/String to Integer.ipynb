{
 "cells": [
  {
   "cell_type": "code",
   "execution_count": 3,
   "metadata": {},
   "outputs": [],
   "source": [
    "def myAtoi(str):\n",
    "\n",
    "    str_ = str.strip()\n",
    "\n",
    "    L = 0\n",
    "    res = ''\n",
    "    plus, minus = 0,0\n",
    "\n",
    "\n",
    "    if not str_: return 0\n",
    "    if str_[0] == '+': \n",
    "        plus, L  = 1 , 1\n",
    "    if str_[0] == '-': \n",
    "        minus, L = 1 , 1\n",
    "\n",
    "\n",
    "    for i in range(L, len(str_)):\n",
    "        if str_[i].isnumeric():\n",
    "            res += str_[i]\n",
    "        else: \n",
    "            break\n",
    "\n",
    "    if res:\n",
    "        if plus or minus: \n",
    "            res = (plus-minus) * int(res)\n",
    "        else: \n",
    "            res = int(res)\n",
    "        if res<= -2**31:  return -2**31\n",
    "        if res>= 2**31-1: return 2**31-1\n",
    "        return res \n",
    "    else:\n",
    "        return 0\n",
    "    \n",
    "    \n",
    "    "
   ]
  },
  {
   "cell_type": "code",
   "execution_count": 4,
   "metadata": {},
   "outputs": [
    {
     "data": {
      "text/plain": [
       "1234"
      ]
     },
     "execution_count": 4,
     "metadata": {},
     "output_type": "execute_result"
    }
   ],
   "source": [
    "myAtoi('1234 good luck')"
   ]
  },
  {
   "cell_type": "code",
   "execution_count": 5,
   "metadata": {},
   "outputs": [
    {
     "data": {
      "text/plain": [
       "0"
      ]
     },
     "execution_count": 5,
     "metadata": {},
     "output_type": "execute_result"
    }
   ],
   "source": [
    "myAtoi('Simba -1234 ')"
   ]
  },
  {
   "cell_type": "code",
   "execution_count": 6,
   "metadata": {},
   "outputs": [
    {
     "data": {
      "text/plain": [
       "-1234"
      ]
     },
     "execution_count": 6,
     "metadata": {},
     "output_type": "execute_result"
    }
   ],
   "source": [
    "myAtoi('  -1234')"
   ]
  },
  {
   "cell_type": "code",
   "execution_count": 7,
   "metadata": {},
   "outputs": [
    {
     "data": {
      "text/plain": [
       "3"
      ]
     },
     "execution_count": 7,
     "metadata": {},
     "output_type": "execute_result"
    }
   ],
   "source": [
    "myAtoi('3.1416')"
   ]
  },
  {
   "cell_type": "code",
   "execution_count": 8,
   "metadata": {},
   "outputs": [
    {
     "data": {
      "text/plain": [
       "0"
      ]
     },
     "execution_count": 8,
     "metadata": {},
     "output_type": "execute_result"
    }
   ],
   "source": [
    "myAtoi(' ')"
   ]
  },
  {
   "cell_type": "code",
   "execution_count": null,
   "metadata": {},
   "outputs": [],
   "source": []
  }
 ],
 "metadata": {
  "kernelspec": {
   "display_name": "Python 3",
   "language": "python",
   "name": "python3"
  },
  "language_info": {
   "codemirror_mode": {
    "name": "ipython",
    "version": 3
   },
   "file_extension": ".py",
   "mimetype": "text/x-python",
   "name": "python",
   "nbconvert_exporter": "python",
   "pygments_lexer": "ipython3",
   "version": "3.6.6"
  }
 },
 "nbformat": 4,
 "nbformat_minor": 2
}
