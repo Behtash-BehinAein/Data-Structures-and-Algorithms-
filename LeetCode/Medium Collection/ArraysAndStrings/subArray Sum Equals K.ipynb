{
 "cells": [
  {
   "cell_type": "code",
   "execution_count": 3,
   "metadata": {},
   "outputs": [],
   "source": [
    "def subarraySum(nums, k):\n",
    " \n",
    "    cnt = 0\n",
    "    cumSum = 0\n",
    "    cumSumCnt = {}\n",
    "    \n",
    "    for i in range(len(nums)):\n",
    "        \n",
    "        cumSum += nums[i] \n",
    "        if cumSum == k:\n",
    "            cnt += 1\n",
    "        if (cumSum-k) in cumSumCnt:\n",
    "            cnt += cumSumCnt[cumSum-k]\n",
    "        \n",
    "        cumSumCnt[cumSum] = cumSumCnt.get(cumSum, 0) + 1\n",
    "    return cnt    \n",
    "     \n",
    "    \n",
    "    \n"
   ]
  },
  {
   "cell_type": "code",
   "execution_count": 4,
   "metadata": {},
   "outputs": [
    {
     "data": {
      "text/plain": [
       "2"
      ]
     },
     "execution_count": 4,
     "metadata": {},
     "output_type": "execute_result"
    }
   ],
   "source": [
    "nums = [1,1,1]\n",
    "k = 2\n",
    "subarraySum(nums, k)"
   ]
  },
  {
   "cell_type": "code",
   "execution_count": null,
   "metadata": {},
   "outputs": [],
   "source": []
  }
 ],
 "metadata": {
  "kernelspec": {
   "display_name": "Python 3",
   "language": "python",
   "name": "python3"
  },
  "language_info": {
   "codemirror_mode": {
    "name": "ipython",
    "version": 3
   },
   "file_extension": ".py",
   "mimetype": "text/x-python",
   "name": "python",
   "nbconvert_exporter": "python",
   "pygments_lexer": "ipython3",
   "version": "3.6.6"
  }
 },
 "nbformat": 4,
 "nbformat_minor": 2
}
