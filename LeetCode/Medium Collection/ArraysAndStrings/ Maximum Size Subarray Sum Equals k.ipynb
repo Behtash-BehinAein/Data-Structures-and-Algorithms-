{
 "cells": [
  {
   "cell_type": "code",
   "execution_count": 12,
   "metadata": {},
   "outputs": [],
   "source": [
    "def maxSubArrayLen(nums, k) :\n",
    "\n",
    "\n",
    "    sumsAndIndex = {}\n",
    "    cumsum_  = 0\n",
    "    maxLen = 0\n",
    "    for i in range(len(nums)):\n",
    "        cumsum_ += nums[i]\n",
    "        if cumsum_ == k:\n",
    "            maxLen = i+1\n",
    "        \n",
    "        if cumsum_ not in sumsAndIndex:  # If this cumsum is in the hash table, keep the lower index one\n",
    "                                         # because it will give larger subarray length later on when search for this particular cumsum \n",
    "            sumsAndIndex[cumsum_] = i \n",
    "        if cumsum_-k in sumsAndIndex and i - sumsAndIndex[cumsum_-k] > maxLen: maxLen = i - sumsAndIndex[cumsum_-k]    \n",
    "            \n",
    "    return maxLen    \n",
    "        "
   ]
  },
  {
   "cell_type": "code",
   "execution_count": 13,
   "metadata": {},
   "outputs": [
    {
     "data": {
      "text/plain": [
       "4"
      ]
     },
     "execution_count": 13,
     "metadata": {},
     "output_type": "execute_result"
    }
   ],
   "source": [
    "nums = [1, -1, 5, -2, 3]\n",
    "k = 3\n",
    "maxSubArrayLen(nums, k)"
   ]
  },
  {
   "cell_type": "code",
   "execution_count": 3,
   "metadata": {},
   "outputs": [
    {
     "data": {
      "text/plain": [
       "' abd'"
      ]
     },
     "execution_count": 3,
     "metadata": {},
     "output_type": "execute_result"
    }
   ],
   "source": [
    "str_ = ' abd'\n",
    "str_.strip()\n",
    "str_\n"
   ]
  },
  {
   "cell_type": "code",
   "execution_count": 6,
   "metadata": {},
   "outputs": [
    {
     "data": {
      "text/plain": [
       "True"
      ]
     },
     "execution_count": 6,
     "metadata": {},
     "output_type": "execute_result"
    }
   ],
   "source": [
    "'2'.isnumeric()"
   ]
  },
  {
   "cell_type": "code",
   "execution_count": 7,
   "metadata": {},
   "outputs": [
    {
     "data": {
      "text/plain": [
       "'a'"
      ]
     },
     "execution_count": 7,
     "metadata": {},
     "output_type": "execute_result"
    }
   ],
   "source": [
    "\"\" + 'a'"
   ]
  },
  {
   "cell_type": "code",
   "execution_count": 10,
   "metadata": {},
   "outputs": [
    {
     "data": {
      "text/plain": [
       "inf"
      ]
     },
     "execution_count": 10,
     "metadata": {},
     "output_type": "execute_result"
    }
   ],
   "source": [
    "float('inf')"
   ]
  },
  {
   "cell_type": "code",
   "execution_count": 11,
   "metadata": {},
   "outputs": [
    {
     "data": {
      "text/plain": [
       "-42"
      ]
     },
     "execution_count": 11,
     "metadata": {},
     "output_type": "execute_result"
    }
   ],
   "source": [
    "-1*42"
   ]
  },
  {
   "cell_type": "code",
   "execution_count": null,
   "metadata": {},
   "outputs": [],
   "source": []
  }
 ],
 "metadata": {
  "kernelspec": {
   "display_name": "Python 3",
   "language": "python",
   "name": "python3"
  },
  "language_info": {
   "codemirror_mode": {
    "name": "ipython",
    "version": 3
   },
   "file_extension": ".py",
   "mimetype": "text/x-python",
   "name": "python",
   "nbconvert_exporter": "python",
   "pygments_lexer": "ipython3",
   "version": "3.6.6"
  }
 },
 "nbformat": 4,
 "nbformat_minor": 2
}
