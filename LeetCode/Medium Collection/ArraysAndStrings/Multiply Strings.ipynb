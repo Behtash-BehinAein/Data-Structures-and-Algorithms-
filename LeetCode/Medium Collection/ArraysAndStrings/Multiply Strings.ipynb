{
 "cells": [
  {
   "cell_type": "code",
   "execution_count": 114,
   "metadata": {},
   "outputs": [],
   "source": [
    "def multiply(num1, num2):\n",
    "    \n",
    "    num1_ = [(ord(i)-ord('0')) for i in num1[::-1]]\n",
    "    num2_ = [(ord(i)-ord('0')) for i in num2[::-1]]\n",
    "    num3_ = [0] * (len(num1_)+len(num2_))\n",
    "    \n",
    "    for i, digit1 in enumerate(num1_):\n",
    "        for j, digit2 in enumerate(num2_):      \n",
    "            num3_[i+j] += digit1*digit2\n",
    "\n",
    "    carry = 0\n",
    "    for i in range(len(num3_)):\n",
    "        num3_[i] , carry = (num3_[i]+carry) % 10 , (num3_[i]+carry) // 10 \n",
    "    \n",
    "    \n",
    "    \n",
    "    if num3_[-1] == 0: \n",
    "        num3_.pop()\n",
    "    if sum(num3_)==0: \n",
    "        num3_ = [0]\n",
    "        \n",
    "        \n",
    "    num3_ = num3_[::-1]\n",
    "    \n",
    "    \n",
    "    return ''.join([str(i) for i in num3_])"
   ]
  },
  {
   "cell_type": "code",
   "execution_count": null,
   "metadata": {},
   "outputs": [],
   "source": []
  },
  {
   "cell_type": "code",
   "execution_count": 115,
   "metadata": {},
   "outputs": [
    {
     "data": {
      "text/plain": [
       "'0'"
      ]
     },
     "execution_count": 115,
     "metadata": {},
     "output_type": "execute_result"
    }
   ],
   "source": [
    "num1 ,  num2 = '9133' , '0'\n",
    "multiply(num1, num2)"
   ]
  },
  {
   "cell_type": "code",
   "execution_count": 117,
   "metadata": {},
   "outputs": [
    {
     "data": {
      "text/plain": [
       "'56088'"
      ]
     },
     "execution_count": 117,
     "metadata": {},
     "output_type": "execute_result"
    }
   ],
   "source": [
    "num1 ,  num2 = '123' , '456'\n",
    "multiply(num1, num2)"
   ]
  },
  {
   "cell_type": "code",
   "execution_count": 11,
   "metadata": {},
   "outputs": [
    {
     "data": {
      "text/plain": [
       "[100, 20, 3]"
      ]
     },
     "execution_count": 11,
     "metadata": {},
     "output_type": "execute_result"
    }
   ],
   "source": [
    "num1_ = [int(i)*10**p for i,p in zip(num1, reversed(range(len(num1))))]\n",
    "num1_"
   ]
  },
  {
   "cell_type": "code",
   "execution_count": 8,
   "metadata": {},
   "outputs": [
    {
     "name": "stdout",
     "output_type": "stream",
     "text": [
      "2\n",
      "1\n",
      "0\n"
     ]
    }
   ],
   "source": [
    "for i in reversed(range(3)):\n",
    "    print(i)"
   ]
  },
  {
   "cell_type": "code",
   "execution_count": 13,
   "metadata": {},
   "outputs": [
    {
     "data": {
      "text/plain": [
       "3"
      ]
     },
     "execution_count": 13,
     "metadata": {},
     "output_type": "execute_result"
    }
   ],
   "source": [
    "ord('3') - ord('0')"
   ]
  },
  {
   "cell_type": "code",
   "execution_count": 22,
   "metadata": {},
   "outputs": [
    {
     "data": {
      "text/plain": [
       "[None, None, None]"
      ]
     },
     "execution_count": 22,
     "metadata": {},
     "output_type": "execute_result"
    }
   ],
   "source": [
    "[None]*3"
   ]
  },
  {
   "cell_type": "code",
   "execution_count": 58,
   "metadata": {},
   "outputs": [
    {
     "data": {
      "text/plain": [
       "[1, 2, 3]"
      ]
     },
     "execution_count": 58,
     "metadata": {},
     "output_type": "execute_result"
    }
   ],
   "source": [
    "lst = [1,2,3,4]\n",
    "lst.pop()\n",
    "lst"
   ]
  },
  {
   "cell_type": "code",
   "execution_count": null,
   "metadata": {},
   "outputs": [],
   "source": [
    "''.join([str(i) for i in num3_])"
   ]
  }
 ],
 "metadata": {
  "kernelspec": {
   "display_name": "Python 3",
   "language": "python",
   "name": "python3"
  },
  "language_info": {
   "codemirror_mode": {
    "name": "ipython",
    "version": 3
   },
   "file_extension": ".py",
   "mimetype": "text/x-python",
   "name": "python",
   "nbconvert_exporter": "python",
   "pygments_lexer": "ipython3",
   "version": "3.6.6"
  }
 },
 "nbformat": 4,
 "nbformat_minor": 2
}
