{
 "cells": [
  {
   "cell_type": "markdown",
   "metadata": {},
   "source": [
    "# Recursion"
   ]
  },
  {
   "cell_type": "code",
   "execution_count": 43,
   "metadata": {},
   "outputs": [
    {
     "data": {
      "text/plain": [
       "[[1, 2, 3], [1, 2], [1, 3], [1], [2, 3], [2], [3], []]"
      ]
     },
     "execution_count": 43,
     "metadata": {},
     "output_type": "execute_result"
    }
   ],
   "source": [
    "def subsets(nums):\n",
    "        if not nums:\n",
    "            return [[]]\n",
    "\n",
    "        rest_subsets = subsets(nums[1:])\n",
    "        return [[nums[0]]+subset for subset in rest_subsets] + rest_subsets \n",
    "    \n",
    "nums = [1,2,3]\n",
    "subsets(nums)\n",
    "    "
   ]
  },
  {
   "cell_type": "code",
   "execution_count": 8,
   "metadata": {},
   "outputs": [
    {
     "data": {
      "text/plain": [
       "[[1, 2, 3], [1, 2], [1, 3], [1], [2, 3], [2], [3], []]"
      ]
     },
     "execution_count": 8,
     "metadata": {},
     "output_type": "execute_result"
    }
   ],
   "source": [
    "def subsets(arr):\n",
    "    \n",
    "    if not arr: \n",
    "        return [[]]\n",
    "    \n",
    "    def helper(one , rest):\n",
    "        return [[one]+subset for subset in rest] + rest  \n",
    "    \n",
    "    return helper(arr[0], subsets(arr[1:]))\n",
    "    \n",
    "    \n",
    "arr = [1,2,3]\n",
    "subsets(arr)"
   ]
  },
  {
   "cell_type": "markdown",
   "metadata": {},
   "source": [
    "# Iteration : use subset index in binary format "
   ]
  },
  {
   "cell_type": "code",
   "execution_count": 45,
   "metadata": {},
   "outputs": [
    {
     "data": {
      "text/plain": [
       "[[], [1], [2], [1, 2], [3], [1, 3], [2, 3], [1, 2, 3]]"
      ]
     },
     "execution_count": 45,
     "metadata": {},
     "output_type": "execute_result"
    }
   ],
   "source": [
    "def subsets(nums):\n",
    "    \n",
    "    res = []\n",
    "    for sub_idx in range(2**len(nums)):\n",
    "        subset = []\n",
    "        for num_idx in range(len(nums)):\n",
    "            if sub_idx & (1<< num_idx):\n",
    "                subset.append(nums[num_idx])\n",
    "        res.append(subset) \n",
    "    \n",
    "    return res\n",
    "    \n",
    "    \n",
    "nums = [1,2,3]\n",
    "subsets(nums)"
   ]
  },
  {
   "cell_type": "code",
   "execution_count": null,
   "metadata": {},
   "outputs": [],
   "source": []
  }
 ],
 "metadata": {
  "kernelspec": {
   "display_name": "Python 3",
   "language": "python",
   "name": "python3"
  },
  "language_info": {
   "codemirror_mode": {
    "name": "ipython",
    "version": 3
   },
   "file_extension": ".py",
   "mimetype": "text/x-python",
   "name": "python",
   "nbconvert_exporter": "python",
   "pygments_lexer": "ipython3",
   "version": "3.6.6"
  }
 },
 "nbformat": 4,
 "nbformat_minor": 2
}
