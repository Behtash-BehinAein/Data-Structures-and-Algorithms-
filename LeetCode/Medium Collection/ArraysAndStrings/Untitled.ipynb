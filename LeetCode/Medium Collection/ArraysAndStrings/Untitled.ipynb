{
 "cells": [
  {
   "cell_type": "code",
   "execution_count": 2,
   "metadata": {},
   "outputs": [
    {
     "data": {
      "text/plain": [
       "[[1, 2, 3], [1, 3, 2], [2, 1, 3], [2, 3, 1], [3, 1, 2], [3, 2, 1]]"
      ]
     },
     "execution_count": 2,
     "metadata": {},
     "output_type": "execute_result"
    }
   ],
   "source": [
    "def permute(nums):\n",
    "    \n",
    "    if not nums: \n",
    "        return [[]]\n",
    "    \n",
    "    return [ [nums[i]]+p for i in range(len(nums)) for p in permute(nums[:i]+nums[i+1:]) ]\n",
    "    \n",
    "    \n",
    "    \n",
    "    \n",
    "nums = [1,2,3]\n",
    "permute(nums)"
   ]
  },
  {
   "cell_type": "code",
   "execution_count": 10,
   "metadata": {},
   "outputs": [
    {
     "data": {
      "text/plain": [
       "6"
      ]
     },
     "execution_count": 10,
     "metadata": {},
     "output_type": "execute_result"
    }
   ],
   "source": [
    "def permute(nums):\n",
    "    \n",
    "    if not nums: \n",
    "        return [[]]\n",
    "    res = []\n",
    "    seen = {}\n",
    "    for i in range(len(nums)):\n",
    "        if nums[i] not in seen:\n",
    "            seen[nums[i]] = True\n",
    "            \n",
    "            for p in permute(nums[:i]+nums[i+1:]):\n",
    "                res.append([nums[i]] + p) \n",
    "    return res \n",
    "    \n",
    "    \n",
    "    \n",
    "nums = [1,2,3]\n",
    "len(permute(nums))"
   ]
  },
  {
   "cell_type": "code",
   "execution_count": 8,
   "metadata": {},
   "outputs": [
    {
     "data": {
      "text/plain": [
       "8"
      ]
     },
     "execution_count": 8,
     "metadata": {},
     "output_type": "execute_result"
    }
   ],
   "source": [
    "def subsets(nums):\n",
    "    \n",
    "    if not nums:\n",
    "        return [[]]\n",
    "    \n",
    "    nums.sort()\n",
    "    seen = {}\n",
    "    res  = []\n",
    "    for num_idx in range(2**len(nums)):\n",
    "        subset = []\n",
    "        for bit_idx in range(len(nums)):\n",
    "            if num_idx & (1 << bit_idx):\n",
    "                subset.append(nums[bit_idx])\n",
    "            \n",
    "        if tuple(subset) not in seen:\n",
    "            seen[tuple(subset)] = True\n",
    "            res.append(subset)\n",
    "        \n",
    "    \n",
    "    return res\n",
    "    \n",
    "    \n",
    "    \n",
    "nums = [1,2,3]\n",
    "len(subsets(nums))"
   ]
  },
  {
   "cell_type": "code",
   "execution_count": null,
   "metadata": {},
   "outputs": [],
   "source": [
    "def subsets(nums):\n",
    "    \n",
    "    if not nums:\n",
    "        return [[]]\n",
    "    \n",
    "    nums.sort()\n",
    "    seen = {}\n",
    "    res  = []\n",
    "    for num_idx in range(2**len(nums)):\n",
    "        subset = []\n",
    "        for bit_idx in range(len(nums)):\n",
    "            if num_idx & (1 << bit_idx):\n",
    "                subset.append(nums[bit_idx])\n",
    "            \n",
    "        if tuple(subset) not in seen:\n",
    "            seen[tuple(subset)] = True\n",
    "            res.append(subset)\n",
    "        \n",
    "    \n",
    "    return res\n",
    "    \n",
    "    \n",
    "    \n",
    "nums = [1,2,2]\n",
    "subsets(nums)"
   ]
  },
  {
   "cell_type": "code",
   "execution_count": 11,
   "metadata": {},
   "outputs": [
    {
     "data": {
      "text/plain": [
       "1024"
      ]
     },
     "execution_count": 11,
     "metadata": {},
     "output_type": "execute_result"
    }
   ],
   "source": [
    "2**10\n"
   ]
  },
  {
   "cell_type": "code",
   "execution_count": 12,
   "metadata": {},
   "outputs": [],
   "source": [
    "import math\n"
   ]
  },
  {
   "cell_type": "code",
   "execution_count": 13,
   "metadata": {},
   "outputs": [
    {
     "data": {
      "text/plain": [
       "3628800"
      ]
     },
     "execution_count": 13,
     "metadata": {},
     "output_type": "execute_result"
    }
   ],
   "source": [
    "math.factorial(10)"
   ]
  },
  {
   "cell_type": "code",
   "execution_count": null,
   "metadata": {},
   "outputs": [],
   "source": []
  }
 ],
 "metadata": {
  "kernelspec": {
   "display_name": "Python 3",
   "language": "python",
   "name": "python3"
  },
  "language_info": {
   "codemirror_mode": {
    "name": "ipython",
    "version": 3
   },
   "file_extension": ".py",
   "mimetype": "text/x-python",
   "name": "python",
   "nbconvert_exporter": "python",
   "pygments_lexer": "ipython3",
   "version": "3.6.6"
  }
 },
 "nbformat": 4,
 "nbformat_minor": 2
}
