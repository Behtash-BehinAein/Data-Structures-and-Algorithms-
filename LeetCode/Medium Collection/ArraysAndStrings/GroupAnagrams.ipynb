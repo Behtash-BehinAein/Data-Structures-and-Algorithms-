{
 "cells": [
  {
   "cell_type": "code",
   "execution_count": 38,
   "metadata": {},
   "outputs": [],
   "source": [
    "def groupAnagrams(strs):\n",
    "    \n",
    "    '''\n",
    "    res = {}\n",
    "    for str_ in strs:\n",
    "        \n",
    "        str_sorted = ''.join(sorted(str_))\n",
    "        \n",
    "        if str_sorted in res:\n",
    "            res[str_sorted] += (str_,)\n",
    "        else: \n",
    "            res[str_sorted] = (str_,)\n",
    "\n",
    "    return list(list(val) for val in res.values())\n",
    "    '''\n",
    "\n",
    "\n",
    "    res = {}\n",
    "    for s in strs: \n",
    "        char_count = [0] * 28\n",
    "        for c in s: \n",
    "            char_count[ord(c) - ord('a')] += 1\n",
    "        if tuple(char_count) in res: \n",
    "            res[tuple(char_count)].append(s)\n",
    "        else: \n",
    "            res[tuple(char_count)] = [s]\n",
    "\n",
    "    return [val for val in res.values()]\n",
    "\n"
   ]
  },
  {
   "cell_type": "code",
   "execution_count": 39,
   "metadata": {},
   "outputs": [
    {
     "data": {
      "text/plain": [
       "[['eat', 'tea', 'ate'], ['tan', 'nat'], ['bat']]"
      ]
     },
     "execution_count": 39,
     "metadata": {},
     "output_type": "execute_result"
    }
   ],
   "source": [
    "strs = [\"eat\", \"tea\", \"tan\", \"ate\", \"nat\", \"bat\"]\n",
    "groupAnagrams(strs)"
   ]
  },
  {
   "cell_type": "code",
   "execution_count": 7,
   "metadata": {},
   "outputs": [
    {
     "name": "stdout",
     "output_type": "stream",
     "text": [
      "(1, 2, 3)\n",
      "(3, 4)\n",
      "(5, 6, 7)\n"
     ]
    }
   ],
   "source": [
    "for i in dict_.values():\n",
    "    print(i)"
   ]
  },
  {
   "cell_type": "code",
   "execution_count": 35,
   "metadata": {},
   "outputs": [
    {
     "data": {
      "text/plain": [
       "{'a': [1, 2]}"
      ]
     },
     "execution_count": 35,
     "metadata": {},
     "output_type": "execute_result"
    }
   ],
   "source": [
    "dict_ = {}\n",
    "dict_['a'] = [1]\n",
    "dict_['a'].append((2))\n",
    "dict_"
   ]
  },
  {
   "cell_type": "code",
   "execution_count": null,
   "metadata": {},
   "outputs": [],
   "source": []
  }
 ],
 "metadata": {
  "kernelspec": {
   "display_name": "Python 3",
   "language": "python",
   "name": "python3"
  },
  "language_info": {
   "codemirror_mode": {
    "name": "ipython",
    "version": 3
   },
   "file_extension": ".py",
   "mimetype": "text/x-python",
   "name": "python",
   "nbconvert_exporter": "python",
   "pygments_lexer": "ipython3",
   "version": "3.6.6"
  }
 },
 "nbformat": 4,
 "nbformat_minor": 2
}
