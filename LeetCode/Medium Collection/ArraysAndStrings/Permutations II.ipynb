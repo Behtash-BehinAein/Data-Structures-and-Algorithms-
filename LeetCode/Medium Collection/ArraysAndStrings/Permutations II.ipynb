{
 "cells": [
  {
   "cell_type": "code",
   "execution_count": 13,
   "metadata": {},
   "outputs": [
    {
     "data": {
      "text/plain": [
       "[[1, 2, 2], [2, 1, 2], [2, 2, 1]]"
      ]
     },
     "execution_count": 13,
     "metadata": {},
     "output_type": "execute_result"
    }
   ],
   "source": [
    "def permute(nums):\n",
    "    \n",
    "    if not nums:\n",
    "        return [[]]\n",
    "\n",
    "    res = []\n",
    "    seen = {}\n",
    "    for i in range(len(nums)):\n",
    "        if nums[i] not in seen:\n",
    "            seen[nums[i]] = True\n",
    "            for p in permute(nums[:i] + nums[i+1:]):\n",
    "                res.append([nums[i]] + p)\n",
    "            \n",
    "    return res\n",
    "    \n",
    "    \n",
    "    \n",
    "nums = [1,2,2]\n",
    "permute(nums)\n",
    "    "
   ]
  },
  {
   "cell_type": "code",
   "execution_count": null,
   "metadata": {},
   "outputs": [],
   "source": []
  }
 ],
 "metadata": {
  "kernelspec": {
   "display_name": "Python 3",
   "language": "python",
   "name": "python3"
  },
  "language_info": {
   "codemirror_mode": {
    "name": "ipython",
    "version": 3
   },
   "file_extension": ".py",
   "mimetype": "text/x-python",
   "name": "python",
   "nbconvert_exporter": "python",
   "pygments_lexer": "ipython3",
   "version": "3.6.6"
  }
 },
 "nbformat": 4,
 "nbformat_minor": 2
}
