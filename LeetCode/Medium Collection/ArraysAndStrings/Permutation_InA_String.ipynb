{
 "cells": [
  {
   "cell_type": "code",
   "execution_count": 30,
   "metadata": {},
   "outputs": [],
   "source": [
    "def checkInclusion(s1, s2):\n",
    "    \"\"\"\n",
    "    :type s1: str\n",
    "    :type s2: str\n",
    "    :rtype: bool\n",
    "    \"\"\"\n",
    "    if len(s1)> len(s2):\n",
    "        return False \n",
    "\n",
    "    A = [0] * 26\n",
    "    for c in s1: \n",
    "        A[ord(c) - ord('a')] += 1\n",
    "    # ---------------------------\n",
    "    sliding_win = [0] * 26\n",
    "    for i in range(len(s1)):\n",
    "        sliding_win[ord(s2[i]) - ord('a')] += 1\n",
    "\n",
    "    if A == sliding_win:\n",
    "        return True\n",
    "\n",
    "    for i in range(1, len(s2) - len(s1) + 1 ):\n",
    "        sliding_win[ord(s2[i-1]) - ord('a')] -= 1\n",
    "        sliding_win[ord(s2 [i+len(s1) - 1]) - ord('a')] += 1\n",
    "        if A == sliding_win:\n",
    "            return True \n",
    "\n",
    "    return False "
   ]
  },
  {
   "cell_type": "code",
   "execution_count": 33,
   "metadata": {},
   "outputs": [],
   "source": [
    "s1 = \"adc\"\n",
    "s2 = \"dcda\""
   ]
  },
  {
   "cell_type": "code",
   "execution_count": 34,
   "metadata": {},
   "outputs": [
    {
     "data": {
      "text/plain": [
       "True"
      ]
     },
     "execution_count": 34,
     "metadata": {},
     "output_type": "execute_result"
    }
   ],
   "source": [
    "checkInclusion(s1,s2)"
   ]
  }
 ],
 "metadata": {
  "kernelspec": {
   "display_name": "Python 3",
   "language": "python",
   "name": "python3"
  },
  "language_info": {
   "codemirror_mode": {
    "name": "ipython",
    "version": 3
   },
   "file_extension": ".py",
   "mimetype": "text/x-python",
   "name": "python",
   "nbconvert_exporter": "python",
   "pygments_lexer": "ipython3",
   "version": "3.6.6"
  }
 },
 "nbformat": 4,
 "nbformat_minor": 2
}
