{
 "cells": [
  {
   "cell_type": "code",
   "execution_count": 14,
   "metadata": {},
   "outputs": [],
   "source": [
    "def atoi(str):\n",
    "    str_ = str.strip()\n",
    "    \n",
    "    if not str_: return 0\n",
    "    \n",
    "    L = 0\n",
    "    res = ''\n",
    "    plus, minus = 0,0\n",
    "\n",
    "    \n",
    "    \n",
    "    if str_[0] == '+': \n",
    "        plus, L  = 1 , 1\n",
    "    if str_[0] == '-': \n",
    "        minus, L = 1 , 1\n",
    "\n",
    "\n",
    "    for i in range(L, len(str_)):\n",
    "        if str_[i].isnumeric():\n",
    "            res += str_[i]\n",
    "        else: \n",
    "            break\n",
    "\n",
    "    if res:\n",
    "        if plus or minus: \n",
    "            res = (plus-minus) * int(res)\n",
    "        else: \n",
    "            res = int(res)\n",
    "        if res<= -2**31:  return -2**31\n",
    "        if res>= 2**31-1: return 2**31\n",
    "        return res \n",
    "    else:\n",
    "        return 0\n",
    "    "
   ]
  },
  {
   "cell_type": "code",
   "execution_count": 15,
   "metadata": {},
   "outputs": [
    {
     "data": {
      "text/plain": [
       "42"
      ]
     },
     "execution_count": 15,
     "metadata": {},
     "output_type": "execute_result"
    }
   ],
   "source": [
    "atoi('42')"
   ]
  },
  {
   "cell_type": "code",
   "execution_count": 7,
   "metadata": {},
   "outputs": [
    {
     "name": "stdout",
     "output_type": "stream",
     "text": [
      "yes\n"
     ]
    }
   ],
   "source": [
    "if '43':\n",
    "    print('yes')"
   ]
  },
  {
   "cell_type": "code",
   "execution_count": null,
   "metadata": {},
   "outputs": [],
   "source": []
  }
 ],
 "metadata": {
  "kernelspec": {
   "display_name": "Python 3",
   "language": "python",
   "name": "python3"
  },
  "language_info": {
   "codemirror_mode": {
    "name": "ipython",
    "version": 3
   },
   "file_extension": ".py",
   "mimetype": "text/x-python",
   "name": "python",
   "nbconvert_exporter": "python",
   "pygments_lexer": "ipython3",
   "version": "3.6.6"
  }
 },
 "nbformat": 4,
 "nbformat_minor": 2
}
