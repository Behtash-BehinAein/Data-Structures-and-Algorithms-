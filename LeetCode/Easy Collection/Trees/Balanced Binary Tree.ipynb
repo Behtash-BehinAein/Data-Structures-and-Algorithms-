{
 "cells": [
  {
   "cell_type": "code",
   "execution_count": 2,
   "metadata": {},
   "outputs": [],
   "source": [
    "class Node():\n",
    "    def __init__(self, value):\n",
    "        self.value = value\n",
    "        self.right = None\n",
    "        self.left  = None \n",
    "        self.parent = None\n",
    "    def __repr__(self):\n",
    "        return str(self.value)\n",
    "    "
   ]
  },
  {
   "cell_type": "code",
   "execution_count": 3,
   "metadata": {},
   "outputs": [],
   "source": [
    "root = Node(15)\n",
    "root.left , root.right = Node(6) , Node(18)\n",
    "root.left.parent , root.right.parent = root, root\n",
    "\n",
    "root.left.left , root.left.right = Node(3) , Node(7)\n",
    "root.left.left.parent , root.left.right.parent = root.left , root.left\n",
    "\n",
    "root.right.left , root.right.right = Node(17) , Node(20)\n",
    "root.right.left.parent , root.right.right.parent = root.right, root.right\n",
    "\n",
    "root.left.left.left , root.left.left.right = Node(2) , Node(4)\n",
    "root.left.left.left.parent , root.left.left.right.parent = root.left.left , root.left.left\n",
    "\n",
    "root.left.right.right        = Node(13)\n",
    "root.left.right.right.parent = root.left.right \n",
    "\n",
    "root.left.right.right.left  = Node(9) \n",
    "root.left.right.right.left.parent  = root.left.right.right\n",
    "\n"
   ]
  },
  {
   "cell_type": "code",
   "execution_count": 6,
   "metadata": {},
   "outputs": [
    {
     "data": {
      "text/plain": [
       "-1"
      ]
     },
     "execution_count": 6,
     "metadata": {},
     "output_type": "execute_result"
    }
   ],
   "source": [
    "def h_if_balanced(node):\n",
    "    \n",
    "    if not node:\n",
    "        return 0\n",
    "    \n",
    "    hl , hr = h_if_balanced(node.left),  h_if_balanced(node.right) \n",
    "    \n",
    "    \n",
    "    if hl <0 or hr<0 or abs(hl-hr)>1: \n",
    "        return -1 \n",
    "    \n",
    "    return 1 + max(hl, hr)\n",
    "    \n",
    "    \n",
    "h_if_balanced(root)   "
   ]
  },
  {
   "cell_type": "code",
   "execution_count": 10,
   "metadata": {},
   "outputs": [
    {
     "data": {
      "text/plain": [
       "False"
      ]
     },
     "execution_count": 10,
     "metadata": {},
     "output_type": "execute_result"
    }
   ],
   "source": [
    "def h_if_balanced(node):\n",
    "    \n",
    "    \n",
    "    neg = float('-inf')\n",
    "    if node:\n",
    "        hl = h_if_balanced(node.left)\n",
    "        if hl == neg:\n",
    "            return neg\n",
    "        \n",
    "        hr = h_if_balanced(node.right)\n",
    "        if hr == neg:\n",
    "            return neg\n",
    "        \n",
    "        if abs(hl-hr)>1:\n",
    "            return neg\n",
    "        return 1 + max(hl,hr)\n",
    "        \n",
    "    else: \n",
    "        return -1\n",
    "    \n",
    "    \n",
    "    \n",
    "\n",
    "def isBalanced(node):\n",
    "    return h_if_balanced(node) != float('-inf') \n",
    "    \n",
    "isBalanced(root)"
   ]
  },
  {
   "cell_type": "code",
   "execution_count": null,
   "metadata": {},
   "outputs": [],
   "source": []
  }
 ],
 "metadata": {
  "kernelspec": {
   "display_name": "Python 3",
   "language": "python",
   "name": "python3"
  },
  "language_info": {
   "codemirror_mode": {
    "name": "ipython",
    "version": 3
   },
   "file_extension": ".py",
   "mimetype": "text/x-python",
   "name": "python",
   "nbconvert_exporter": "python",
   "pygments_lexer": "ipython3",
   "version": "3.6.6"
  }
 },
 "nbformat": 4,
 "nbformat_minor": 2
}
