{
 "cells": [
  {
   "cell_type": "code",
   "execution_count": 19,
   "metadata": {},
   "outputs": [],
   "source": [
    "def merge(nums1 , m , nums2, n):\n",
    "    \n",
    "    main_index  = m + n - 1\n",
    "    pnt1 , pnt2 = m - 1 , n-1\n",
    "    while pnt1>=0 and pnt2>=0:\n",
    "        \n",
    "        nums1[main_index] = max(nums1[pnt1] , nums2[pnt2])\n",
    "        if nums1[main_index] != nums1[pnt1]:\n",
    "            pnt2-=1\n",
    "            print(pnt2)\n",
    "        else: \n",
    "            pnt1-=1\n",
    "        main_index -=1\n",
    "    \n",
    "    nums1[ :pnt2+1] = nums2[ :pnt2+1]\n",
    "        \n",
    "        \n",
    "    \n",
    "    \n",
    "    "
   ]
  },
  {
   "cell_type": "code",
   "execution_count": 11,
   "metadata": {},
   "outputs": [
    {
     "name": "stdout",
     "output_type": "stream",
     "text": [
      "2\n",
      "1\n",
      "0\n"
     ]
    },
    {
     "data": {
      "text/plain": [
       "[0, 1, 2, 3, 3, 4, 5, 6, 7]"
      ]
     },
     "execution_count": 11,
     "metadata": {},
     "output_type": "execute_result"
    }
   ],
   "source": [
    "nums1 = [1,2,3,5,7, 0, 0 ,0 ,0] \n",
    "nums2 = [0, 3, 4, 6]\n",
    "merge(nums1 , 5 , nums2 , 4)\n",
    "nums1"
   ]
  },
  {
   "cell_type": "code",
   "execution_count": 20,
   "metadata": {},
   "outputs": [
    {
     "data": {
      "text/plain": [
       "[0]"
      ]
     },
     "execution_count": 20,
     "metadata": {},
     "output_type": "execute_result"
    }
   ],
   "source": [
    "nums1 = [0] \n",
    "nums2 = [1]\n",
    "merge(nums1 , 0 , nums2 , 1)\n",
    "nums1"
   ]
  },
  {
   "cell_type": "code",
   "execution_count": null,
   "metadata": {},
   "outputs": [],
   "source": []
  }
 ],
 "metadata": {
  "kernelspec": {
   "display_name": "Python 3",
   "language": "python",
   "name": "python3"
  },
  "language_info": {
   "codemirror_mode": {
    "name": "ipython",
    "version": 3
   },
   "file_extension": ".py",
   "mimetype": "text/x-python",
   "name": "python",
   "nbconvert_exporter": "python",
   "pygments_lexer": "ipython3",
   "version": "3.6.6"
  }
 },
 "nbformat": 4,
 "nbformat_minor": 2
}
