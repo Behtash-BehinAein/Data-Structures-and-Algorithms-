{
 "cells": [
  {
   "cell_type": "code",
   "execution_count": 19,
   "metadata": {},
   "outputs": [],
   "source": [
    "def findAnagrams(s , p): \n",
    "\n",
    "    p_chars = [0]*26\n",
    "    for c in p:\n",
    "        p_chars[ord(c)-ord(a)] +=1\n",
    "\n",
    "    sub_chars = [0]*128\n",
    "    for c in s[:len(p)]:\n",
    "        sub_chars[ord(c)-ord(a)] +=1\n",
    "\n",
    "    output = []\n",
    "    for i in range(1, len(s)-len(p)+1):\n",
    "        \n",
    "        sub_chars[ord(s[i]) - ord(a)] -= 1\n",
    "        sub_chars[ord(s[i+len(p)-1]) - ord(a)] += 1\n",
    "        \n",
    "        if p_chars == sub_chars:            \n",
    "            output.append(i)\n",
    "\n",
    "    return  output"
   ]
  },
  {
   "cell_type": "code",
   "execution_count": 20,
   "metadata": {},
   "outputs": [
    {
     "data": {
      "text/plain": [
       "[0, 6]"
      ]
     },
     "execution_count": 20,
     "metadata": {},
     "output_type": "execute_result"
    }
   ],
   "source": [
    "s = \"cbaebabacd\"\n",
    "p = \"abc\"\n",
    "findAnagrams(s,p)"
   ]
  },
  {
   "cell_type": "code",
   "execution_count": 21,
   "metadata": {},
   "outputs": [
    {
     "data": {
      "text/plain": [
       "[0, 1, 2]"
      ]
     },
     "execution_count": 21,
     "metadata": {},
     "output_type": "execute_result"
    }
   ],
   "source": [
    "s = \"abab\"\n",
    "p = \"ab\"\n",
    "findAnagrams(s,p)"
   ]
  },
  {
   "cell_type": "code",
   "execution_count": null,
   "metadata": {},
   "outputs": [],
   "source": []
  }
 ],
 "metadata": {
  "kernelspec": {
   "display_name": "Python 3",
   "language": "python",
   "name": "python3"
  },
  "language_info": {
   "codemirror_mode": {
    "name": "ipython",
    "version": 3
   },
   "file_extension": ".py",
   "mimetype": "text/x-python",
   "name": "python",
   "nbconvert_exporter": "python",
   "pygments_lexer": "ipython3",
   "version": "3.6.6"
  }
 },
 "nbformat": 4,
 "nbformat_minor": 2
}
