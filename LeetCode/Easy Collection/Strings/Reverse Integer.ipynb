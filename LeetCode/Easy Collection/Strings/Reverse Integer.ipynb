{
 "cells": [
  {
   "cell_type": "code",
   "execution_count": 48,
   "metadata": {},
   "outputs": [],
   "source": [
    "def reverse_int(n):\n",
    "\n",
    "    s = str(n)\n",
    "    if len(s)==1:\n",
    "        return n\n",
    "    \n",
    "    l = 0\n",
    "    r = len(s) -1\n",
    "    \n",
    "    t = [None] *(r+1)\n",
    "    \n",
    "    if s[0]=='-':\n",
    "        l+=1\n",
    "        t[0]=s[0]\n",
    "    \n",
    "    while l<=r:\n",
    "        t[l],t[r] = s[r],s[l]\n",
    "        l += 1\n",
    "        r -= 1\n",
    "    \n",
    "    res = int(''.join(t).strip('0'))\n",
    "    return  res * ( res <= (2**31-1) ) * (res>=(-2**31))"
   ]
  },
  {
   "cell_type": "code",
   "execution_count": 49,
   "metadata": {},
   "outputs": [
    {
     "data": {
      "text/plain": [
       "-321"
      ]
     },
     "execution_count": 49,
     "metadata": {},
     "output_type": "execute_result"
    }
   ],
   "source": [
    "n=-1230\n",
    "reverse_int(n)"
   ]
  },
  {
   "cell_type": "code",
   "execution_count": 50,
   "metadata": {},
   "outputs": [
    {
     "data": {
      "text/plain": [
       "321"
      ]
     },
     "execution_count": 50,
     "metadata": {},
     "output_type": "execute_result"
    }
   ],
   "source": [
    "n = 1230\n",
    "reverse_int(n)"
   ]
  },
  {
   "cell_type": "code",
   "execution_count": 51,
   "metadata": {},
   "outputs": [
    {
     "data": {
      "text/plain": [
       "109"
      ]
     },
     "execution_count": 51,
     "metadata": {},
     "output_type": "execute_result"
    }
   ],
   "source": [
    "n=901000\n",
    "reverse_int(n)"
   ]
  },
  {
   "cell_type": "code",
   "execution_count": null,
   "metadata": {},
   "outputs": [],
   "source": []
  }
 ],
 "metadata": {
  "kernelspec": {
   "display_name": "Python 3",
   "language": "python",
   "name": "python3"
  },
  "language_info": {
   "codemirror_mode": {
    "name": "ipython",
    "version": 3
   },
   "file_extension": ".py",
   "mimetype": "text/x-python",
   "name": "python",
   "nbconvert_exporter": "python",
   "pygments_lexer": "ipython3",
   "version": "3.6.6"
  }
 },
 "nbformat": 4,
 "nbformat_minor": 2
}
