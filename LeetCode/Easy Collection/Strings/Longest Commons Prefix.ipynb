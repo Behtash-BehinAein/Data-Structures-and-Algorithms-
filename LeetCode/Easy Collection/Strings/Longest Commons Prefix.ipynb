{
 "cells": [
  {
   "cell_type": "markdown",
   "metadata": {},
   "source": [
    "# Superior method"
   ]
  },
  {
   "cell_type": "code",
   "execution_count": 12,
   "metadata": {},
   "outputs": [],
   "source": [
    "def longestCommonPrefix(strs):\n",
    "    \n",
    "    res = ''\n",
    "    for s in zip(*strs):\n",
    "        if (s[0],) * len(s) == s:\n",
    "            res += s[0]\n",
    "        else: \n",
    "            break\n",
    "    \n",
    "    return res\n",
    "    "
   ]
  },
  {
   "cell_type": "markdown",
   "metadata": {},
   "source": [
    "# Logical method"
   ]
  },
  {
   "cell_type": "code",
   "execution_count": 4,
   "metadata": {},
   "outputs": [],
   "source": [
    "def longestCommonPrefix(strs):\n",
    "    \"\"\"\n",
    "    :type strs: List[str]\n",
    "    :rtype: str\n",
    "    \"\"\"\n",
    "\n",
    "    if len(strs) == 0:\n",
    "        return ''\n",
    "    if len(strs) == 1:\n",
    "        return strs[0]\n",
    "\n",
    "    l = 10**18\n",
    "    for w in strs:\n",
    "        l = min(l,len(w))\n",
    "\n",
    "    stop = False\n",
    "    i    = 0 \n",
    "    while not stop and i<l:\n",
    "        char = strs[0][i]\n",
    "        for w in strs:\n",
    "            if w[i] != char:\n",
    "                stop = True\n",
    "                break\n",
    "        i+=1\n",
    "        \n",
    "    \n",
    "    if l==1 and not stop:\n",
    "        return strs[0][0]\n",
    "    elif not stop:\n",
    "        return strs[0][:i]\n",
    "    else: \n",
    "        return strs[0][:i-1]"
   ]
  },
  {
   "cell_type": "markdown",
   "metadata": {},
   "source": [
    "# Test cases"
   ]
  },
  {
   "cell_type": "code",
   "execution_count": 13,
   "metadata": {},
   "outputs": [
    {
     "data": {
      "text/plain": [
       "'fl'"
      ]
     },
     "execution_count": 13,
     "metadata": {},
     "output_type": "execute_result"
    }
   ],
   "source": [
    "strs = ['flowr', 'flow' , 'flight']\n",
    "longestCommonPrefix(strs)"
   ]
  },
  {
   "cell_type": "code",
   "execution_count": 14,
   "metadata": {},
   "outputs": [
    {
     "data": {
      "text/plain": [
       "'c'"
      ]
     },
     "execution_count": 14,
     "metadata": {},
     "output_type": "execute_result"
    }
   ],
   "source": [
    "strs = ['c' , 'c']\n",
    "longestCommonPrefix(strs)"
   ]
  },
  {
   "cell_type": "code",
   "execution_count": 15,
   "metadata": {},
   "outputs": [
    {
     "data": {
      "text/plain": [
       "'a'"
      ]
     },
     "execution_count": 15,
     "metadata": {},
     "output_type": "execute_result"
    }
   ],
   "source": [
    "strs = ['aa', 'a']\n",
    "longestCommonPrefix(strs)"
   ]
  },
  {
   "cell_type": "code",
   "execution_count": null,
   "metadata": {},
   "outputs": [],
   "source": []
  }
 ],
 "metadata": {
  "kernelspec": {
   "display_name": "Python 3",
   "language": "python",
   "name": "python3"
  },
  "language_info": {
   "codemirror_mode": {
    "name": "ipython",
    "version": 3
   },
   "file_extension": ".py",
   "mimetype": "text/x-python",
   "name": "python",
   "nbconvert_exporter": "python",
   "pygments_lexer": "ipython3",
   "version": "3.6.6"
  }
 },
 "nbformat": 4,
 "nbformat_minor": 2
}
