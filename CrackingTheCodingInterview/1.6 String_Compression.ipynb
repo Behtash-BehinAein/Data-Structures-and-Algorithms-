{
 "cells": [
  {
   "cell_type": "code",
   "execution_count": 37,
   "metadata": {},
   "outputs": [],
   "source": [
    "def compress(chars):\n",
    "    \n",
    "\n",
    "    if len(chars) == 0 or len(chars) == 1:\n",
    "        return len(chars)\n",
    "\n",
    "    index = 0\n",
    "    reps = 1\n",
    "    for i in range(1,len(chars)):\n",
    "        if chars[i] == chars[i-1]:\n",
    "            reps +=1\n",
    "        else:\n",
    "            chars[index] = chars[i-1]\n",
    "            tmp = []\n",
    "            if reps > 1:\n",
    "                tmp = [c for c in str(reps)]\n",
    "                chars[index+1 : index+1+len(tmp)] = tmp\n",
    "            index = index + 1 + len(tmp)\n",
    "            reps = 1\n",
    "            \n",
    "        if i == len(chars) - 1:\n",
    "            chars[index] = chars[i]\n",
    "            tmp = []\n",
    "            if reps>1:\n",
    "                tmp = [c for c in str(reps)]\n",
    "                chars[index+1 : index+1+len(tmp)] = tmp\n",
    "            index = index + 1 + len(tmp)\n",
    "        \n",
    "    return index "
   ]
  },
  {
   "cell_type": "code",
   "execution_count": 38,
   "metadata": {},
   "outputs": [
    {
     "data": {
      "text/plain": [
       "(6, ['a', '2', 'b', '2', 'c', '3', 'c'])"
      ]
     },
     "execution_count": 38,
     "metadata": {},
     "output_type": "execute_result"
    }
   ],
   "source": [
    "chars = [\"a\",\"a\",\"b\",\"b\",\"c\",\"c\",\"c\"]\n",
    "compress(chars) , chars"
   ]
  },
  {
   "cell_type": "code",
   "execution_count": 39,
   "metadata": {},
   "outputs": [
    {
     "data": {
      "text/plain": [
       "(3, ['a', '5', 'b', 'a', 'a', 'b'])"
      ]
     },
     "execution_count": 39,
     "metadata": {},
     "output_type": "execute_result"
    }
   ],
   "source": [
    "chars = [\"a\",\"a\",\"a\",\"a\",\"a\",\"b\"]\n",
    "compress(chars), chars"
   ]
  },
  {
   "cell_type": "code",
   "execution_count": 40,
   "metadata": {},
   "outputs": [
    {
     "data": {
      "text/plain": [
       "(3, ['a', 'b', 'c'])"
      ]
     },
     "execution_count": 40,
     "metadata": {},
     "output_type": "execute_result"
    }
   ],
   "source": [
    "chars = ['a','b','c']\n",
    "compress(chars), chars"
   ]
  },
  {
   "cell_type": "code",
   "execution_count": null,
   "metadata": {},
   "outputs": [],
   "source": []
  }
 ],
 "metadata": {
  "kernelspec": {
   "display_name": "Python 3",
   "language": "python",
   "name": "python3"
  },
  "language_info": {
   "codemirror_mode": {
    "name": "ipython",
    "version": 3
   },
   "file_extension": ".py",
   "mimetype": "text/x-python",
   "name": "python",
   "nbconvert_exporter": "python",
   "pygments_lexer": "ipython3",
   "version": "3.6.6"
  }
 },
 "nbformat": 4,
 "nbformat_minor": 2
}
