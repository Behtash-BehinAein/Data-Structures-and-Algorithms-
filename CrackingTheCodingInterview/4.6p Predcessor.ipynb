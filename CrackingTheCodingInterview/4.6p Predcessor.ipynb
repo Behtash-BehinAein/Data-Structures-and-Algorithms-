{
 "cells": [
  {
   "cell_type": "code",
   "execution_count": 3,
   "metadata": {},
   "outputs": [],
   "source": [
    "class Node():\n",
    "    def __init__(self, value):\n",
    "        self.value = value\n",
    "        self.right = None\n",
    "        self.left  = None \n",
    "        self.parent = None\n",
    "    def __repr__(self):\n",
    "        return str(self.value)\n",
    "    "
   ]
  },
  {
   "cell_type": "markdown",
   "metadata": {},
   "source": [
    "# A sample tree"
   ]
  },
  {
   "cell_type": "code",
   "execution_count": 4,
   "metadata": {},
   "outputs": [],
   "source": [
    "root = Node(15)\n",
    "root.left , root.right = Node(6) , Node(18)\n",
    "root.left.parent , root.right.parent = root, root\n",
    "\n",
    "root.left.left , root.left.right = Node(3) , Node(7)\n",
    "root.left.left.parent , root.left.right.parent = root.left , root.left\n",
    "\n",
    "root.right.left , root.right.right = Node(17) , Node(20)\n",
    "root.right.left.parent , root.right.right.parent = root.right, root.right\n",
    "\n",
    "root.left.left.left , root.left.left.right = Node(2) , Node(4)\n",
    "root.left.left.left.parent , root.left.left.right.parent = root.left.left , root.left.left\n",
    "\n",
    "root.left.right.right        = Node(13)\n",
    "root.left.right.right.parent = root.left.right \n",
    "\n",
    "root.left.right.right.left  = Node(9) \n",
    "root.left.right.right.left.parent  = root.left.right.right\n",
    "\n"
   ]
  },
  {
   "cell_type": "markdown",
   "metadata": {},
   "source": [
    "# Tree maximum recursive"
   ]
  },
  {
   "cell_type": "code",
   "execution_count": 76,
   "metadata": {},
   "outputs": [
    {
     "data": {
      "text/plain": [
       "20"
      ]
     },
     "execution_count": 76,
     "metadata": {},
     "output_type": "execute_result"
    }
   ],
   "source": [
    "def treeMax(node):\n",
    "    if node.right: \n",
    "        return treeMax(node.right) \n",
    "    return node \n",
    "\n",
    "\n",
    "treeMax(root)"
   ]
  },
  {
   "cell_type": "markdown",
   "metadata": {},
   "source": [
    "# Tree maximum iterative"
   ]
  },
  {
   "cell_type": "code",
   "execution_count": 6,
   "metadata": {},
   "outputs": [
    {
     "data": {
      "text/plain": [
       "20"
      ]
     },
     "execution_count": 6,
     "metadata": {},
     "output_type": "execute_result"
    }
   ],
   "source": [
    "def treeMax(node):\n",
    "    while node.right: \n",
    "        node = node.right \n",
    "    return node\n",
    "treeMax(root) "
   ]
  },
  {
   "cell_type": "markdown",
   "metadata": {},
   "source": [
    "# Recursive"
   ]
  },
  {
   "cell_type": "code",
   "execution_count": 7,
   "metadata": {},
   "outputs": [
    {
     "data": {
      "text/plain": [
       "15"
      ]
     },
     "execution_count": 7,
     "metadata": {},
     "output_type": "execute_result"
    }
   ],
   "source": [
    "def predecessor(node, root):\n",
    "    \n",
    "    if node.left: \n",
    "        return treeMax(node.left)\n",
    "    \n",
    "    def helper(root, pred):\n",
    "        \n",
    "        if root.value > node.value:\n",
    "            return helper(root.left, pred)\n",
    "        elif root.value < node.value: \n",
    "            pred = root\n",
    "            return helper(root.right, pred)\n",
    "        else: \n",
    "            return pred\n",
    "        \n",
    "    \n",
    "    return helper(root, None)\n",
    "    \n",
    "    \n",
    "\n",
    "predecessor(root.right.left, root)"
   ]
  },
  {
   "cell_type": "markdown",
   "metadata": {},
   "source": [
    "# Iterative"
   ]
  },
  {
   "cell_type": "code",
   "execution_count": 8,
   "metadata": {},
   "outputs": [
    {
     "data": {
      "text/plain": [
       "3"
      ]
     },
     "execution_count": 8,
     "metadata": {},
     "output_type": "execute_result"
    }
   ],
   "source": [
    "def predecessor(node, root):\n",
    "    \n",
    "    if node.left: \n",
    "        return treeMax(node.left)\n",
    "\n",
    "    pred = None \n",
    "    while root:\n",
    "        if root.value > node.value:\n",
    "            root = root.left\n",
    "        elif root.value < node.value: \n",
    "            pred = root\n",
    "            root = root.right \n",
    "        else: \n",
    "            return pred\n",
    "    \n",
    "\n",
    "predecessor(root.left.left.right, root)"
   ]
  },
  {
   "cell_type": "code",
   "execution_count": null,
   "metadata": {},
   "outputs": [],
   "source": []
  }
 ],
 "metadata": {
  "kernelspec": {
   "display_name": "Python 3",
   "language": "python",
   "name": "python3"
  },
  "language_info": {
   "codemirror_mode": {
    "name": "ipython",
    "version": 3
   },
   "file_extension": ".py",
   "mimetype": "text/x-python",
   "name": "python",
   "nbconvert_exporter": "python",
   "pygments_lexer": "ipython3",
   "version": "3.6.6"
  }
 },
 "nbformat": 4,
 "nbformat_minor": 2
}
