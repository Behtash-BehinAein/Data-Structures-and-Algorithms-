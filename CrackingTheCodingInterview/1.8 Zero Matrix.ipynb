{
 "cells": [
  {
   "cell_type": "code",
   "execution_count": 60,
   "metadata": {},
   "outputs": [],
   "source": [
    "def zeroMatrix(arr):\n",
    "    \n",
    "    zero_rows = []\n",
    "    zero_cols = []\n",
    "    for row in range(len(arr)):  # rows \n",
    "        for col in range(len(arr[0])) : #cols\n",
    "            if arr[row][col] == 0:\n",
    "                zero_rows.append(row)\n",
    "                zero_cols.append(col)\n",
    "                \n",
    "    for row in zero_rows: \n",
    "        arr[row] = [0] * len(arr[0])\n",
    "\n",
    "    for row in range(len(arr)):  # rows \n",
    "        for col in zero_cols: \n",
    "            arr[row][col] = 0\n",
    "    \n",
    "    \n",
    "    \n",
    "    "
   ]
  },
  {
   "cell_type": "code",
   "execution_count": 64,
   "metadata": {},
   "outputs": [],
   "source": [
    "#array = [[1,2,3], [4,0,6] , [7,8,9]]\n",
    "array = [[1,2,3,4], [5,6,0,8], [9,10,11,12], [13,14,15,16]]"
   ]
  },
  {
   "cell_type": "code",
   "execution_count": 65,
   "metadata": {},
   "outputs": [],
   "source": [
    "def printMatrix(array):\n",
    "    for row in array:\n",
    "        print(row)"
   ]
  },
  {
   "cell_type": "code",
   "execution_count": 66,
   "metadata": {},
   "outputs": [
    {
     "name": "stdout",
     "output_type": "stream",
     "text": [
      "[1, 2, 3, 4]\n",
      "[5, 6, 0, 8]\n",
      "[9, 10, 11, 12]\n",
      "[13, 14, 15, 16]\n",
      "----------\n",
      "[1, 2, 0, 4]\n",
      "[0, 0, 0, 0]\n",
      "[9, 10, 0, 12]\n",
      "[13, 14, 0, 16]\n"
     ]
    }
   ],
   "source": [
    "printMatrix(array)\n",
    "\n",
    "zeroMatrix(array)\n",
    "print('-'*10)\n",
    "\n",
    "printMatrix(array)\n"
   ]
  },
  {
   "cell_type": "code",
   "execution_count": null,
   "metadata": {},
   "outputs": [],
   "source": []
  }
 ],
 "metadata": {
  "kernelspec": {
   "display_name": "Python 3",
   "language": "python",
   "name": "python3"
  },
  "language_info": {
   "codemirror_mode": {
    "name": "ipython",
    "version": 3
   },
   "file_extension": ".py",
   "mimetype": "text/x-python",
   "name": "python",
   "nbconvert_exporter": "python",
   "pygments_lexer": "ipython3",
   "version": "3.6.6"
  }
 },
 "nbformat": 4,
 "nbformat_minor": 2
}
