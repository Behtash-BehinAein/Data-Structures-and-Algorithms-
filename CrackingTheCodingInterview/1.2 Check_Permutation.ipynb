{
 "cells": [
  {
   "cell_type": "code",
   "execution_count": 2,
   "metadata": {},
   "outputs": [],
   "source": [
    "def check_Permutation(s1 , s2):\n",
    "    \n",
    "    if len(s1) != len(s2):\n",
    "        return False \n",
    "    \n",
    "    chars = [0]*128\n",
    "    for c in s1:\n",
    "        chars[ord(c)] += 1\n",
    "    for c in s2:\n",
    "        chars[ord(c)] -= 1\n",
    "        if chars[ord(c)] <0:\n",
    "            return False\n",
    "\n",
    "    return True\n",
    "    \n",
    "    "
   ]
  },
  {
   "cell_type": "code",
   "execution_count": 3,
   "metadata": {},
   "outputs": [
    {
     "data": {
      "text/plain": [
       "False"
      ]
     },
     "execution_count": 3,
     "metadata": {},
     "output_type": "execute_result"
    }
   ],
   "source": [
    "s1  = 'died'\n",
    "s2  = 'eidv'\n",
    "\n",
    "check_Permutation(s1,s2)"
   ]
  },
  {
   "cell_type": "code",
   "execution_count": 10,
   "metadata": {},
   "outputs": [
    {
     "name": "stdout",
     "output_type": "stream",
     "text": [
      "YES\n"
     ]
    },
    {
     "data": {
      "text/plain": [
       "True"
      ]
     },
     "execution_count": 10,
     "metadata": {},
     "output_type": "execute_result"
    }
   ],
   "source": [
    "s1 = \"adc\"\n",
    "s2 = \"cda\"\n",
    "check_Permutation(s1,s2)"
   ]
  },
  {
   "cell_type": "code",
   "execution_count": 9,
   "metadata": {},
   "outputs": [],
   "source": [
    "def check_Permutation(s1 , s2):\n",
    "    chars_init = [0]*128\n",
    "    for c in s1: \n",
    "        chars_init[ord(c)] +=1\n",
    "\n",
    "    def isPermutation(sub_s2):\n",
    "        chars = chars_init\n",
    "        for c in sub_s2:\n",
    "            chars[ord(c)] -=1\n",
    "            if chars[ord(c)] < 0:\n",
    "                return False\n",
    "        print('YES')\n",
    "        return True\n",
    "    return isPermutation(s2)"
   ]
  },
  {
   "cell_type": "code",
   "execution_count": 12,
   "metadata": {},
   "outputs": [
    {
     "data": {
      "text/plain": [
       "[1, 2, 3, 4]"
      ]
     },
     "execution_count": 12,
     "metadata": {},
     "output_type": "execute_result"
    }
   ],
   "source": [
    "z= [1,2,3,4]\n",
    "tmp = z.copy()\n",
    "tmp[0] = 93\n",
    "z"
   ]
  },
  {
   "cell_type": "code",
   "execution_count": null,
   "metadata": {},
   "outputs": [],
   "source": []
  }
 ],
 "metadata": {
  "kernelspec": {
   "display_name": "Python 3",
   "language": "python",
   "name": "python3"
  },
  "language_info": {
   "codemirror_mode": {
    "name": "ipython",
    "version": 3
   },
   "file_extension": ".py",
   "mimetype": "text/x-python",
   "name": "python",
   "nbconvert_exporter": "python",
   "pygments_lexer": "ipython3",
   "version": "3.6.6"
  }
 },
 "nbformat": 4,
 "nbformat_minor": 2
}
