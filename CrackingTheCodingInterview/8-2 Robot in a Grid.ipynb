{
 "cells": [
  {
   "cell_type": "code",
   "execution_count": 4,
   "metadata": {},
   "outputs": [],
   "source": [
    "arr = [[0 for i in range(5)] for j in range(6)]\n",
    "arr[0][3] = arr[2][2] = arr[3][1] = 1\n",
    "arr[1][2] = arr[4][1] = arr[5][1] = 1  "
   ]
  },
  {
   "cell_type": "code",
   "execution_count": 5,
   "metadata": {},
   "outputs": [
    {
     "data": {
      "text/plain": [
       "[]"
      ]
     },
     "execution_count": 5,
     "metadata": {},
     "output_type": "execute_result"
    }
   ],
   "source": [
    "def findPath(arr):\n",
    "    \n",
    "    def isValid(curr):\n",
    "        i,j = curr\n",
    "        if i>=len(arr) or j >= len(arr[0]):\n",
    "            return False \n",
    "        if arr[i][j] == 0 :\n",
    "            return True \n",
    "        else: \n",
    "            return False\n",
    "    \n",
    "    def helper(curr, path):\n",
    "        if curr == (len(arr)-1, len(arr[0]) -1):\n",
    "            path.append(curr)\n",
    "            return path \n",
    "        \n",
    "        if isValid(curr):\n",
    "            right = curr[0]   , curr[1]+1 \n",
    "            down  = curr[0]+1 , curr[1]\n",
    "            path.append(curr)\n",
    "            return helper(right, path[:]) or helper(down, path[:])\n",
    "        \n",
    "        else: return []\n",
    "        \n",
    "    return helper((0,0), [])\n",
    "            \n",
    "    \n",
    "findPath(arr)   \n",
    "    "
   ]
  },
  {
   "cell_type": "code",
   "execution_count": 6,
   "metadata": {},
   "outputs": [
    {
     "data": {
      "text/plain": [
       "[]"
      ]
     },
     "execution_count": 6,
     "metadata": {},
     "output_type": "execute_result"
    }
   ],
   "source": [
    "def find_a_path(arr):\n",
    "    \n",
    "    def helper(path, curr):\n",
    "        \n",
    "        i,j = curr[0] , curr[1]\n",
    "        \n",
    "        if (i,j) == (len(arr)-1 , len(arr[0])-1 ):\n",
    "            path.append(curr)\n",
    "            return path\n",
    "        \n",
    "        elif  i>len(arr)-1 or j>len(arr[0])-1 or arr[i][j] == 1:\n",
    "            return []\n",
    "        else: \n",
    "            path.append(curr)\n",
    "            \n",
    "        return helper(path[:], (i+1,j)) or helper(path[:], (i, j+1))\n",
    "        \n",
    "        \n",
    "    return helper([],(0,0))\n",
    "    \n",
    "find_a_path(arr)"
   ]
  },
  {
   "cell_type": "code",
   "execution_count": null,
   "metadata": {},
   "outputs": [],
   "source": []
  }
 ],
 "metadata": {
  "kernelspec": {
   "display_name": "Python 3",
   "language": "python",
   "name": "python3"
  },
  "language_info": {
   "codemirror_mode": {
    "name": "ipython",
    "version": 3
   },
   "file_extension": ".py",
   "mimetype": "text/x-python",
   "name": "python",
   "nbconvert_exporter": "python",
   "pygments_lexer": "ipython3",
   "version": "3.6.6"
  }
 },
 "nbformat": 4,
 "nbformat_minor": 2
}
