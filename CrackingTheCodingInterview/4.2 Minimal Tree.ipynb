{
 "cells": [
  {
   "cell_type": "code",
   "execution_count": 10,
   "metadata": {},
   "outputs": [],
   "source": [
    "class Node():\n",
    "    def __init__(self, value):\n",
    "        self.value = value\n",
    "        self.right = None\n",
    "        self.left  = None \n",
    "        self.parent = None\n",
    "    def __repr__(self):\n",
    "        return str(self.value)\n",
    "    "
   ]
  },
  {
   "cell_type": "code",
   "execution_count": 7,
   "metadata": {},
   "outputs": [
    {
     "data": {
      "text/plain": [
       "5"
      ]
     },
     "execution_count": 7,
     "metadata": {},
     "output_type": "execute_result"
    }
   ],
   "source": [
    "def build_min_tree(arr):\n",
    "    \n",
    "    if not arr:\n",
    "        return None \n",
    "\n",
    "    med_idx = len(arr)//2 \n",
    "    node = Node(arr[med_idx])\n",
    "    node.left  = build_min_tree(arr[:med_idx])\n",
    "    node.right = build_min_tree(arr[med_idx+1:])\n",
    "    \n",
    "    return node \n",
    "    \n",
    "\n",
    "sorted_arr = [1,2,3,4,5,6,7,8]\n",
    "build_min_tree(sorted_arr)"
   ]
  },
  {
   "cell_type": "code",
   "execution_count": 9,
   "metadata": {},
   "outputs": [
    {
     "data": {
      "text/plain": [
       "5"
      ]
     },
     "execution_count": 9,
     "metadata": {},
     "output_type": "execute_result"
    }
   ],
   "source": [
    "def minimal_tree(arr):\n",
    "    \n",
    "    if arr: \n",
    "        mid = len(arr)//2\n",
    "        node = Node(arr[mid])\n",
    "        node.left = minimal_tree(arr[:mid])\n",
    "        node.right = minimal_tree(arr[mid+1:])\n",
    "\n",
    "        return node\n",
    "\n",
    "sorted_arr = [1,2,3,4,5,6,7,8]\n",
    "minimal_tree(sorted_arr)"
   ]
  },
  {
   "cell_type": "code",
   "execution_count": 8,
   "metadata": {},
   "outputs": [
    {
     "data": {
      "text/plain": [
       "[[5], [3, 7], [2, 4, 6, 8], [1]]"
      ]
     },
     "execution_count": 8,
     "metadata": {},
     "output_type": "execute_result"
    }
   ],
   "source": [
    "def levelOrderTraversal(root):\n",
    "    if root:\n",
    "        treeLevels = []\n",
    "        treeLevels.append([root])\n",
    "        for level in treeLevels:\n",
    "            children = []\n",
    "            for node in level: \n",
    "                if node.left:  children.append(node.left)\n",
    "                if node.right: children.append(node.right)\n",
    "            if children:\n",
    "                treeLevels.append(children)\n",
    "\n",
    "        return [[node.value for node in level] for level in treeLevels]\n",
    "    \n",
    "levelOrderTraversal(build_min_tree(sorted_arr))\n",
    "    "
   ]
  },
  {
   "cell_type": "code",
   "execution_count": 14,
   "metadata": {},
   "outputs": [
    {
     "data": {
      "text/plain": [
       "[[9], [4, 17], [3, 7, 15, 20], [2, 6, 13, 18]]"
      ]
     },
     "execution_count": 14,
     "metadata": {},
     "output_type": "execute_result"
    }
   ],
   "source": [
    "arr = [2, 3, 4, 6, 7, 13, 15, 9, 17, 18, 20]\n",
    "sorted_arr = sorted(arr)\n",
    "build_min_tree(sorted_arr)\n",
    "levelOrderTraversal(build_min_tree(sorted_arr))"
   ]
  },
  {
   "cell_type": "code",
   "execution_count": null,
   "metadata": {},
   "outputs": [],
   "source": [
    "[[15], [6, 18], [3, 7, 17, 20], [2, 4, 13], [9]]"
   ]
  }
 ],
 "metadata": {
  "kernelspec": {
   "display_name": "Python 3",
   "language": "python",
   "name": "python3"
  },
  "language_info": {
   "codemirror_mode": {
    "name": "ipython",
    "version": 3
   },
   "file_extension": ".py",
   "mimetype": "text/x-python",
   "name": "python",
   "nbconvert_exporter": "python",
   "pygments_lexer": "ipython3",
   "version": "3.6.6"
  }
 },
 "nbformat": 4,
 "nbformat_minor": 2
}
