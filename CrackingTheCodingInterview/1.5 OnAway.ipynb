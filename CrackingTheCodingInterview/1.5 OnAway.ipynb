{
 "cells": [
  {
   "cell_type": "code",
   "execution_count": 29,
   "metadata": {},
   "outputs": [],
   "source": [
    "def isOneEditAway(s, t):\n",
    "    \n",
    "    if len(s) > len(t):\n",
    "        s , t = t , s\n",
    "\n",
    "    if abs(len(s) - len(t)) > 1:\n",
    "        return False    \n",
    "\n",
    "    for i in range(len(s)):\n",
    "        if s[i] != t[i]:\n",
    "            return s[i+1:] == t[i+1:] or s[i:] == t[i+1:] \n",
    "    \n",
    "    return len(s) == len(t) - 1  \n",
    "    "
   ]
  },
  {
   "cell_type": "code",
   "execution_count": 3,
   "metadata": {},
   "outputs": [],
   "source": [
    "s = 'pale'\n",
    "t = 'ple'\n",
    "\n",
    "s = 'pales'\n",
    "t = 'pale'\n",
    "\n",
    "s = 'pale'\n",
    "t = 'bale'\n",
    "\n",
    "s = 'pale'\n",
    "t = 'bake'\n",
    "\n",
    "s = 'teacher'\n",
    "t = 'acher'\n",
    "\n",
    "s = ''\n",
    "t = ''\n",
    "\n",
    "s = 'cab'\n",
    "t = 'ad'\n",
    "\n",
    "s = 'a'\n",
    "t = 'ac'\n",
    "\n",
    "s = 'ab'\n",
    "t = 'acb'\n",
    "\n",
    "s = 'a'\n",
    "t = ''\n",
    "\n",
    "\n",
    "s = 'A'\n",
    "t = 'a'\n",
    "\n",
    "s = 'teacher'\n",
    "t = 'detcher'"
   ]
  },
  {
   "cell_type": "code",
   "execution_count": 30,
   "metadata": {},
   "outputs": [
    {
     "data": {
      "text/plain": [
       "True"
      ]
     },
     "execution_count": 30,
     "metadata": {},
     "output_type": "execute_result"
    }
   ],
   "source": [
    "s = 'pales'\n",
    "t = 'pale'\n",
    "isOneEditAway(s,t)"
   ]
  },
  {
   "cell_type": "code",
   "execution_count": 14,
   "metadata": {},
   "outputs": [],
   "source": [
    "a = [1,2,3,4]"
   ]
  },
  {
   "cell_type": "code",
   "execution_count": 15,
   "metadata": {},
   "outputs": [
    {
     "data": {
      "text/plain": [
       "4"
      ]
     },
     "execution_count": 15,
     "metadata": {},
     "output_type": "execute_result"
    }
   ],
   "source": [
    "len(a)"
   ]
  },
  {
   "cell_type": "code",
   "execution_count": 41,
   "metadata": {},
   "outputs": [],
   "source": [
    "count = 12\n",
    "tmp = [c for c in str(count)]"
   ]
  },
  {
   "cell_type": "code",
   "execution_count": 39,
   "metadata": {},
   "outputs": [],
   "source": [
    "z = [0,1,2,3,4,5,6]\n",
    "z[0:len(tmp)] = tmp"
   ]
  },
  {
   "cell_type": "code",
   "execution_count": 42,
   "metadata": {},
   "outputs": [
    {
     "data": {
      "text/plain": [
       "['1', '2']"
      ]
     },
     "execution_count": 42,
     "metadata": {},
     "output_type": "execute_result"
    }
   ],
   "source": [
    "tmp"
   ]
  },
  {
   "cell_type": "code",
   "execution_count": null,
   "metadata": {},
   "outputs": [],
   "source": []
  }
 ],
 "metadata": {
  "kernelspec": {
   "display_name": "Python 3",
   "language": "python",
   "name": "python3"
  },
  "language_info": {
   "codemirror_mode": {
    "name": "ipython",
    "version": 3
   },
   "file_extension": ".py",
   "mimetype": "text/x-python",
   "name": "python",
   "nbconvert_exporter": "python",
   "pygments_lexer": "ipython3",
   "version": "3.6.6"
  }
 },
 "nbformat": 4,
 "nbformat_minor": 2
}
