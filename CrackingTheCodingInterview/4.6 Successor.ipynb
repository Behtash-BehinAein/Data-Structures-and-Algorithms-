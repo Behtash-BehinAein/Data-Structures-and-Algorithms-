{
 "cells": [
  {
   "cell_type": "code",
   "execution_count": 1,
   "metadata": {},
   "outputs": [],
   "source": [
    "class Node():\n",
    "    def __init__(self, value):\n",
    "        self.value = value\n",
    "        self.right = None\n",
    "        self.left  = None \n",
    "        self.parent = None\n",
    "    def __repr__(self):\n",
    "        return str(self.value)\n",
    "    "
   ]
  },
  {
   "cell_type": "markdown",
   "metadata": {},
   "source": [
    "# A sample tree"
   ]
  },
  {
   "cell_type": "code",
   "execution_count": 24,
   "metadata": {},
   "outputs": [],
   "source": [
    "root = Node(15)\n",
    "root.left , root.right = Node(6) , Node(18)\n",
    "root.left.parent , root.right.parent = root, root\n",
    "\n",
    "root.left.left , root.left.right = Node(3) , Node(7)\n",
    "root.left.left.parent , root.left.right.parent = root.left , root.left\n",
    "\n",
    "root.right.left , root.right.right = Node(17) , Node(20)\n",
    "root.right.left.parent , root.right.right.parent = root.right, root.right\n",
    "\n",
    "root.left.left.left , root.left.left.right = Node(2) , Node(4)\n",
    "root.left.left.left.parent , root.left.left.right.parent = root.left.left , root.left.left\n",
    "\n",
    "root.left.right.right        = Node(13)\n",
    "root.left.right.right.parent = root.left.right \n",
    "\n",
    "root.left.right.right.left  = Node(9) \n",
    "root.left.right.right.left.parent  = root.left.right.right\n",
    "\n"
   ]
  },
  {
   "cell_type": "markdown",
   "metadata": {},
   "source": [
    "# Tree minimum recursive"
   ]
  },
  {
   "cell_type": "code",
   "execution_count": 4,
   "metadata": {},
   "outputs": [
    {
     "data": {
      "text/plain": [
       "(2, None)"
      ]
     },
     "execution_count": 4,
     "metadata": {},
     "output_type": "execute_result"
    }
   ],
   "source": [
    "def tree_min(root):\n",
    "    if node.left:\n",
    "        return tree_min(node.left)\n",
    "    return node\n",
    "tree_min(root) , tree_min(Node(None))"
   ]
  },
  {
   "cell_type": "markdown",
   "metadata": {},
   "source": [
    "# Tree minimum iterative"
   ]
  },
  {
   "cell_type": "code",
   "execution_count": 5,
   "metadata": {},
   "outputs": [
    {
     "data": {
      "text/plain": [
       "(2, None)"
      ]
     },
     "execution_count": 5,
     "metadata": {},
     "output_type": "execute_result"
    }
   ],
   "source": [
    "def tree_min(root):\n",
    "    if node: \n",
    "        while node.left:\n",
    "            node = node.left\n",
    "    return node \n",
    "\n",
    "tree_min(root) , tree_min(Node(None))"
   ]
  },
  {
   "cell_type": "markdown",
   "metadata": {},
   "source": [
    "# Successor iterative with parent node "
   ]
  },
  {
   "cell_type": "code",
   "execution_count": 20,
   "metadata": {},
   "outputs": [
    {
     "data": {
      "text/plain": [
       "9"
      ]
     },
     "execution_count": 20,
     "metadata": {},
     "output_type": "execute_result"
    }
   ],
   "source": [
    "def successor(node):\n",
    "    \n",
    "    if node.right: \n",
    "        return tree_min(node.right)\n",
    "    \n",
    "    while node.parent.right == node:\n",
    "        node = node.parent\n",
    "    return node.parent\n",
    "\n",
    "successor(root.left.right)\n",
    "       \n",
    "    "
   ]
  },
  {
   "cell_type": "markdown",
   "metadata": {},
   "source": [
    "# Successor iterative without parant node"
   ]
  },
  {
   "cell_type": "code",
   "execution_count": 16,
   "metadata": {},
   "outputs": [
    {
     "data": {
      "text/plain": [
       "6"
      ]
     },
     "execution_count": 16,
     "metadata": {},
     "output_type": "execute_result"
    }
   ],
   "source": [
    "def successor(root, node):\n",
    "    \n",
    "    if node.right: \n",
    "        return tree_min(node.right)    \n",
    "    \n",
    "    succ = None\n",
    "    while root: \n",
    "        \n",
    "        if root.value > node.value:\n",
    "            succ = root\n",
    "            root = root.left\n",
    "        elif root.value < node.value: \n",
    "            root = root.right\n",
    "        else:\n",
    "            return succ \n",
    "\n",
    "successor(root, root.left.left.right)  \n",
    "       \n",
    "    "
   ]
  },
  {
   "cell_type": "markdown",
   "metadata": {},
   "source": [
    "# Successor recursive without parent node "
   ]
  },
  {
   "cell_type": "code",
   "execution_count": 18,
   "metadata": {},
   "outputs": [
    {
     "data": {
      "text/plain": [
       "6"
      ]
     },
     "execution_count": 18,
     "metadata": {},
     "output_type": "execute_result"
    }
   ],
   "source": [
    "def succ(root, node):\n",
    "    \n",
    "    if node and node.right: \n",
    "        return tree_min(node.right)       \n",
    "    \n",
    "    def helper(root, succ):\n",
    "        if root.value > node.value:\n",
    "            succ = root\n",
    "            return helper(root.left, succ)\n",
    "        elif root.value < node.value:\n",
    "            return helper(root.right, succ)\n",
    "        else: \n",
    "            return succ\n",
    "\n",
    "    return helper(root, None)\n",
    "\n",
    "succ(root, root.left.left.right)               "
   ]
  },
  {
   "cell_type": "code",
   "execution_count": null,
   "metadata": {},
   "outputs": [],
   "source": []
  }
 ],
 "metadata": {
  "kernelspec": {
   "display_name": "Python 3",
   "language": "python",
   "name": "python3"
  },
  "language_info": {
   "codemirror_mode": {
    "name": "ipython",
    "version": 3
   },
   "file_extension": ".py",
   "mimetype": "text/x-python",
   "name": "python",
   "nbconvert_exporter": "python",
   "pygments_lexer": "ipython3",
   "version": "3.6.6"
  }
 },
 "nbformat": 4,
 "nbformat_minor": 2
}
