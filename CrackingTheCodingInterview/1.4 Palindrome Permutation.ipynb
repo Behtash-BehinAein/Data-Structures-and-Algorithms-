{
 "cells": [
  {
   "cell_type": "code",
   "execution_count": 22,
   "metadata": {},
   "outputs": [],
   "source": [
    "def isPermutations_Of_Palindrome(s):\n",
    "    \n",
    "    s = s.lower()\n",
    "    s = s.replace(' ', '')\n",
    "    char_counts = {}\n",
    "    for c in s: \n",
    "        char_counts[c] = char_counts.get(c,0) + 1\n",
    "    \n",
    "    odd_cnt = 0\n",
    "    for parity in char_counts.values():\n",
    "        if parity%2 != 0 :\n",
    "            odd_cnt +=1\n",
    "        if odd_cnt>1:\n",
    "            return False\n",
    "    return True\n",
    "        \n",
    "    "
   ]
  },
  {
   "cell_type": "code",
   "execution_count": 25,
   "metadata": {},
   "outputs": [
    {
     "data": {
      "text/plain": [
       "False"
      ]
     },
     "execution_count": 25,
     "metadata": {},
     "output_type": "execute_result"
    }
   ],
   "source": [
    "#s = 'Tact Coa'\n",
    "#s = 'Able was I ere I saw Elba'\n",
    "#s = 'Never odd or even'\n",
    "s = 'Adam'\n",
    "isPermutations_Of_Palindrome(s)\n",
    "\n"
   ]
  },
  {
   "cell_type": "code",
   "execution_count": null,
   "metadata": {},
   "outputs": [],
   "source": []
  }
 ],
 "metadata": {
  "kernelspec": {
   "display_name": "Python 3",
   "language": "python",
   "name": "python3"
  },
  "language_info": {
   "codemirror_mode": {
    "name": "ipython",
    "version": 3
   },
   "file_extension": ".py",
   "mimetype": "text/x-python",
   "name": "python",
   "nbconvert_exporter": "python",
   "pygments_lexer": "ipython3",
   "version": "3.6.6"
  }
 },
 "nbformat": 4,
 "nbformat_minor": 2
}
